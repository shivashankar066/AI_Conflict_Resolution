{
 "cells": [
  {
   "cell_type": "code",
   "execution_count": 915,
   "id": "ee917d91",
   "metadata": {},
   "outputs": [],
   "source": [
    "import pandas as pd\n",
    "import pyodbc\n",
    "from catboost import CatBoostRegressor\n",
    "import pickle\n",
    "from sklearn.metrics import mean_squared_error, mean_absolute_error   \n",
    "from sklearn.model_selection import train_test_split\n",
    "\n",
    "import warnings\n",
    "warnings.filterwarnings(\"ignore\")"
   ]
  },
  {
   "cell_type": "code",
   "execution_count": 916,
   "id": "29398604",
   "metadata": {},
   "outputs": [],
   "source": [
    "server = '10.0.1.40' \n",
    "database = 'Ntier_EPIC' \n",
    "username = 'Sisenseuser' \n",
    "password = '!w@ntd@t@#123'  \n",
    "cnxn = pyodbc.connect('DRIVER={SQL Server};SERVER='+server+';DATABASE='+database+';UID='+username+';PWD='+ password)\n",
    "cursor = cnxn.cursor()"
   ]
  },
  {
   "cell_type": "code",
   "execution_count": 917,
   "id": "0468d9e0",
   "metadata": {},
   "outputs": [],
   "source": [
    "query = \"\"\"Select distinct t1.Service_ID,t1.Patient_Number,t5.patient_age,t1.Actual_Dr_Name,\n",
    "            t1.Place_of_Service_Abbr,t1.Proc_Category_Abbr,t1.Type_of_Service_Abbr,t5.patient_zip_code,t5.patient_sex,\n",
    "            t1.Original_Carrier_Name, t5.Patient_City, t5.Patient_State,t2.CoPayment,t2.CoInsurance,t1.Primary_Diagnosis_Code,t1.Procedure_Code,\n",
    "            t1.Service_Units,convert(Date, t1.Service_Date_From) as Service_Date_From, t1.Claim_Number,\n",
    "            convert(Date, t1.Original_Billing_Date) as Original_Billing_Date,Convert(Date, t2.Date_Paid) as Date_Paid,\n",
    "            t1.Service_Fee,t2.Amount, t2.Allowed, t2.Deductible, t2.Transaction_Type, t4.Abbreviation,t4.Description, \n",
    "            t4.Self_Pay_TranCode\n",
    "            from PM.vwGenSvcInfo as T1\n",
    "            left join PM.[vwGenSvcPmtInfo] T2 ON T1.Service_Id=T2.Service_Id \n",
    "            left join PM.Reimbursement_Detail T3 on T1.Service_Id=T3.Service_Id\n",
    "            left join [dbo].[vUAI_Transaction_Codes] T4 ON T2.Transaction_Code_Abbr=T4.Abbreviation\n",
    "            left join [EMR].[HPSITE].[DEMOGRAPHICS_VIEW] as d on t1.Patient_Number = d.DEM_EXTERNALID\n",
    "            left join PM.vwGenPatInfo as T5 ON T1.Patient_Number=T5.Patient_Number\n",
    "            where (T4.Self_Pay_TranCode=0)\n",
    "            and (T4.Description not like '%Self%' And T4.Description not like '%Adj%') And (T2.Transaction_Type !='A') and \n",
    "            (T2.Transaction_Type !='T') and (T2.Transaction_Type !='B') and (T1.Service_Fee >0)  and (t2.Amount >= 0) and\n",
    "            ((t1.Primary_Diagnosis_Code between 'E08' and 'E13') OR (t1.Primary_Diagnosis_Code='R73.03'))\n",
    "            and t2.Date_Paid >= DATEADD(day, -455, GETDATE())\n",
    "           AND t1.Service_Date_From >= DATEADD(day, -365, DATEADD(day, -90, GETDATE()))\"\"\"\n",
    "\n",
    "df = pd.read_sql(query,cnxn)"
   ]
  },
  {
   "cell_type": "code",
   "execution_count": 918,
   "id": "cda2f697",
   "metadata": {},
   "outputs": [
    {
     "data": {
      "text/plain": [
       "(105527, 29)"
      ]
     },
     "execution_count": 918,
     "metadata": {},
     "output_type": "execute_result"
    }
   ],
   "source": [
    "df.shape"
   ]
  },
  {
   "cell_type": "code",
   "execution_count": 919,
   "id": "a67d328d",
   "metadata": {},
   "outputs": [
    {
     "data": {
      "text/html": [
       "<div>\n",
       "<style scoped>\n",
       "    .dataframe tbody tr th:only-of-type {\n",
       "        vertical-align: middle;\n",
       "    }\n",
       "\n",
       "    .dataframe tbody tr th {\n",
       "        vertical-align: top;\n",
       "    }\n",
       "\n",
       "    .dataframe thead th {\n",
       "        text-align: right;\n",
       "    }\n",
       "</style>\n",
       "<table border=\"1\" class=\"dataframe\">\n",
       "  <thead>\n",
       "    <tr style=\"text-align: right;\">\n",
       "      <th></th>\n",
       "      <th>Service_ID</th>\n",
       "      <th>Patient_Number</th>\n",
       "      <th>patient_age</th>\n",
       "      <th>Actual_Dr_Name</th>\n",
       "      <th>Place_of_Service_Abbr</th>\n",
       "      <th>Proc_Category_Abbr</th>\n",
       "      <th>Type_of_Service_Abbr</th>\n",
       "      <th>patient_zip_code</th>\n",
       "      <th>patient_sex</th>\n",
       "      <th>Original_Carrier_Name</th>\n",
       "      <th>...</th>\n",
       "      <th>Original_Billing_Date</th>\n",
       "      <th>Date_Paid</th>\n",
       "      <th>Service_Fee</th>\n",
       "      <th>Amount</th>\n",
       "      <th>Allowed</th>\n",
       "      <th>Deductible</th>\n",
       "      <th>Transaction_Type</th>\n",
       "      <th>Abbreviation</th>\n",
       "      <th>Description</th>\n",
       "      <th>Self_Pay_TranCode</th>\n",
       "    </tr>\n",
       "  </thead>\n",
       "  <tbody>\n",
       "    <tr>\n",
       "      <th>0</th>\n",
       "      <td>3632971</td>\n",
       "      <td>060933</td>\n",
       "      <td>60</td>\n",
       "      <td>Esther Selik NP</td>\n",
       "      <td>EP Fer</td>\n",
       "      <td>OTHER</td>\n",
       "      <td>OTHER</td>\n",
       "      <td>48224</td>\n",
       "      <td>F</td>\n",
       "      <td>Hap</td>\n",
       "      <td>...</td>\n",
       "      <td>2022-06-11</td>\n",
       "      <td>2022-06-21</td>\n",
       "      <td>31.2</td>\n",
       "      <td>0.00</td>\n",
       "      <td>NaN</td>\n",
       "      <td>NaN</td>\n",
       "      <td>P</td>\n",
       "      <td>COMPMT</td>\n",
       "      <td>Commercial Ins. Payment</td>\n",
       "      <td>False</td>\n",
       "    </tr>\n",
       "    <tr>\n",
       "      <th>1</th>\n",
       "      <td>3651482</td>\n",
       "      <td>213200</td>\n",
       "      <td>58</td>\n",
       "      <td>Kristin Iannotti PA-C</td>\n",
       "      <td>EP Fer</td>\n",
       "      <td>LAB CHEM</td>\n",
       "      <td>LAB</td>\n",
       "      <td>48220</td>\n",
       "      <td>F</td>\n",
       "      <td>Medicare  Mr</td>\n",
       "      <td>...</td>\n",
       "      <td>2022-06-21</td>\n",
       "      <td>2022-07-05</td>\n",
       "      <td>18.0</td>\n",
       "      <td>0.00</td>\n",
       "      <td>NaN</td>\n",
       "      <td>NaN</td>\n",
       "      <td>P</td>\n",
       "      <td>MRPMT</td>\n",
       "      <td>Medicare Payment</td>\n",
       "      <td>False</td>\n",
       "    </tr>\n",
       "    <tr>\n",
       "      <th>2</th>\n",
       "      <td>5159299</td>\n",
       "      <td>731670</td>\n",
       "      <td>72</td>\n",
       "      <td>Shannon Webster PA-C</td>\n",
       "      <td>EPS10Mil</td>\n",
       "      <td>LAB CHEM</td>\n",
       "      <td>LAB</td>\n",
       "      <td>48075</td>\n",
       "      <td>F</td>\n",
       "      <td>Medicare  Mr</td>\n",
       "      <td>...</td>\n",
       "      <td>2023-02-28</td>\n",
       "      <td>2023-03-29</td>\n",
       "      <td>22.0</td>\n",
       "      <td>0.00</td>\n",
       "      <td>NaN</td>\n",
       "      <td>NaN</td>\n",
       "      <td>P</td>\n",
       "      <td>MDPMT</td>\n",
       "      <td>Medicaid Payment</td>\n",
       "      <td>False</td>\n",
       "    </tr>\n",
       "    <tr>\n",
       "      <th>3</th>\n",
       "      <td>4999178</td>\n",
       "      <td>859160</td>\n",
       "      <td>57</td>\n",
       "      <td>Stacey Couch FNP</td>\n",
       "      <td>EP Fer</td>\n",
       "      <td>LAB CHEM</td>\n",
       "      <td>LAB</td>\n",
       "      <td>48227</td>\n",
       "      <td>F</td>\n",
       "      <td>Allied Benefit Systems Inc</td>\n",
       "      <td>...</td>\n",
       "      <td>2023-01-31</td>\n",
       "      <td>2023-03-07</td>\n",
       "      <td>18.0</td>\n",
       "      <td>6.25</td>\n",
       "      <td>6.25</td>\n",
       "      <td>NaN</td>\n",
       "      <td>P</td>\n",
       "      <td>COMPMT</td>\n",
       "      <td>Commercial Ins. Payment</td>\n",
       "      <td>False</td>\n",
       "    </tr>\n",
       "    <tr>\n",
       "      <th>4</th>\n",
       "      <td>3595612</td>\n",
       "      <td>330360</td>\n",
       "      <td>73</td>\n",
       "      <td>Deena Chabaan PA-C</td>\n",
       "      <td>EP Fer</td>\n",
       "      <td>HCPCS_G</td>\n",
       "      <td>OTHER</td>\n",
       "      <td>48030</td>\n",
       "      <td>F</td>\n",
       "      <td>Priority Health Medicare</td>\n",
       "      <td>...</td>\n",
       "      <td>2022-06-03</td>\n",
       "      <td>2022-06-09</td>\n",
       "      <td>295.0</td>\n",
       "      <td>0.00</td>\n",
       "      <td>NaN</td>\n",
       "      <td>NaN</td>\n",
       "      <td>P</td>\n",
       "      <td>MRPMT</td>\n",
       "      <td>Medicare Payment</td>\n",
       "      <td>False</td>\n",
       "    </tr>\n",
       "  </tbody>\n",
       "</table>\n",
       "<p>5 rows × 29 columns</p>\n",
       "</div>"
      ],
      "text/plain": [
       "   Service_ID Patient_Number  patient_age         Actual_Dr_Name  \\\n",
       "0     3632971         060933           60        Esther Selik NP   \n",
       "1     3651482         213200           58  Kristin Iannotti PA-C   \n",
       "2     5159299         731670           72   Shannon Webster PA-C   \n",
       "3     4999178         859160           57       Stacey Couch FNP   \n",
       "4     3595612         330360           73     Deena Chabaan PA-C   \n",
       "\n",
       "  Place_of_Service_Abbr Proc_Category_Abbr Type_of_Service_Abbr  \\\n",
       "0              EP Fer             OTHER                OTHER      \n",
       "1              EP Fer             LAB CHEM             LAB        \n",
       "2              EPS10Mil           LAB CHEM             LAB        \n",
       "3              EP Fer             LAB CHEM             LAB        \n",
       "4              EP Fer             HCPCS_G              OTHER      \n",
       "\n",
       "  patient_zip_code patient_sex       Original_Carrier_Name  ...  \\\n",
       "0            48224           F                         Hap  ...   \n",
       "1            48220           F                Medicare  Mr  ...   \n",
       "2            48075           F                Medicare  Mr  ...   \n",
       "3            48227           F  Allied Benefit Systems Inc  ...   \n",
       "4            48030           F    Priority Health Medicare  ...   \n",
       "\n",
       "  Original_Billing_Date   Date_Paid  Service_Fee  Amount Allowed Deductible  \\\n",
       "0            2022-06-11  2022-06-21         31.2    0.00     NaN        NaN   \n",
       "1            2022-06-21  2022-07-05         18.0    0.00     NaN        NaN   \n",
       "2            2023-02-28  2023-03-29         22.0    0.00     NaN        NaN   \n",
       "3            2023-01-31  2023-03-07         18.0    6.25    6.25        NaN   \n",
       "4            2022-06-03  2022-06-09        295.0    0.00     NaN        NaN   \n",
       "\n",
       "   Transaction_Type Abbreviation              Description Self_Pay_TranCode  \n",
       "0                 P     COMPMT    Commercial Ins. Payment             False  \n",
       "1                 P     MRPMT            Medicare Payment             False  \n",
       "2                 P     MDPMT            Medicaid Payment             False  \n",
       "3                 P     COMPMT    Commercial Ins. Payment             False  \n",
       "4                 P     MRPMT            Medicare Payment             False  \n",
       "\n",
       "[5 rows x 29 columns]"
      ]
     },
     "execution_count": 919,
     "metadata": {},
     "output_type": "execute_result"
    }
   ],
   "source": [
    "data = df.copy()\n",
    "data.head() "
   ]
  },
  {
   "cell_type": "code",
   "execution_count": 921,
   "id": "0b6f18e2",
   "metadata": {},
   "outputs": [],
   "source": [
    "data=data.drop_duplicates()"
   ]
  },
  {
   "cell_type": "code",
   "execution_count": 922,
   "id": "cfb941df",
   "metadata": {},
   "outputs": [
    {
     "data": {
      "text/plain": [
       "(105527, 29)"
      ]
     },
     "execution_count": 922,
     "metadata": {},
     "output_type": "execute_result"
    }
   ],
   "source": [
    "data.shape"
   ]
  },
  {
   "cell_type": "code",
   "execution_count": 923,
   "id": "040e5e06",
   "metadata": {},
   "outputs": [
    {
     "data": {
      "text/plain": [
       "Service_ID                     0\n",
       "Patient_Number                 0\n",
       "patient_age                    0\n",
       "Actual_Dr_Name                 0\n",
       "Place_of_Service_Abbr          0\n",
       "Proc_Category_Abbr             0\n",
       "Type_of_Service_Abbr           0\n",
       "patient_zip_code               0\n",
       "patient_sex                    0\n",
       "Original_Carrier_Name        280\n",
       "Patient_City                   0\n",
       "Patient_State                  0\n",
       "CoPayment                 102103\n",
       "CoInsurance                95615\n",
       "Primary_Diagnosis_Code         0\n",
       "Procedure_Code                 0\n",
       "Service_Units                  0\n",
       "Service_Date_From              0\n",
       "Claim_Number                   0\n",
       "Original_Billing_Date        352\n",
       "Date_Paid                      0\n",
       "Service_Fee                    0\n",
       "Amount                         0\n",
       "Allowed                    32855\n",
       "Deductible                100262\n",
       "Transaction_Type               0\n",
       "Abbreviation                   0\n",
       "Description                    0\n",
       "Self_Pay_TranCode              0\n",
       "dtype: int64"
      ]
     },
     "execution_count": 923,
     "metadata": {},
     "output_type": "execute_result"
    }
   ],
   "source": [
    "data.isna().sum()"
   ]
  },
  {
   "cell_type": "code",
   "execution_count": 924,
   "id": "7db69d8d",
   "metadata": {},
   "outputs": [],
   "source": [
    "data = data.dropna(subset = ['Original_Billing_Date','Date_Paid','Original_Carrier_Name'])"
   ]
  },
  {
   "cell_type": "code",
   "execution_count": 926,
   "id": "31d1ac5e",
   "metadata": {},
   "outputs": [],
   "source": [
    "data[\"Original_Billing_Date\"] = pd.to_datetime(data[\"Original_Billing_Date\"])      \n",
    "data[\"Date_Paid\"] = pd.to_datetime(data[\"Date_Paid\"]) "
   ]
  },
  {
   "cell_type": "code",
   "execution_count": 956,
   "id": "b74db609",
   "metadata": {},
   "outputs": [],
   "source": [
    "data[\"Delay_in_days\"] = (pd.to_datetime(data[\"Date_Paid\"]) - pd.to_datetime(data[\"Original_Billing_Date\"])).dt.days\n",
    "data=data[(data['Delay_in_days'] >= 0) & (data['Delay_in_days'] <= 365)]\n",
    "data = data.drop(['Delay_in_days'],axis='columns')"
   ]
  },
  {
   "cell_type": "code",
   "execution_count": 936,
   "id": "a35f8b6e",
   "metadata": {},
   "outputs": [
    {
     "data": {
      "text/plain": [
       "count    103612.000000\n",
       "mean         16.175854\n",
       "std          34.252112\n",
       "min           0.000000\n",
       "25%           0.000000\n",
       "50%           2.630000\n",
       "75%           9.770000\n",
       "max         354.000000\n",
       "Name: Amount, dtype: float64"
      ]
     },
     "execution_count": 936,
     "metadata": {},
     "output_type": "execute_result"
    }
   ],
   "source": [
    "data.Amount.describe()"
   ]
  },
  {
   "cell_type": "code",
   "execution_count": 712,
   "id": "3e5b9b94",
   "metadata": {},
   "outputs": [],
   "source": [
    "## Score Calculation"
   ]
  },
  {
   "cell_type": "code",
   "execution_count": 944,
   "id": "4ce8b10d",
   "metadata": {},
   "outputs": [],
   "source": [
    "#Payment component Calculation\n",
    "\n",
    "def q3(x):\n",
    "    \"\"\"function to return 3rd quartile\"\"\"\n",
    "    return x.quantile(0.75)\n"
   ]
  },
  {
   "cell_type": "code",
   "execution_count": 938,
   "id": "c9cc58f2",
   "metadata": {},
   "outputs": [],
   "source": [
    "data['Amount_per_serv_unit'] = data['Amount']/data['Service_Units']"
   ]
  },
  {
   "cell_type": "code",
   "execution_count": 939,
   "id": "d54fe24c",
   "metadata": {},
   "outputs": [],
   "source": [
    "## finding the q3 for a given cpt by a given payer\n",
    "cpt_payment_q3 = data.groupby(['Original_Carrier_Name', 'Procedure_Code']).agg({'Amount_per_serv_unit':q3})\n",
    "cpt_payment_dict = cpt_payment_q3.to_dict('dict')['Amount_per_serv_unit']\n",
    "\n",
    "## function for calculating the payout_ratio\n",
    "def get_payout_ratio(row):\n",
    "    cpt = row['Procedure_Code']\n",
    "    payor=row['Original_Carrier_Name']\n",
    "    amt=row['Amount_per_serv_unit']\n",
    "    med_payout=cpt_payment_dict[payor,str(cpt)]\n",
    "\n",
    "            \n",
    "    if med_payout == 0:\n",
    "        if amt > med_payout:\n",
    "            payout_ratio = 1\n",
    "        else:\n",
    "            payout_ratio = 0\n",
    "    else:\n",
    "        if amt > med_payout:\n",
    "            amt = med_payout\n",
    "        \n",
    "        payout_ratio = amt/med_payout\n",
    "    \n",
    "    return payout_ratio"
   ]
  },
  {
   "cell_type": "code",
   "execution_count": 940,
   "id": "560c2e4d",
   "metadata": {
    "scrolled": true
   },
   "outputs": [],
   "source": [
    "# Applying the function to the 'Amount' column\n",
    "data['payout_ratio'] = data[['Procedure_Code','Original_Carrier_Name','Amount_per_serv_unit']].apply(get_payout_ratio,axis=1)\n",
    "data['payout_ratio'] = data['payout_ratio'].round(2)"
   ]
  },
  {
   "cell_type": "code",
   "execution_count": 941,
   "id": "9d136bf0",
   "metadata": {
    "scrolled": true
   },
   "outputs": [
    {
     "data": {
      "text/plain": [
       "count    103612.000000\n",
       "mean          0.489817\n",
       "std           0.484359\n",
       "min           0.000000\n",
       "25%           0.000000\n",
       "50%           0.500000\n",
       "75%           1.000000\n",
       "max           1.000000\n",
       "Name: payout_ratio, dtype: float64"
      ]
     },
     "execution_count": 941,
     "metadata": {},
     "output_type": "execute_result"
    }
   ],
   "source": [
    "data.payout_ratio.describe()"
   ]
  },
  {
   "cell_type": "code",
   "execution_count": 942,
   "id": "44b6caf3",
   "metadata": {
    "scrolled": false
   },
   "outputs": [
    {
     "data": {
      "image/png": "[encoded data removed]",
      "text/plain": [
       "<Figure size 640x480 with 1 Axes>"
      ]
     },
     "metadata": {},
     "output_type": "display_data"
    }
   ],
   "source": [
    "import matplotlib.pyplot as plt\n",
    "import numpy as np\n",
    "data.payout_ratio.plot(kind='hist');plt.show()"
   ]
  },
  {
   "cell_type": "code",
   "execution_count": 943,
   "id": "c9b53af3",
   "metadata": {
    "scrolled": false
   },
   "outputs": [
    {
     "data": {
      "image/png": "[encoded data removed]",
      "text/plain": [
       "<Figure size 640x480 with 1 Axes>"
      ]
     },
     "metadata": {},
     "output_type": "display_data"
    }
   ],
   "source": [
    "data[(data.payout_ratio<0.8) & (data.payout_ratio>0.1)].payout_ratio.plot(kind='hist');plt.show()"
   ]
  },
  {
   "cell_type": "code",
   "execution_count": 948,
   "id": "1edee55f",
   "metadata": {},
   "outputs": [],
   "source": [
    "## Delay element\n",
    "# data[\"time_decay\"] = (1 - (data[\"Delay_in_days\"] / 365))\n",
    "\n",
    "def get_delay(row):\n",
    "    \n",
    "    date_paid = row['Date_Paid']\n",
    "    billing_date = row['Original_Billing_Date']\n",
    "    \n",
    "    diff = (date_paid - billing_date).days\n",
    "    \n",
    "    amt = row[\"Amount\"]\n",
    "    \n",
    "    if amt == 0:\n",
    "        return 0\n",
    "    else:\n",
    "        return diff\n",
    "    \n",
    "data['delay_in_days'] = data[['Original_Billing_Date','Date_Paid','Amount']].apply(get_delay,axis=1)"
   ]
  },
  {
   "cell_type": "code",
   "execution_count": 949,
   "id": "94b87a65",
   "metadata": {},
   "outputs": [],
   "source": [
    "## finding the median payment for a given cpt by a given payer\n",
    "cpt_delay_max = data.groupby(['Original_Carrier_Name', 'Procedure_Code'])[['delay_in_days']].max()\n",
    "cpt_delay_dict = cpt_delay_max.to_dict('dict')['delay_in_days']\n",
    "\n",
    "## function for calculating the payout_ratio\n",
    "def get_normed_delay(row):\n",
    "    cpt = row['Procedure_Code']\n",
    "    payor = row['Original_Carrier_Name']\n",
    "    amt = row['Amount']\n",
    "    delay = row['delay_in_days']\n",
    "    max_delay = cpt_delay_dict[payor,str(cpt)]\n",
    "    \n",
    "    if amt == 0:\n",
    "        delay_normed = 0\n",
    "    else:\n",
    "        try:\n",
    "            delay_normed = 1 - (delay/max_delay)\n",
    "        except ZeroDivisionError:\n",
    "            delay_normed = 0\n",
    "\n",
    "#     print('delay',delay)\n",
    "#     print('max delay',max_delay)\n",
    "#     print('normed',delay_normed)\n",
    "    \n",
    "    return delay_normed"
   ]
  },
  {
   "cell_type": "code",
   "execution_count": 950,
   "id": "ff533d51",
   "metadata": {},
   "outputs": [],
   "source": [
    "data['normalized_delay'] = data[['Procedure_Code','Original_Carrier_Name','Amount','delay_in_days']].apply(get_normed_delay,axis=1)"
   ]
  },
  {
   "cell_type": "code",
   "execution_count": 952,
   "id": "4fd8c434",
   "metadata": {
    "scrolled": true
   },
   "outputs": [
    {
     "data": {
      "text/plain": [
       "count    103612.000000\n",
       "mean          0.424146\n",
       "std           0.445419\n",
       "min           0.000000\n",
       "25%           0.000000\n",
       "50%           0.050769\n",
       "75%           0.936170\n",
       "max           0.995968\n",
       "Name: normalized_delay, dtype: float64"
      ]
     },
     "execution_count": 952,
     "metadata": {},
     "output_type": "execute_result"
    }
   ],
   "source": [
    "data.normalized_delay.describe()"
   ]
  },
  {
   "cell_type": "code",
   "execution_count": 953,
   "id": "06ba19ea",
   "metadata": {},
   "outputs": [
    {
     "data": {
      "image/png": "[encoded data removed]",
      "text/plain": [
       "<Figure size 640x480 with 1 Axes>"
      ]
     },
     "metadata": {},
     "output_type": "display_data"
    }
   ],
   "source": [
    "data.normalized_delay.plot(kind='hist');plt.show()"
   ]
  },
  {
   "cell_type": "code",
   "execution_count": 958,
   "id": "0fdbaeb4",
   "metadata": {},
   "outputs": [
    {
     "data": {
      "text/html": [
       "<div>\n",
       "<style scoped>\n",
       "    .dataframe tbody tr th:only-of-type {\n",
       "        vertical-align: middle;\n",
       "    }\n",
       "\n",
       "    .dataframe tbody tr th {\n",
       "        vertical-align: top;\n",
       "    }\n",
       "\n",
       "    .dataframe thead th {\n",
       "        text-align: right;\n",
       "    }\n",
       "</style>\n",
       "<table border=\"1\" class=\"dataframe\">\n",
       "  <thead>\n",
       "    <tr style=\"text-align: right;\">\n",
       "      <th></th>\n",
       "      <th>Service_ID</th>\n",
       "      <th>Patient_Number</th>\n",
       "      <th>patient_age</th>\n",
       "      <th>Actual_Dr_Name</th>\n",
       "      <th>Place_of_Service_Abbr</th>\n",
       "      <th>Proc_Category_Abbr</th>\n",
       "      <th>Type_of_Service_Abbr</th>\n",
       "      <th>patient_zip_code</th>\n",
       "      <th>patient_sex</th>\n",
       "      <th>Original_Carrier_Name</th>\n",
       "      <th>...</th>\n",
       "      <th>Deductible</th>\n",
       "      <th>Transaction_Type</th>\n",
       "      <th>Abbreviation</th>\n",
       "      <th>Description</th>\n",
       "      <th>Self_Pay_TranCode</th>\n",
       "      <th>Amount_per_serv_unit</th>\n",
       "      <th>payout_ratio</th>\n",
       "      <th>delay_in_days</th>\n",
       "      <th>normalized_delay</th>\n",
       "      <th>Score</th>\n",
       "    </tr>\n",
       "  </thead>\n",
       "  <tbody>\n",
       "    <tr>\n",
       "      <th>0</th>\n",
       "      <td>3632971</td>\n",
       "      <td>060933</td>\n",
       "      <td>60</td>\n",
       "      <td>Esther Selik NP</td>\n",
       "      <td>EP Fer</td>\n",
       "      <td>OTHER</td>\n",
       "      <td>OTHER</td>\n",
       "      <td>48224</td>\n",
       "      <td>F</td>\n",
       "      <td>Hap</td>\n",
       "      <td>...</td>\n",
       "      <td>NaN</td>\n",
       "      <td>P</td>\n",
       "      <td>COMPMT</td>\n",
       "      <td>Commercial Ins. Payment</td>\n",
       "      <td>False</td>\n",
       "      <td>0.00</td>\n",
       "      <td>0.0</td>\n",
       "      <td>0</td>\n",
       "      <td>0.0</td>\n",
       "      <td>0.00</td>\n",
       "    </tr>\n",
       "    <tr>\n",
       "      <th>1</th>\n",
       "      <td>3651482</td>\n",
       "      <td>213200</td>\n",
       "      <td>58</td>\n",
       "      <td>Kristin Iannotti PA-C</td>\n",
       "      <td>EP Fer</td>\n",
       "      <td>LAB CHEM</td>\n",
       "      <td>LAB</td>\n",
       "      <td>48220</td>\n",
       "      <td>F</td>\n",
       "      <td>Medicare  Mr</td>\n",
       "      <td>...</td>\n",
       "      <td>NaN</td>\n",
       "      <td>P</td>\n",
       "      <td>MRPMT</td>\n",
       "      <td>Medicare Payment</td>\n",
       "      <td>False</td>\n",
       "      <td>0.00</td>\n",
       "      <td>0.0</td>\n",
       "      <td>0</td>\n",
       "      <td>0.0</td>\n",
       "      <td>0.00</td>\n",
       "    </tr>\n",
       "    <tr>\n",
       "      <th>2</th>\n",
       "      <td>5159299</td>\n",
       "      <td>731670</td>\n",
       "      <td>72</td>\n",
       "      <td>Shannon Webster PA-C</td>\n",
       "      <td>EPS10Mil</td>\n",
       "      <td>LAB CHEM</td>\n",
       "      <td>LAB</td>\n",
       "      <td>48075</td>\n",
       "      <td>F</td>\n",
       "      <td>Medicare  Mr</td>\n",
       "      <td>...</td>\n",
       "      <td>NaN</td>\n",
       "      <td>P</td>\n",
       "      <td>MDPMT</td>\n",
       "      <td>Medicaid Payment</td>\n",
       "      <td>False</td>\n",
       "      <td>0.00</td>\n",
       "      <td>0.0</td>\n",
       "      <td>0</td>\n",
       "      <td>0.0</td>\n",
       "      <td>0.00</td>\n",
       "    </tr>\n",
       "    <tr>\n",
       "      <th>3</th>\n",
       "      <td>4999178</td>\n",
       "      <td>859160</td>\n",
       "      <td>57</td>\n",
       "      <td>Stacey Couch FNP</td>\n",
       "      <td>EP Fer</td>\n",
       "      <td>LAB CHEM</td>\n",
       "      <td>LAB</td>\n",
       "      <td>48227</td>\n",
       "      <td>F</td>\n",
       "      <td>Allied Benefit Systems Inc</td>\n",
       "      <td>...</td>\n",
       "      <td>NaN</td>\n",
       "      <td>P</td>\n",
       "      <td>COMPMT</td>\n",
       "      <td>Commercial Ins. Payment</td>\n",
       "      <td>False</td>\n",
       "      <td>6.25</td>\n",
       "      <td>1.0</td>\n",
       "      <td>35</td>\n",
       "      <td>0.0</td>\n",
       "      <td>0.75</td>\n",
       "    </tr>\n",
       "    <tr>\n",
       "      <th>4</th>\n",
       "      <td>3595612</td>\n",
       "      <td>330360</td>\n",
       "      <td>73</td>\n",
       "      <td>Deena Chabaan PA-C</td>\n",
       "      <td>EP Fer</td>\n",
       "      <td>HCPCS_G</td>\n",
       "      <td>OTHER</td>\n",
       "      <td>48030</td>\n",
       "      <td>F</td>\n",
       "      <td>Priority Health Medicare</td>\n",
       "      <td>...</td>\n",
       "      <td>NaN</td>\n",
       "      <td>P</td>\n",
       "      <td>MRPMT</td>\n",
       "      <td>Medicare Payment</td>\n",
       "      <td>False</td>\n",
       "      <td>0.00</td>\n",
       "      <td>0.0</td>\n",
       "      <td>0</td>\n",
       "      <td>0.0</td>\n",
       "      <td>0.00</td>\n",
       "    </tr>\n",
       "  </tbody>\n",
       "</table>\n",
       "<p>5 rows × 34 columns</p>\n",
       "</div>"
      ],
      "text/plain": [
       "   Service_ID Patient_Number  patient_age         Actual_Dr_Name  \\\n",
       "0     3632971         060933           60        Esther Selik NP   \n",
       "1     3651482         213200           58  Kristin Iannotti PA-C   \n",
       "2     5159299         731670           72   Shannon Webster PA-C   \n",
       "3     4999178         859160           57       Stacey Couch FNP   \n",
       "4     3595612         330360           73     Deena Chabaan PA-C   \n",
       "\n",
       "  Place_of_Service_Abbr Proc_Category_Abbr Type_of_Service_Abbr  \\\n",
       "0              EP Fer             OTHER                OTHER      \n",
       "1              EP Fer             LAB CHEM             LAB        \n",
       "2              EPS10Mil           LAB CHEM             LAB        \n",
       "3              EP Fer             LAB CHEM             LAB        \n",
       "4              EP Fer             HCPCS_G              OTHER      \n",
       "\n",
       "  patient_zip_code patient_sex       Original_Carrier_Name  ... Deductible  \\\n",
       "0            48224           F                         Hap  ...        NaN   \n",
       "1            48220           F                Medicare  Mr  ...        NaN   \n",
       "2            48075           F                Medicare  Mr  ...        NaN   \n",
       "3            48227           F  Allied Benefit Systems Inc  ...        NaN   \n",
       "4            48030           F    Priority Health Medicare  ...        NaN   \n",
       "\n",
       "  Transaction_Type  Abbreviation              Description Self_Pay_TranCode  \\\n",
       "0                P      COMPMT    Commercial Ins. Payment             False   \n",
       "1                P      MRPMT            Medicare Payment             False   \n",
       "2                P      MDPMT            Medicaid Payment             False   \n",
       "3                P      COMPMT    Commercial Ins. Payment             False   \n",
       "4                P      MRPMT            Medicare Payment             False   \n",
       "\n",
       "  Amount_per_serv_unit  payout_ratio delay_in_days  normalized_delay Score  \n",
       "0                 0.00           0.0             0               0.0  0.00  \n",
       "1                 0.00           0.0             0               0.0  0.00  \n",
       "2                 0.00           0.0             0               0.0  0.00  \n",
       "3                 6.25           1.0            35               0.0  0.75  \n",
       "4                 0.00           0.0             0               0.0  0.00  \n",
       "\n",
       "[5 rows x 34 columns]"
      ]
     },
     "execution_count": 958,
     "metadata": {},
     "output_type": "execute_result"
    }
   ],
   "source": [
    "# Final score\n",
    "payment_wt = 0.75\n",
    "delay_wt = 0.25\n",
    "\n",
    "data[\"Score\"] = (payment_wt * data[\"payout_ratio\"]) + (delay_wt * data[\"normalized_delay\"])   \n",
    "data.head() "
   ]
  },
  {
   "cell_type": "code",
   "execution_count": 959,
   "id": "83770f91",
   "metadata": {},
   "outputs": [
    {
     "data": {
      "image/png": "[encoded data removed]",
      "text/plain": [
       "<Figure size 640x480 with 1 Axes>"
      ]
     },
     "metadata": {},
     "output_type": "display_data"
    }
   ],
   "source": [
    "data.Score.plot(kind='hist');plt.show()"
   ]
  },
  {
   "cell_type": "code",
   "execution_count": 960,
   "id": "5da50a6b",
   "metadata": {},
   "outputs": [
    {
     "data": {
      "text/plain": [
       "(108, 56)"
      ]
     },
     "execution_count": 960,
     "metadata": {},
     "output_type": "execute_result"
    }
   ],
   "source": [
    "co_ins_df = data[~data.CoInsurance.isna()][['Service_ID','Patient_Number','Original_Carrier_Name','CoInsurance','CoPayment','Procedure_Code','Service_Fee','Amount','Allowed','Deductible']]\n",
    "co_pay_df = data[~data.CoPayment.isna()][['Service_ID','Patient_Number','Original_Carrier_Name','CoInsurance','CoPayment','Procedure_Code','Service_Fee','Amount','Allowed','Deductible']]\n",
    "co_ins_copay_df = data[~((data.CoInsurance.isna()) | (data.CoPayment.isna()))][['Service_ID','Patient_Number','Original_Carrier_Name','CoInsurance','CoPayment','Procedure_Code','Service_Fee','Amount','Allowed','Deductible']]\n",
    "deductbl_df = data[~data.Deductible.isna()][['Service_ID','Patient_Number','Original_Carrier_Name','CoInsurance','CoPayment','Procedure_Code','Service_Fee','Amount','Allowed','Deductible']]\n",
    "\n",
    "all_cpts = data.Procedure_Code.unique().tolist()\n",
    "copay_cpts = co_pay_df.Procedure_Code.unique().tolist()\n",
    "coins_cpts = co_ins_df.Procedure_Code.unique().tolist()\n",
    "copay_coins = set(copay_cpts+coins_cpts)\n",
    "len(all_cpts),len(copay_coins)"
   ]
  },
  {
   "cell_type": "code",
   "execution_count": 961,
   "id": "82c4ef48",
   "metadata": {
    "scrolled": true
   },
   "outputs": [
    {
     "data": {
      "text/plain": [
       "((9709, 10), (3346, 10))"
      ]
     },
     "execution_count": 961,
     "metadata": {},
     "output_type": "execute_result"
    }
   ],
   "source": [
    "co_ins_df.shape, co_pay_df.shape"
   ]
  },
  {
   "cell_type": "code",
   "execution_count": 966,
   "id": "88156db3",
   "metadata": {},
   "outputs": [],
   "source": [
    "df_by_service_id = data.groupby([\"Service_ID\"], as_index=False).agg({\n",
    "    \"Patient_Number\": \"first\",\n",
    "    'patient_age': \"max\",\n",
    "    'Actual_Dr_Name': 'first',\n",
    "    'Place_of_Service_Abbr': 'first',\n",
    "    'Proc_Category_Abbr': 'first',\n",
    "    'Type_of_Service_Abbr': 'first',\n",
    "    'patient_zip_code': \"first\",\n",
    "    'patient_sex': \"first\",\n",
    "    'Original_Carrier_Name': \"first\",\n",
    "    'Patient_City': \"first\",\n",
    "    'Patient_State': \"first\",\n",
    "    'CoInsurance': \"first\",\n",
    "    'CoPayment': \"first\",\n",
    "    \"Primary_Diagnosis_Code\": \"first\",\n",
    "    \"Procedure_Code\": \"first\",\n",
    "    'Service_Units': \"max\",   #sum\n",
    "    \"Service_Fee\": \"max\",\n",
    "    'Allowed': 'max',\n",
    "    'Deductible': 'max',\n",
    "    \"Amount\":'sum',\n",
    "    \"Score\": 'mean'    # sum\n",
    "}\n",
    ")\n"
   ]
  },
  {
   "cell_type": "code",
   "execution_count": 967,
   "id": "e8249aaf",
   "metadata": {},
   "outputs": [
    {
     "data": {
      "text/plain": [
       "(75156, 22)"
      ]
     },
     "execution_count": 967,
     "metadata": {},
     "output_type": "execute_result"
    }
   ],
   "source": [
    "df_by_service_id.shape"
   ]
  },
  {
   "cell_type": "code",
   "execution_count": 963,
   "id": "67c16f2d",
   "metadata": {},
   "outputs": [
    {
     "data": {
      "image/png": "[encoded data removed]",
      "text/plain": [
       "<Figure size 640x480 with 1 Axes>"
      ]
     },
     "metadata": {},
     "output_type": "display_data"
    }
   ],
   "source": [
    "df_by_service_id.Score.plot(kind='hist');plt.show()"
   ]
  },
  {
   "cell_type": "code",
   "execution_count": 968,
   "id": "51e1a42c",
   "metadata": {},
   "outputs": [
    {
     "data": {
      "text/plain": [
       "(75035, 22)"
      ]
     },
     "execution_count": 968,
     "metadata": {},
     "output_type": "execute_result"
    }
   ],
   "source": [
    "df_by_service_id=df_by_service_id[df_by_service_id.Amount <= df_by_service_id.Service_Fee]\n",
    "df_by_service_id.shape"
   ]
  },
  {
   "cell_type": "code",
   "execution_count": 969,
   "id": "6e6f0965",
   "metadata": {},
   "outputs": [
    {
     "data": {
      "text/plain": [
       "Service_ID                    0\n",
       "Patient_Number                0\n",
       "patient_age                   0\n",
       "Actual_Dr_Name                0\n",
       "Place_of_Service_Abbr         0\n",
       "Proc_Category_Abbr            0\n",
       "Type_of_Service_Abbr          0\n",
       "patient_zip_code              0\n",
       "patient_sex                   0\n",
       "Original_Carrier_Name         0\n",
       "Patient_City                  0\n",
       "Patient_State                 0\n",
       "CoInsurance               69515\n",
       "CoPayment                 72432\n",
       "Primary_Diagnosis_Code        0\n",
       "Procedure_Code                0\n",
       "Service_Units                 0\n",
       "Service_Fee                   0\n",
       "Allowed                   22360\n",
       "Deductible                71144\n",
       "Amount                        0\n",
       "Score                         0\n",
       "dtype: int64"
      ]
     },
     "execution_count": 969,
     "metadata": {},
     "output_type": "execute_result"
    }
   ],
   "source": [
    "## Missing Value Treatment\n",
    "df_by_service_id.isna().sum()"
   ]
  },
  {
   "cell_type": "code",
   "execution_count": 970,
   "id": "02f5fecd",
   "metadata": {},
   "outputs": [],
   "source": [
    "df_by_service_id['CoInsurance'] = df_by_service_id.CoInsurance.fillna(0)\n",
    "df_by_service_id['CoPayment'] = df_by_service_id.CoPayment.fillna(0)\n",
    "df_by_service_id['Deductible'] = df_by_service_id.Deductible.fillna(0)"
   ]
  },
  {
   "cell_type": "code",
   "execution_count": 971,
   "id": "5193d413",
   "metadata": {},
   "outputs": [
    {
     "data": {
      "text/plain": [
       "(32117, 22360)"
      ]
     },
     "execution_count": 971,
     "metadata": {},
     "output_type": "execute_result"
    }
   ],
   "source": [
    "data.Allowed.isna().sum(),df_by_service_id.Allowed.isna().sum()"
   ]
  },
  {
   "cell_type": "code",
   "execution_count": 972,
   "id": "99513bba",
   "metadata": {},
   "outputs": [],
   "source": [
    "df_by_service_id['Allowed_per_serv_unit'] = df_by_service_id['Allowed']/df_by_service_id['Service_Units']"
   ]
  },
  {
   "cell_type": "code",
   "execution_count": 976,
   "id": "b0433277",
   "metadata": {
    "scrolled": true
   },
   "outputs": [],
   "source": [
    "## finding the mean 'Allowed' for a given cpt by a given payer\n",
    "cpt_allowed_mean = df_by_service_id[~df_by_service_id['Allowed_per_serv_unit'].isna()].groupby(['Original_Carrier_Name', 'Procedure_Code'])[['Allowed_per_serv_unit']].mean()\n",
    "cpt_allowed_dict = cpt_allowed_mean.to_dict('dict')['Allowed_per_serv_unit']"
   ]
  },
  {
   "cell_type": "code",
   "execution_count": 977,
   "id": "926d3969",
   "metadata": {},
   "outputs": [],
   "source": [
    "cpt_payer_allowed_dict = {}\n",
    "for payer_cpt, alwd_value in cpt_allowed_dict.items():\n",
    "    \n",
    "    payer_name, cpt_name = payer_cpt\n",
    "    \n",
    "    try:\n",
    "        cpt_payer_allowed_dict[cpt_name][payer_name] = alwd_value\n",
    "    except KeyError:\n",
    "        cpt_payer_allowed_dict[cpt_name] = {payer_name:alwd_value}\n",
    "        "
   ]
  },
  {
   "cell_type": "code",
   "execution_count": 978,
   "id": "22425905",
   "metadata": {},
   "outputs": [],
   "source": [
    "cpt_avg_allowed = {}\n",
    "for cpt, payer_allwd in cpt_payer_allowed_dict.items():\n",
    "    avg_allowed = sum(payer_allwd.values())/len(payer_allwd.values())\n",
    "    cpt_avg_allowed[cpt] = avg_allowed"
   ]
  },
  {
   "cell_type": "code",
   "execution_count": 979,
   "id": "0826a734",
   "metadata": {},
   "outputs": [],
   "source": [
    "def get_payer_allowed_value(row):\n",
    "    \n",
    "    allowed = row['Allowed']\n",
    "\n",
    "    if not np.isnan(allowed):\n",
    "        \n",
    "        payor_allowed = allowed\n",
    "    \n",
    "    else:\n",
    "        \n",
    "        cpt = row['Procedure_Code']\n",
    "        payor = row['Original_Carrier_Name']\n",
    "        \n",
    "        \n",
    "        try:\n",
    "            payor_allowed = cpt_allowed_dict[payor,str(cpt)]\n",
    "        except KeyError:\n",
    "            try:\n",
    "                payor_allowed = cpt_avg_allowed[cpt]\n",
    "            except KeyError:\n",
    "                payor_allowed = None\n",
    "    return payor_allowed"
   ]
  },
  {
   "cell_type": "code",
   "execution_count": 980,
   "id": "82177c29",
   "metadata": {},
   "outputs": [],
   "source": [
    "df_by_service_id['Allowed'] = df_by_service_id.apply(get_payer_allowed_value,axis=1)"
   ]
  },
  {
   "cell_type": "code",
   "execution_count": 981,
   "id": "22bacbc9",
   "metadata": {},
   "outputs": [
    {
     "data": {
      "text/plain": [
       "16"
      ]
     },
     "execution_count": 981,
     "metadata": {},
     "output_type": "execute_result"
    }
   ],
   "source": [
    "df_by_service_id.Allowed.isna().sum()"
   ]
  },
  {
   "cell_type": "code",
   "execution_count": 982,
   "id": "8d2d028a",
   "metadata": {},
   "outputs": [
    {
     "data": {
      "text/plain": [
       "array(['J3301', '76881', '29580', '11055', 'G0447', '99173', '84153',\n",
       "       '87389', '92568', '90471', '82985', '90837', '99000'], dtype=object)"
      ]
     },
     "execution_count": 982,
     "metadata": {},
     "output_type": "execute_result"
    }
   ],
   "source": [
    "df_by_service_id[df_by_service_id.Allowed.isna()]['Procedure_Code'].unique()"
   ]
  },
  {
   "cell_type": "code",
   "execution_count": 986,
   "id": "a30a8f1f",
   "metadata": {},
   "outputs": [],
   "source": [
    "df_by_service_id.loc[df_by_service_id['Allowed'].isna(), 'Allowed'] = df_by_service_id['Service_Fee']*0.7"
   ]
  },
  {
   "cell_type": "code",
   "execution_count": 987,
   "id": "517f376e",
   "metadata": {},
   "outputs": [
    {
     "data": {
      "text/plain": [
       "0"
      ]
     },
     "execution_count": 987,
     "metadata": {},
     "output_type": "execute_result"
    }
   ],
   "source": [
    "df_by_service_id.Allowed.isna().sum()"
   ]
  },
  {
   "cell_type": "code",
   "execution_count": 988,
   "id": "1743e31a",
   "metadata": {},
   "outputs": [
    {
     "data": {
      "text/plain": [
       "count    75035.000000\n",
       "mean        31.113937\n",
       "std         45.726357\n",
       "min          0.010000\n",
       "25%          4.720000\n",
       "50%          8.760000\n",
       "75%         38.080000\n",
       "max        354.000000\n",
       "Name: Allowed, dtype: float64"
      ]
     },
     "execution_count": 988,
     "metadata": {},
     "output_type": "execute_result"
    }
   ],
   "source": [
    "df_by_service_id.Allowed.describe()"
   ]
  },
  {
   "cell_type": "code",
   "execution_count": 989,
   "id": "f9a90f1c",
   "metadata": {},
   "outputs": [
    {
     "data": {
      "text/plain": [
       "Index(['Service_ID', 'Patient_Number', 'patient_age', 'Actual_Dr_Name',\n",
       "       'Place_of_Service_Abbr', 'Proc_Category_Abbr', 'Type_of_Service_Abbr',\n",
       "       'patient_zip_code', 'patient_sex', 'Original_Carrier_Name',\n",
       "       'Patient_City', 'Patient_State', 'CoInsurance', 'CoPayment',\n",
       "       'Primary_Diagnosis_Code', 'Procedure_Code', 'Service_Units',\n",
       "       'Service_Fee', 'Allowed', 'Deductible', 'Amount', 'Score',\n",
       "       'Allowed_per_serv_unit'],\n",
       "      dtype='object')"
      ]
     },
     "execution_count": 989,
     "metadata": {},
     "output_type": "execute_result"
    }
   ],
   "source": [
    "df_by_service_id.columns"
   ]
  },
  {
   "cell_type": "code",
   "execution_count": 1048,
   "id": "f6662a1c",
   "metadata": {},
   "outputs": [],
   "source": [
    "#df_by_service1.to_excel(\"D:/OneDrive - Quadratic Insights Pvt Ltd/Desktop/Prediction_Engine/Ml_model_aggregated_data.xlsx\", index = False)\n",
    "X = df_by_service_id.drop(['Score'],axis='columns')\n",
    "y = df_by_service_id['Score']"
   ]
  },
  {
   "cell_type": "code",
   "execution_count": 1049,
   "id": "64f1436b",
   "metadata": {},
   "outputs": [
    {
     "data": {
      "text/plain": [
       "Index(['Service_ID', 'Patient_Number', 'patient_age', 'Actual_Dr_Name',\n",
       "       'Place_of_Service_Abbr', 'Proc_Category_Abbr', 'Type_of_Service_Abbr',\n",
       "       'patient_zip_code', 'patient_sex', 'Original_Carrier_Name',\n",
       "       'Patient_City', 'Patient_State', 'CoInsurance', 'CoPayment',\n",
       "       'Primary_Diagnosis_Code', 'Procedure_Code', 'Service_Units',\n",
       "       'Service_Fee', 'Allowed', 'Deductible', 'Amount',\n",
       "       'Allowed_per_serv_unit'],\n",
       "      dtype='object')"
      ]
     },
     "execution_count": 1049,
     "metadata": {},
     "output_type": "execute_result"
    }
   ],
   "source": [
    "X.columns"
   ]
  },
  {
   "cell_type": "code",
   "execution_count": 1050,
   "id": "dba9c4a3",
   "metadata": {},
   "outputs": [],
   "source": [
    "cat_cols = ['Actual_Dr_Name', 'Place_of_Service_Abbr', 'Proc_Category_Abbr', 'Type_of_Service_Abbr', 'patient_zip_code', 'patient_sex', 'Original_Carrier_Name', 'Patient_City', 'Patient_State', 'Primary_Diagnosis_Code', 'Procedure_Code']\n",
    "dtype_dict = dict(zip(cat_cols,['category']*len(cat_cols)))\n"
   ]
  },
  {
   "cell_type": "code",
   "execution_count": 1067,
   "id": "06d514fb",
   "metadata": {},
   "outputs": [],
   "source": [
    "X = X.astype(dtype_dict)"
   ]
  },
  {
   "cell_type": "code",
   "execution_count": 1068,
   "id": "b212e79f",
   "metadata": {},
   "outputs": [],
   "source": [
    "X_orig = X_orig.astype(dtype_dict)"
   ]
  },
  {
   "cell_type": "code",
   "execution_count": 1061,
   "id": "f2af5d74",
   "metadata": {},
   "outputs": [],
   "source": [
    "X_orig = df_by_service_id.copy()"
   ]
  },
  {
   "cell_type": "code",
   "execution_count": 1069,
   "id": "70b15c31",
   "metadata": {},
   "outputs": [],
   "source": [
    "train, test, pt_num_train, pt_num_test = train_test_split(X_orig, X_orig['Patient_Number'], test_size=0.2, random_state=2023)"
   ]
  },
  {
   "cell_type": "code",
   "execution_count": 1070,
   "id": "b7e1dcd6",
   "metadata": {},
   "outputs": [],
   "source": [
    "y_train = train['Score']\n",
    "y_test = test['Score']\n",
    "X_train = train.drop(['Score'],axis=1)\n",
    "X_test = test.drop(['Score'],axis=1)"
   ]
  },
  {
   "cell_type": "code",
   "execution_count": 1071,
   "id": "aed24bea",
   "metadata": {},
   "outputs": [],
   "source": [
    "# Drop unneeded columns\n",
    "cols_to_drop = ['Service_ID', 'Patient_Number','Amount','Allowed_per_serv_unit']\n",
    "X_train = X_train.drop(cols_to_drop,axis='columns')\n",
    "X_test = X_test.drop(cols_to_drop,axis='columns')"
   ]
  },
  {
   "cell_type": "code",
   "execution_count": 1073,
   "id": "dc3c7779",
   "metadata": {},
   "outputs": [
    {
     "data": {
      "text/plain": [
       "((60028, 18), (60028,))"
      ]
     },
     "execution_count": 1073,
     "metadata": {},
     "output_type": "execute_result"
    }
   ],
   "source": [
    "X_train.shape, y_train.shape"
   ]
  },
  {
   "cell_type": "code",
   "execution_count": 1074,
   "id": "e5109a64",
   "metadata": {
    "scrolled": true
   },
   "outputs": [
    {
     "data": {
      "text/plain": [
       "Index(['patient_age', 'Actual_Dr_Name', 'Place_of_Service_Abbr',\n",
       "       'Proc_Category_Abbr', 'Type_of_Service_Abbr', 'patient_zip_code',\n",
       "       'patient_sex', 'Original_Carrier_Name', 'Patient_City', 'Patient_State',\n",
       "       'CoInsurance', 'CoPayment', 'Primary_Diagnosis_Code', 'Procedure_Code',\n",
       "       'Service_Units', 'Service_Fee', 'Allowed', 'Deductible'],\n",
       "      dtype='object')"
      ]
     },
     "execution_count": 1074,
     "metadata": {},
     "output_type": "execute_result"
    }
   ],
   "source": [
    "X_train.columns           "
   ]
  },
  {
   "cell_type": "code",
   "execution_count": 997,
   "id": "6417ef02",
   "metadata": {},
   "outputs": [],
   "source": [
    "# y = y*100"
   ]
  },
  {
   "cell_type": "code",
   "execution_count": 818,
   "id": "7d5dd5c2",
   "metadata": {},
   "outputs": [],
   "source": [
    "# X_train, X_test, y_train, y_test = train_test_split(X, y, test_size=0.2, random_state=2023)"
   ]
  },
  {
   "cell_type": "code",
   "execution_count": 819,
   "id": "af1c1698",
   "metadata": {},
   "outputs": [],
   "source": [
    "# X_train = X_train[['patient_age','patient_sex','Actual_Dr_Name','Procedure_Code','Original_Carrier_Name']]\n",
    "# X_test = X_test[['patient_age','patient_sex','Actual_Dr_Name','Procedure_Code','Original_Carrier_Name']]"
   ]
  },
  {
   "cell_type": "code",
   "execution_count": 1075,
   "id": "5125aaaa",
   "metadata": {},
   "outputs": [
    {
     "name": "stdout",
     "output_type": "stream",
     "text": [
      "Names of categorical columns :  ['Actual_Dr_Name', 'Place_of_Service_Abbr', 'Proc_Category_Abbr', 'Type_of_Service_Abbr', 'patient_zip_code', 'patient_sex', 'Original_Carrier_Name', 'Patient_City', 'Patient_State', 'Primary_Diagnosis_Code', 'Procedure_Code']\n",
      "Location of categorical columns :  [1, 2, 3, 4, 5, 6, 7, 8, 9, 12, 13]\n"
     ]
    }
   ],
   "source": [
    "# catboost model after removing outliers and attributes\n",
    "# List of categorical columns\n",
    "categoricalcolumns = X_train.select_dtypes(include=[\"category\"]).columns.tolist()\n",
    "print(\"Names of categorical columns : \", categoricalcolumns)\n",
    "# Get location of categorical columns\n",
    "cat_features = [X_train.columns.get_loc(col) for col in categoricalcolumns]\n",
    "print(\"Location of categorical columns : \", cat_features)\n",
    "cat_features = [int(i) for i in cat_features]"
   ]
  },
  {
   "cell_type": "code",
   "execution_count": 1076,
   "id": "68e6a178",
   "metadata": {},
   "outputs": [
    {
     "name": "stdout",
     "output_type": "stream",
     "text": [
      "model is training...\n",
      "----------------------\n",
      "Learning rate set to 0.078191\n",
      "0:\tlearn: 0.4041496\ttotal: 134ms\tremaining: 2m 13s\n",
      "1:\tlearn: 0.3918818\ttotal: 256ms\tremaining: 2m 7s\n",
      "2:\tlearn: 0.3779073\ttotal: 362ms\tremaining: 2m\n",
      "3:\tlearn: 0.3654879\ttotal: 473ms\tremaining: 1m 57s\n",
      "4:\tlearn: 0.3547984\ttotal: 582ms\tremaining: 1m 55s\n",
      "5:\tlearn: 0.3448727\ttotal: 689ms\tremaining: 1m 54s\n",
      "6:\tlearn: 0.3361595\ttotal: 781ms\tremaining: 1m 50s\n",
      "7:\tlearn: 0.3283326\ttotal: 872ms\tremaining: 1m 48s\n",
      "8:\tlearn: 0.3218006\ttotal: 993ms\tremaining: 1m 49s\n",
      "9:\tlearn: 0.3160429\ttotal: 1.11s\tremaining: 1m 49s\n",
      "10:\tlearn: 0.3109097\ttotal: 1.22s\tremaining: 1m 49s\n",
      "11:\tlearn: 0.3064639\ttotal: 1.31s\tremaining: 1m 48s\n",
      "12:\tlearn: 0.3025491\ttotal: 1.44s\tremaining: 1m 49s\n",
      "13:\tlearn: 0.2991470\ttotal: 1.55s\tremaining: 1m 48s\n",
      "14:\tlearn: 0.2961560\ttotal: 1.64s\tremaining: 1m 47s\n",
      "15:\tlearn: 0.2935590\ttotal: 1.78s\tremaining: 1m 49s\n",
      "16:\tlearn: 0.2912291\ttotal: 1.91s\tremaining: 1m 50s\n",
      "17:\tlearn: 0.2893183\ttotal: 1.99s\tremaining: 1m 48s\n",
      "18:\tlearn: 0.2875588\ttotal: 2.11s\tremaining: 1m 48s\n",
      "19:\tlearn: 0.2856705\ttotal: 2.23s\tremaining: 1m 49s\n",
      "20:\tlearn: 0.2840751\ttotal: 2.38s\tremaining: 1m 50s\n",
      "21:\tlearn: 0.2828023\ttotal: 2.56s\tremaining: 1m 53s\n",
      "22:\tlearn: 0.2817515\ttotal: 2.67s\tremaining: 1m 53s\n",
      "23:\tlearn: 0.2808174\ttotal: 2.8s\tremaining: 1m 53s\n",
      "24:\tlearn: 0.2798041\ttotal: 2.9s\tremaining: 1m 53s\n",
      "25:\tlearn: 0.2786011\ttotal: 3.03s\tremaining: 1m 53s\n",
      "26:\tlearn: 0.2777178\ttotal: 3.15s\tremaining: 1m 53s\n",
      "27:\tlearn: 0.2769727\ttotal: 3.27s\tremaining: 1m 53s\n",
      "28:\tlearn: 0.2761478\ttotal: 3.38s\tremaining: 1m 53s\n",
      "29:\tlearn: 0.2755749\ttotal: 3.52s\tremaining: 1m 53s\n",
      "30:\tlearn: 0.2750379\ttotal: 3.63s\tremaining: 1m 53s\n",
      "31:\tlearn: 0.2743815\ttotal: 3.72s\tremaining: 1m 52s\n",
      "32:\tlearn: 0.2738945\ttotal: 3.84s\tremaining: 1m 52s\n",
      "33:\tlearn: 0.2733569\ttotal: 3.94s\tremaining: 1m 51s\n",
      "34:\tlearn: 0.2729743\ttotal: 4.04s\tremaining: 1m 51s\n",
      "35:\tlearn: 0.2725871\ttotal: 4.17s\tremaining: 1m 51s\n",
      "36:\tlearn: 0.2717440\ttotal: 4.29s\tremaining: 1m 51s\n",
      "37:\tlearn: 0.2709048\ttotal: 4.42s\tremaining: 1m 51s\n",
      "38:\tlearn: 0.2706487\ttotal: 4.56s\tremaining: 1m 52s\n",
      "39:\tlearn: 0.2702334\ttotal: 4.7s\tremaining: 1m 52s\n",
      "40:\tlearn: 0.2698836\ttotal: 4.8s\tremaining: 1m 52s\n",
      "41:\tlearn: 0.2695168\ttotal: 4.93s\tremaining: 1m 52s\n",
      "42:\tlearn: 0.2687774\ttotal: 5.07s\tremaining: 1m 52s\n",
      "43:\tlearn: 0.2680700\ttotal: 5.2s\tremaining: 1m 52s\n",
      "44:\tlearn: 0.2673005\ttotal: 5.31s\tremaining: 1m 52s\n",
      "45:\tlearn: 0.2671073\ttotal: 5.44s\tremaining: 1m 52s\n",
      "46:\tlearn: 0.2667847\ttotal: 5.56s\tremaining: 1m 52s\n",
      "47:\tlearn: 0.2666677\ttotal: 5.68s\tremaining: 1m 52s\n",
      "48:\tlearn: 0.2664001\ttotal: 5.8s\tremaining: 1m 52s\n",
      "49:\tlearn: 0.2661898\ttotal: 5.96s\tremaining: 1m 53s\n",
      "50:\tlearn: 0.2655960\ttotal: 6.09s\tremaining: 1m 53s\n",
      "51:\tlearn: 0.2650466\ttotal: 6.2s\tremaining: 1m 52s\n",
      "52:\tlearn: 0.2647657\ttotal: 6.32s\tremaining: 1m 52s\n",
      "53:\tlearn: 0.2643685\ttotal: 6.44s\tremaining: 1m 52s\n",
      "54:\tlearn: 0.2638497\ttotal: 6.53s\tremaining: 1m 52s\n",
      "55:\tlearn: 0.2634045\ttotal: 6.67s\tremaining: 1m 52s\n",
      "56:\tlearn: 0.2632961\ttotal: 6.8s\tremaining: 1m 52s\n",
      "57:\tlearn: 0.2628481\ttotal: 6.91s\tremaining: 1m 52s\n",
      "58:\tlearn: 0.2625902\ttotal: 7.03s\tremaining: 1m 52s\n",
      "59:\tlearn: 0.2624384\ttotal: 7.16s\tremaining: 1m 52s\n",
      "60:\tlearn: 0.2619697\ttotal: 7.28s\tremaining: 1m 52s\n",
      "61:\tlearn: 0.2616600\ttotal: 7.37s\tremaining: 1m 51s\n",
      "62:\tlearn: 0.2616030\ttotal: 7.5s\tremaining: 1m 51s\n",
      "63:\tlearn: 0.2614638\ttotal: 7.61s\tremaining: 1m 51s\n",
      "64:\tlearn: 0.2612945\ttotal: 7.73s\tremaining: 1m 51s\n",
      "65:\tlearn: 0.2611361\ttotal: 7.84s\tremaining: 1m 50s\n",
      "66:\tlearn: 0.2609438\ttotal: 7.96s\tremaining: 1m 50s\n",
      "67:\tlearn: 0.2606131\ttotal: 8.1s\tremaining: 1m 51s\n",
      "68:\tlearn: 0.2603168\ttotal: 8.22s\tremaining: 1m 50s\n",
      "69:\tlearn: 0.2600617\ttotal: 8.33s\tremaining: 1m 50s\n",
      "70:\tlearn: 0.2598597\ttotal: 8.44s\tremaining: 1m 50s\n",
      "71:\tlearn: 0.2596942\ttotal: 8.55s\tremaining: 1m 50s\n",
      "72:\tlearn: 0.2595389\ttotal: 8.7s\tremaining: 1m 50s\n",
      "73:\tlearn: 0.2592881\ttotal: 8.84s\tremaining: 1m 50s\n",
      "74:\tlearn: 0.2592177\ttotal: 9.01s\tremaining: 1m 51s\n",
      "75:\tlearn: 0.2589974\ttotal: 9.13s\tremaining: 1m 51s\n",
      "76:\tlearn: 0.2588858\ttotal: 9.27s\tremaining: 1m 51s\n",
      "77:\tlearn: 0.2587458\ttotal: 9.44s\tremaining: 1m 51s\n",
      "78:\tlearn: 0.2585075\ttotal: 9.56s\tremaining: 1m 51s\n",
      "79:\tlearn: 0.2583405\ttotal: 9.67s\tremaining: 1m 51s\n",
      "80:\tlearn: 0.2581080\ttotal: 9.8s\tremaining: 1m 51s\n",
      "81:\tlearn: 0.2578391\ttotal: 9.93s\tremaining: 1m 51s\n",
      "82:\tlearn: 0.2575656\ttotal: 10s\tremaining: 1m 50s\n",
      "83:\tlearn: 0.2574630\ttotal: 10.2s\tremaining: 1m 50s\n",
      "84:\tlearn: 0.2572758\ttotal: 10.3s\tremaining: 1m 50s\n",
      "85:\tlearn: 0.2571110\ttotal: 10.4s\tremaining: 1m 50s\n",
      "86:\tlearn: 0.2568604\ttotal: 10.5s\tremaining: 1m 50s\n",
      "87:\tlearn: 0.2567863\ttotal: 10.6s\tremaining: 1m 49s\n",
      "88:\tlearn: 0.2566529\ttotal: 10.7s\tremaining: 1m 49s\n",
      "89:\tlearn: 0.2565690\ttotal: 10.8s\tremaining: 1m 49s\n",
      "90:\tlearn: 0.2564542\ttotal: 10.9s\tremaining: 1m 49s\n",
      "91:\tlearn: 0.2562778\ttotal: 11.1s\tremaining: 1m 49s\n",
      "92:\tlearn: 0.2561242\ttotal: 11.2s\tremaining: 1m 49s\n",
      "93:\tlearn: 0.2560058\ttotal: 11.3s\tremaining: 1m 49s\n",
      "94:\tlearn: 0.2558139\ttotal: 11.4s\tremaining: 1m 48s\n",
      "95:\tlearn: 0.2557323\ttotal: 11.5s\tremaining: 1m 48s\n",
      "96:\tlearn: 0.2555011\ttotal: 11.7s\tremaining: 1m 48s\n",
      "97:\tlearn: 0.2552698\ttotal: 11.8s\tremaining: 1m 48s\n",
      "98:\tlearn: 0.2551058\ttotal: 11.9s\tremaining: 1m 48s\n",
      "99:\tlearn: 0.2550650\ttotal: 12s\tremaining: 1m 47s\n",
      "100:\tlearn: 0.2549790\ttotal: 12.1s\tremaining: 1m 47s\n",
      "101:\tlearn: 0.2549001\ttotal: 12.2s\tremaining: 1m 47s\n",
      "102:\tlearn: 0.2548167\ttotal: 12.3s\tremaining: 1m 47s\n",
      "103:\tlearn: 0.2546402\ttotal: 12.4s\tremaining: 1m 47s\n",
      "104:\tlearn: 0.2545340\ttotal: 12.5s\tremaining: 1m 46s\n",
      "105:\tlearn: 0.2544830\ttotal: 12.7s\tremaining: 1m 46s\n",
      "106:\tlearn: 0.2544558\ttotal: 12.8s\tremaining: 1m 46s\n",
      "107:\tlearn: 0.2544236\ttotal: 13s\tremaining: 1m 47s\n",
      "108:\tlearn: 0.2543712\ttotal: 13.1s\tremaining: 1m 46s\n",
      "109:\tlearn: 0.2542729\ttotal: 13.2s\tremaining: 1m 46s\n",
      "110:\tlearn: 0.2541935\ttotal: 13.3s\tremaining: 1m 46s\n",
      "111:\tlearn: 0.2540616\ttotal: 13.5s\tremaining: 1m 46s\n",
      "112:\tlearn: 0.2539860\ttotal: 13.6s\tremaining: 1m 46s\n",
      "113:\tlearn: 0.2539587\ttotal: 13.7s\tremaining: 1m 46s\n",
      "114:\tlearn: 0.2538270\ttotal: 13.9s\tremaining: 1m 47s\n",
      "115:\tlearn: 0.2536079\ttotal: 14.1s\tremaining: 1m 47s\n",
      "116:\tlearn: 0.2535067\ttotal: 14.2s\tremaining: 1m 47s\n",
      "117:\tlearn: 0.2534426\ttotal: 14.3s\tremaining: 1m 47s\n",
      "118:\tlearn: 0.2534239\ttotal: 14.4s\tremaining: 1m 46s\n",
      "119:\tlearn: 0.2533599\ttotal: 14.6s\tremaining: 1m 46s\n",
      "120:\tlearn: 0.2532405\ttotal: 14.7s\tremaining: 1m 46s\n",
      "121:\tlearn: 0.2532032\ttotal: 14.8s\tremaining: 1m 46s\n",
      "122:\tlearn: 0.2531444\ttotal: 14.9s\tremaining: 1m 46s\n",
      "123:\tlearn: 0.2530938\ttotal: 15.1s\tremaining: 1m 46s\n",
      "124:\tlearn: 0.2530076\ttotal: 15.2s\tremaining: 1m 46s\n",
      "125:\tlearn: 0.2528054\ttotal: 15.3s\tremaining: 1m 46s\n",
      "126:\tlearn: 0.2526734\ttotal: 15.5s\tremaining: 1m 46s\n",
      "127:\tlearn: 0.2525246\ttotal: 15.6s\tremaining: 1m 46s\n",
      "128:\tlearn: 0.2524188\ttotal: 15.7s\tremaining: 1m 46s\n",
      "129:\tlearn: 0.2523387\ttotal: 15.9s\tremaining: 1m 46s\n",
      "130:\tlearn: 0.2523212\ttotal: 16s\tremaining: 1m 46s\n",
      "131:\tlearn: 0.2521463\ttotal: 16.1s\tremaining: 1m 45s\n",
      "132:\tlearn: 0.2520180\ttotal: 16.2s\tremaining: 1m 45s\n",
      "133:\tlearn: 0.2519136\ttotal: 16.4s\tremaining: 1m 45s\n",
      "134:\tlearn: 0.2518131\ttotal: 16.5s\tremaining: 1m 45s\n",
      "135:\tlearn: 0.2517727\ttotal: 16.6s\tremaining: 1m 45s\n",
      "136:\tlearn: 0.2516723\ttotal: 16.7s\tremaining: 1m 45s\n",
      "137:\tlearn: 0.2516095\ttotal: 16.9s\tremaining: 1m 45s\n",
      "138:\tlearn: 0.2515665\ttotal: 17s\tremaining: 1m 45s\n",
      "139:\tlearn: 0.2515113\ttotal: 17.1s\tremaining: 1m 44s\n",
      "140:\tlearn: 0.2513554\ttotal: 17.2s\tremaining: 1m 44s\n",
      "141:\tlearn: 0.2513216\ttotal: 17.3s\tremaining: 1m 44s\n",
      "142:\tlearn: 0.2512359\ttotal: 17.4s\tremaining: 1m 44s\n",
      "143:\tlearn: 0.2510968\ttotal: 17.5s\tremaining: 1m 44s\n",
      "144:\tlearn: 0.2509638\ttotal: 17.7s\tremaining: 1m 44s\n",
      "145:\tlearn: 0.2509006\ttotal: 17.8s\tremaining: 1m 43s\n",
      "146:\tlearn: 0.2508572\ttotal: 17.9s\tremaining: 1m 43s\n",
      "147:\tlearn: 0.2507493\ttotal: 18s\tremaining: 1m 43s\n",
      "148:\tlearn: 0.2506326\ttotal: 18.1s\tremaining: 1m 43s\n",
      "149:\tlearn: 0.2504197\ttotal: 18.3s\tremaining: 1m 43s\n",
      "150:\tlearn: 0.2503453\ttotal: 18.4s\tremaining: 1m 43s\n",
      "151:\tlearn: 0.2502506\ttotal: 18.5s\tremaining: 1m 43s\n",
      "152:\tlearn: 0.2501838\ttotal: 18.6s\tremaining: 1m 43s\n",
      "153:\tlearn: 0.2500533\ttotal: 18.7s\tremaining: 1m 42s\n",
      "154:\tlearn: 0.2499878\ttotal: 18.8s\tremaining: 1m 42s\n",
      "155:\tlearn: 0.2499177\ttotal: 19s\tremaining: 1m 42s\n"
     ]
    },
    {
     "name": "stdout",
     "output_type": "stream",
     "text": [
      "156:\tlearn: 0.2498011\ttotal: 19.1s\tremaining: 1m 42s\n",
      "157:\tlearn: 0.2497684\ttotal: 19.2s\tremaining: 1m 42s\n",
      "158:\tlearn: 0.2496604\ttotal: 19.3s\tremaining: 1m 42s\n",
      "159:\tlearn: 0.2495559\ttotal: 19.4s\tremaining: 1m 41s\n",
      "160:\tlearn: 0.2494584\ttotal: 19.5s\tremaining: 1m 41s\n",
      "161:\tlearn: 0.2493324\ttotal: 19.6s\tremaining: 1m 41s\n",
      "162:\tlearn: 0.2492488\ttotal: 19.8s\tremaining: 1m 41s\n",
      "163:\tlearn: 0.2491285\ttotal: 19.9s\tremaining: 1m 41s\n",
      "164:\tlearn: 0.2489944\ttotal: 20s\tremaining: 1m 41s\n",
      "165:\tlearn: 0.2489035\ttotal: 20.1s\tremaining: 1m 41s\n",
      "166:\tlearn: 0.2488141\ttotal: 20.2s\tremaining: 1m 40s\n",
      "167:\tlearn: 0.2487047\ttotal: 20.3s\tremaining: 1m 40s\n",
      "168:\tlearn: 0.2485814\ttotal: 20.4s\tremaining: 1m 40s\n",
      "169:\tlearn: 0.2484357\ttotal: 20.6s\tremaining: 1m 40s\n",
      "170:\tlearn: 0.2483879\ttotal: 20.7s\tremaining: 1m 40s\n",
      "171:\tlearn: 0.2482171\ttotal: 20.8s\tremaining: 1m 40s\n",
      "172:\tlearn: 0.2480926\ttotal: 20.9s\tremaining: 1m 39s\n",
      "173:\tlearn: 0.2479981\ttotal: 21s\tremaining: 1m 39s\n",
      "174:\tlearn: 0.2479191\ttotal: 21.2s\tremaining: 1m 39s\n",
      "175:\tlearn: 0.2478766\ttotal: 21.3s\tremaining: 1m 39s\n",
      "176:\tlearn: 0.2478031\ttotal: 21.4s\tremaining: 1m 39s\n",
      "177:\tlearn: 0.2477349\ttotal: 21.5s\tremaining: 1m 39s\n",
      "178:\tlearn: 0.2476572\ttotal: 21.6s\tremaining: 1m 39s\n",
      "179:\tlearn: 0.2476244\ttotal: 21.7s\tremaining: 1m 38s\n",
      "180:\tlearn: 0.2475000\ttotal: 21.8s\tremaining: 1m 38s\n",
      "181:\tlearn: 0.2474122\ttotal: 22s\tremaining: 1m 38s\n",
      "182:\tlearn: 0.2473719\ttotal: 22.1s\tremaining: 1m 38s\n",
      "183:\tlearn: 0.2472938\ttotal: 22.2s\tremaining: 1m 38s\n",
      "184:\tlearn: 0.2471913\ttotal: 22.3s\tremaining: 1m 38s\n",
      "185:\tlearn: 0.2471205\ttotal: 22.4s\tremaining: 1m 38s\n",
      "186:\tlearn: 0.2469868\ttotal: 22.6s\tremaining: 1m 38s\n",
      "187:\tlearn: 0.2468799\ttotal: 22.7s\tremaining: 1m 37s\n",
      "188:\tlearn: 0.2468476\ttotal: 22.8s\tremaining: 1m 37s\n",
      "189:\tlearn: 0.2467158\ttotal: 22.9s\tremaining: 1m 37s\n",
      "190:\tlearn: 0.2466606\ttotal: 23s\tremaining: 1m 37s\n",
      "191:\tlearn: 0.2465417\ttotal: 23.1s\tremaining: 1m 37s\n",
      "192:\tlearn: 0.2464345\ttotal: 23.2s\tremaining: 1m 37s\n",
      "193:\tlearn: 0.2463975\ttotal: 23.4s\tremaining: 1m 37s\n",
      "194:\tlearn: 0.2463100\ttotal: 23.5s\tremaining: 1m 36s\n",
      "195:\tlearn: 0.2461900\ttotal: 23.6s\tremaining: 1m 36s\n",
      "196:\tlearn: 0.2461601\ttotal: 23.7s\tremaining: 1m 36s\n",
      "197:\tlearn: 0.2460730\ttotal: 23.9s\tremaining: 1m 36s\n",
      "198:\tlearn: 0.2459579\ttotal: 24s\tremaining: 1m 36s\n",
      "199:\tlearn: 0.2459275\ttotal: 24.1s\tremaining: 1m 36s\n",
      "200:\tlearn: 0.2458987\ttotal: 24.2s\tremaining: 1m 36s\n",
      "201:\tlearn: 0.2458967\ttotal: 24.3s\tremaining: 1m 36s\n",
      "202:\tlearn: 0.2458492\ttotal: 24.4s\tremaining: 1m 35s\n",
      "203:\tlearn: 0.2457866\ttotal: 24.5s\tremaining: 1m 35s\n",
      "204:\tlearn: 0.2456986\ttotal: 24.6s\tremaining: 1m 35s\n",
      "205:\tlearn: 0.2455972\ttotal: 24.8s\tremaining: 1m 35s\n",
      "206:\tlearn: 0.2454831\ttotal: 24.9s\tremaining: 1m 35s\n",
      "207:\tlearn: 0.2454695\ttotal: 25s\tremaining: 1m 35s\n",
      "208:\tlearn: 0.2454346\ttotal: 25.1s\tremaining: 1m 34s\n",
      "209:\tlearn: 0.2453695\ttotal: 25.2s\tremaining: 1m 34s\n",
      "210:\tlearn: 0.2452117\ttotal: 25.3s\tremaining: 1m 34s\n",
      "211:\tlearn: 0.2451451\ttotal: 25.4s\tremaining: 1m 34s\n",
      "212:\tlearn: 0.2451214\ttotal: 25.5s\tremaining: 1m 34s\n",
      "213:\tlearn: 0.2451200\ttotal: 25.6s\tremaining: 1m 34s\n",
      "214:\tlearn: 0.2450820\ttotal: 25.8s\tremaining: 1m 34s\n",
      "215:\tlearn: 0.2450604\ttotal: 25.9s\tremaining: 1m 33s\n",
      "216:\tlearn: 0.2450078\ttotal: 26s\tremaining: 1m 33s\n",
      "217:\tlearn: 0.2448999\ttotal: 26.1s\tremaining: 1m 33s\n",
      "218:\tlearn: 0.2448369\ttotal: 26.2s\tremaining: 1m 33s\n",
      "219:\tlearn: 0.2447324\ttotal: 26.3s\tremaining: 1m 33s\n",
      "220:\tlearn: 0.2446833\ttotal: 26.5s\tremaining: 1m 33s\n",
      "221:\tlearn: 0.2446255\ttotal: 26.5s\tremaining: 1m 33s\n",
      "222:\tlearn: 0.2446231\ttotal: 26.7s\tremaining: 1m 32s\n",
      "223:\tlearn: 0.2445584\ttotal: 26.8s\tremaining: 1m 32s\n",
      "224:\tlearn: 0.2444520\ttotal: 26.9s\tremaining: 1m 32s\n",
      "225:\tlearn: 0.2442778\ttotal: 27s\tremaining: 1m 32s\n",
      "226:\tlearn: 0.2442403\ttotal: 27.1s\tremaining: 1m 32s\n",
      "227:\tlearn: 0.2441588\ttotal: 27.2s\tremaining: 1m 32s\n",
      "228:\tlearn: 0.2440739\ttotal: 27.3s\tremaining: 1m 31s\n",
      "229:\tlearn: 0.2439469\ttotal: 27.4s\tremaining: 1m 31s\n",
      "230:\tlearn: 0.2439228\ttotal: 27.6s\tremaining: 1m 31s\n",
      "231:\tlearn: 0.2438980\ttotal: 27.7s\tremaining: 1m 31s\n",
      "232:\tlearn: 0.2438716\ttotal: 27.8s\tremaining: 1m 31s\n",
      "233:\tlearn: 0.2438312\ttotal: 27.9s\tremaining: 1m 31s\n",
      "234:\tlearn: 0.2438112\ttotal: 28s\tremaining: 1m 31s\n",
      "235:\tlearn: 0.2437376\ttotal: 28.1s\tremaining: 1m 31s\n",
      "236:\tlearn: 0.2435876\ttotal: 28.3s\tremaining: 1m 30s\n",
      "237:\tlearn: 0.2434964\ttotal: 28.4s\tremaining: 1m 30s\n",
      "238:\tlearn: 0.2434559\ttotal: 28.5s\tremaining: 1m 30s\n",
      "239:\tlearn: 0.2434333\ttotal: 28.6s\tremaining: 1m 30s\n",
      "240:\tlearn: 0.2434318\ttotal: 28.7s\tremaining: 1m 30s\n",
      "241:\tlearn: 0.2433668\ttotal: 28.8s\tremaining: 1m 30s\n",
      "242:\tlearn: 0.2433171\ttotal: 28.9s\tremaining: 1m 29s\n",
      "243:\tlearn: 0.2432548\ttotal: 29s\tremaining: 1m 29s\n",
      "244:\tlearn: 0.2431418\ttotal: 29.1s\tremaining: 1m 29s\n",
      "245:\tlearn: 0.2431392\ttotal: 29.2s\tremaining: 1m 29s\n",
      "246:\tlearn: 0.2431359\ttotal: 29.3s\tremaining: 1m 29s\n",
      "247:\tlearn: 0.2431343\ttotal: 29.5s\tremaining: 1m 29s\n",
      "248:\tlearn: 0.2430831\ttotal: 29.6s\tremaining: 1m 29s\n",
      "249:\tlearn: 0.2429884\ttotal: 29.7s\tremaining: 1m 29s\n",
      "250:\tlearn: 0.2429131\ttotal: 29.9s\tremaining: 1m 29s\n",
      "251:\tlearn: 0.2427983\ttotal: 30s\tremaining: 1m 28s\n",
      "252:\tlearn: 0.2426710\ttotal: 30.1s\tremaining: 1m 28s\n",
      "253:\tlearn: 0.2426371\ttotal: 30.2s\tremaining: 1m 28s\n",
      "254:\tlearn: 0.2425359\ttotal: 30.3s\tremaining: 1m 28s\n",
      "255:\tlearn: 0.2424908\ttotal: 30.4s\tremaining: 1m 28s\n",
      "256:\tlearn: 0.2424481\ttotal: 30.5s\tremaining: 1m 28s\n",
      "257:\tlearn: 0.2423319\ttotal: 30.6s\tremaining: 1m 28s\n",
      "258:\tlearn: 0.2422516\ttotal: 30.8s\tremaining: 1m 28s\n",
      "259:\tlearn: 0.2422333\ttotal: 30.9s\tremaining: 1m 27s\n",
      "260:\tlearn: 0.2422245\ttotal: 31s\tremaining: 1m 27s\n",
      "261:\tlearn: 0.2421769\ttotal: 31.1s\tremaining: 1m 27s\n",
      "262:\tlearn: 0.2420874\ttotal: 31.2s\tremaining: 1m 27s\n",
      "263:\tlearn: 0.2420455\ttotal: 31.3s\tremaining: 1m 27s\n",
      "264:\tlearn: 0.2419645\ttotal: 31.4s\tremaining: 1m 27s\n",
      "265:\tlearn: 0.2418668\ttotal: 31.6s\tremaining: 1m 27s\n",
      "266:\tlearn: 0.2418284\ttotal: 31.7s\tremaining: 1m 26s\n",
      "267:\tlearn: 0.2417326\ttotal: 31.8s\tremaining: 1m 26s\n",
      "268:\tlearn: 0.2416888\ttotal: 31.9s\tremaining: 1m 26s\n",
      "269:\tlearn: 0.2416083\ttotal: 32s\tremaining: 1m 26s\n",
      "270:\tlearn: 0.2415868\ttotal: 32.1s\tremaining: 1m 26s\n",
      "271:\tlearn: 0.2415442\ttotal: 32.3s\tremaining: 1m 26s\n",
      "272:\tlearn: 0.2415426\ttotal: 32.4s\tremaining: 1m 26s\n",
      "273:\tlearn: 0.2415162\ttotal: 32.5s\tremaining: 1m 26s\n",
      "274:\tlearn: 0.2415017\ttotal: 32.6s\tremaining: 1m 25s\n",
      "275:\tlearn: 0.2413956\ttotal: 32.7s\tremaining: 1m 25s\n",
      "276:\tlearn: 0.2412844\ttotal: 32.8s\tremaining: 1m 25s\n",
      "277:\tlearn: 0.2412132\ttotal: 33s\tremaining: 1m 25s\n",
      "278:\tlearn: 0.2411570\ttotal: 33.1s\tremaining: 1m 25s\n",
      "279:\tlearn: 0.2410914\ttotal: 33.2s\tremaining: 1m 25s\n",
      "280:\tlearn: 0.2409851\ttotal: 33.3s\tremaining: 1m 25s\n",
      "281:\tlearn: 0.2409627\ttotal: 33.4s\tremaining: 1m 25s\n",
      "282:\tlearn: 0.2408993\ttotal: 33.6s\tremaining: 1m 25s\n",
      "283:\tlearn: 0.2408557\ttotal: 33.7s\tremaining: 1m 25s\n",
      "284:\tlearn: 0.2408521\ttotal: 33.9s\tremaining: 1m 24s\n",
      "285:\tlearn: 0.2408356\ttotal: 34s\tremaining: 1m 24s\n",
      "286:\tlearn: 0.2407665\ttotal: 34.1s\tremaining: 1m 24s\n",
      "287:\tlearn: 0.2407163\ttotal: 34.2s\tremaining: 1m 24s\n",
      "288:\tlearn: 0.2405598\ttotal: 34.3s\tremaining: 1m 24s\n",
      "289:\tlearn: 0.2405098\ttotal: 34.5s\tremaining: 1m 24s\n",
      "290:\tlearn: 0.2404984\ttotal: 34.6s\tremaining: 1m 24s\n",
      "291:\tlearn: 0.2403764\ttotal: 34.7s\tremaining: 1m 24s\n",
      "292:\tlearn: 0.2403379\ttotal: 34.8s\tremaining: 1m 24s\n",
      "293:\tlearn: 0.2402990\ttotal: 34.9s\tremaining: 1m 23s\n",
      "294:\tlearn: 0.2402222\ttotal: 35.1s\tremaining: 1m 23s\n",
      "295:\tlearn: 0.2401926\ttotal: 35.2s\tremaining: 1m 23s\n",
      "296:\tlearn: 0.2401100\ttotal: 35.3s\tremaining: 1m 23s\n",
      "297:\tlearn: 0.2400810\ttotal: 35.4s\tremaining: 1m 23s\n",
      "298:\tlearn: 0.2400696\ttotal: 35.5s\tremaining: 1m 23s\n",
      "299:\tlearn: 0.2400519\ttotal: 35.6s\tremaining: 1m 23s\n",
      "300:\tlearn: 0.2400141\ttotal: 35.8s\tremaining: 1m 23s\n",
      "301:\tlearn: 0.2399627\ttotal: 35.9s\tremaining: 1m 22s\n",
      "302:\tlearn: 0.2399124\ttotal: 36s\tremaining: 1m 22s\n",
      "303:\tlearn: 0.2398521\ttotal: 36.1s\tremaining: 1m 22s\n",
      "304:\tlearn: 0.2398172\ttotal: 36.2s\tremaining: 1m 22s\n",
      "305:\tlearn: 0.2397992\ttotal: 36.3s\tremaining: 1m 22s\n",
      "306:\tlearn: 0.2396948\ttotal: 36.5s\tremaining: 1m 22s\n",
      "307:\tlearn: 0.2396706\ttotal: 36.6s\tremaining: 1m 22s\n",
      "308:\tlearn: 0.2396159\ttotal: 36.7s\tremaining: 1m 22s\n",
      "309:\tlearn: 0.2395054\ttotal: 36.8s\tremaining: 1m 21s\n",
      "310:\tlearn: 0.2394600\ttotal: 36.9s\tremaining: 1m 21s\n",
      "311:\tlearn: 0.2394188\ttotal: 37s\tremaining: 1m 21s\n"
     ]
    },
    {
     "name": "stdout",
     "output_type": "stream",
     "text": [
      "312:\tlearn: 0.2394063\ttotal: 37.1s\tremaining: 1m 21s\n",
      "313:\tlearn: 0.2393353\ttotal: 37.2s\tremaining: 1m 21s\n",
      "314:\tlearn: 0.2392507\ttotal: 37.4s\tremaining: 1m 21s\n",
      "315:\tlearn: 0.2391621\ttotal: 37.5s\tremaining: 1m 21s\n",
      "316:\tlearn: 0.2391447\ttotal: 37.6s\tremaining: 1m 20s\n",
      "317:\tlearn: 0.2390990\ttotal: 37.7s\tremaining: 1m 20s\n",
      "318:\tlearn: 0.2389563\ttotal: 37.8s\tremaining: 1m 20s\n",
      "319:\tlearn: 0.2388284\ttotal: 37.9s\tremaining: 1m 20s\n",
      "320:\tlearn: 0.2387870\ttotal: 38s\tremaining: 1m 20s\n",
      "321:\tlearn: 0.2387662\ttotal: 38.2s\tremaining: 1m 20s\n",
      "322:\tlearn: 0.2387359\ttotal: 38.3s\tremaining: 1m 20s\n",
      "323:\tlearn: 0.2387001\ttotal: 38.4s\tremaining: 1m 20s\n",
      "324:\tlearn: 0.2386881\ttotal: 38.5s\tremaining: 1m 19s\n",
      "325:\tlearn: 0.2386634\ttotal: 38.6s\tremaining: 1m 19s\n",
      "326:\tlearn: 0.2386624\ttotal: 38.7s\tremaining: 1m 19s\n",
      "327:\tlearn: 0.2386165\ttotal: 38.8s\tremaining: 1m 19s\n",
      "328:\tlearn: 0.2386050\ttotal: 38.9s\tremaining: 1m 19s\n",
      "329:\tlearn: 0.2385843\ttotal: 39.1s\tremaining: 1m 19s\n",
      "330:\tlearn: 0.2384987\ttotal: 39.2s\tremaining: 1m 19s\n",
      "331:\tlearn: 0.2384712\ttotal: 39.3s\tremaining: 1m 19s\n",
      "332:\tlearn: 0.2384296\ttotal: 39.4s\tremaining: 1m 18s\n",
      "333:\tlearn: 0.2383646\ttotal: 39.6s\tremaining: 1m 18s\n",
      "334:\tlearn: 0.2383209\ttotal: 39.7s\tremaining: 1m 18s\n",
      "335:\tlearn: 0.2382842\ttotal: 39.8s\tremaining: 1m 18s\n",
      "336:\tlearn: 0.2381304\ttotal: 39.9s\tremaining: 1m 18s\n",
      "337:\tlearn: 0.2380981\ttotal: 40s\tremaining: 1m 18s\n",
      "338:\tlearn: 0.2379993\ttotal: 40.1s\tremaining: 1m 18s\n",
      "339:\tlearn: 0.2379691\ttotal: 40.2s\tremaining: 1m 18s\n",
      "340:\tlearn: 0.2379078\ttotal: 40.4s\tremaining: 1m 18s\n",
      "341:\tlearn: 0.2378518\ttotal: 40.5s\tremaining: 1m 17s\n",
      "342:\tlearn: 0.2377836\ttotal: 40.6s\tremaining: 1m 17s\n",
      "343:\tlearn: 0.2377488\ttotal: 40.7s\tremaining: 1m 17s\n",
      "344:\tlearn: 0.2377185\ttotal: 40.8s\tremaining: 1m 17s\n",
      "345:\tlearn: 0.2377030\ttotal: 41s\tremaining: 1m 17s\n",
      "346:\tlearn: 0.2376774\ttotal: 41.1s\tremaining: 1m 17s\n",
      "347:\tlearn: 0.2376304\ttotal: 41.2s\tremaining: 1m 17s\n",
      "348:\tlearn: 0.2375512\ttotal: 41.3s\tremaining: 1m 17s\n",
      "349:\tlearn: 0.2375371\ttotal: 41.4s\tremaining: 1m 16s\n",
      "350:\tlearn: 0.2374415\ttotal: 41.5s\tremaining: 1m 16s\n",
      "351:\tlearn: 0.2374324\ttotal: 41.6s\tremaining: 1m 16s\n",
      "352:\tlearn: 0.2373780\ttotal: 41.8s\tremaining: 1m 16s\n",
      "353:\tlearn: 0.2373605\ttotal: 41.9s\tremaining: 1m 16s\n",
      "354:\tlearn: 0.2373095\ttotal: 42s\tremaining: 1m 16s\n",
      "355:\tlearn: 0.2372863\ttotal: 42.1s\tremaining: 1m 16s\n",
      "356:\tlearn: 0.2372524\ttotal: 42.2s\tremaining: 1m 16s\n",
      "357:\tlearn: 0.2372105\ttotal: 42.3s\tremaining: 1m 15s\n",
      "358:\tlearn: 0.2372014\ttotal: 42.4s\tremaining: 1m 15s\n",
      "359:\tlearn: 0.2371163\ttotal: 42.6s\tremaining: 1m 15s\n",
      "360:\tlearn: 0.2370954\ttotal: 42.7s\tremaining: 1m 15s\n",
      "361:\tlearn: 0.2370644\ttotal: 42.8s\tremaining: 1m 15s\n",
      "362:\tlearn: 0.2370252\ttotal: 42.9s\tremaining: 1m 15s\n",
      "363:\tlearn: 0.2369995\ttotal: 43s\tremaining: 1m 15s\n",
      "364:\tlearn: 0.2369648\ttotal: 43.1s\tremaining: 1m 15s\n",
      "365:\tlearn: 0.2369543\ttotal: 43.2s\tremaining: 1m 14s\n",
      "366:\tlearn: 0.2369237\ttotal: 43.4s\tremaining: 1m 14s\n",
      "367:\tlearn: 0.2368997\ttotal: 43.5s\tremaining: 1m 14s\n",
      "368:\tlearn: 0.2368701\ttotal: 43.6s\tremaining: 1m 14s\n",
      "369:\tlearn: 0.2368136\ttotal: 43.7s\tremaining: 1m 14s\n",
      "370:\tlearn: 0.2367926\ttotal: 43.8s\tremaining: 1m 14s\n",
      "371:\tlearn: 0.2367408\ttotal: 43.9s\tremaining: 1m 14s\n",
      "372:\tlearn: 0.2367026\ttotal: 44.1s\tremaining: 1m 14s\n",
      "373:\tlearn: 0.2366862\ttotal: 44.2s\tremaining: 1m 13s\n",
      "374:\tlearn: 0.2366456\ttotal: 44.3s\tremaining: 1m 13s\n",
      "375:\tlearn: 0.2366151\ttotal: 44.4s\tremaining: 1m 13s\n",
      "376:\tlearn: 0.2365925\ttotal: 44.5s\tremaining: 1m 13s\n",
      "377:\tlearn: 0.2365487\ttotal: 44.7s\tremaining: 1m 13s\n",
      "378:\tlearn: 0.2364995\ttotal: 44.7s\tremaining: 1m 13s\n",
      "379:\tlearn: 0.2364845\ttotal: 44.9s\tremaining: 1m 13s\n",
      "380:\tlearn: 0.2364506\ttotal: 45s\tremaining: 1m 13s\n",
      "381:\tlearn: 0.2364074\ttotal: 45.1s\tremaining: 1m 12s\n",
      "382:\tlearn: 0.2363716\ttotal: 45.2s\tremaining: 1m 12s\n",
      "383:\tlearn: 0.2362952\ttotal: 45.3s\tremaining: 1m 12s\n",
      "384:\tlearn: 0.2362702\ttotal: 45.4s\tremaining: 1m 12s\n",
      "385:\tlearn: 0.2362011\ttotal: 45.5s\tremaining: 1m 12s\n",
      "386:\tlearn: 0.2361823\ttotal: 45.6s\tremaining: 1m 12s\n",
      "387:\tlearn: 0.2361442\ttotal: 45.8s\tremaining: 1m 12s\n",
      "388:\tlearn: 0.2360751\ttotal: 45.9s\tremaining: 1m 12s\n",
      "389:\tlearn: 0.2360640\ttotal: 46s\tremaining: 1m 11s\n",
      "390:\tlearn: 0.2360394\ttotal: 46.1s\tremaining: 1m 11s\n",
      "391:\tlearn: 0.2360254\ttotal: 46.2s\tremaining: 1m 11s\n",
      "392:\tlearn: 0.2358725\ttotal: 46.4s\tremaining: 1m 11s\n",
      "393:\tlearn: 0.2358533\ttotal: 46.5s\tremaining: 1m 11s\n",
      "394:\tlearn: 0.2358038\ttotal: 46.6s\tremaining: 1m 11s\n",
      "395:\tlearn: 0.2357840\ttotal: 46.7s\tremaining: 1m 11s\n",
      "396:\tlearn: 0.2357763\ttotal: 46.8s\tremaining: 1m 11s\n",
      "397:\tlearn: 0.2357400\ttotal: 46.9s\tremaining: 1m 10s\n",
      "398:\tlearn: 0.2357042\ttotal: 47s\tremaining: 1m 10s\n",
      "399:\tlearn: 0.2356180\ttotal: 47.1s\tremaining: 1m 10s\n",
      "400:\tlearn: 0.2356098\ttotal: 47.2s\tremaining: 1m 10s\n",
      "401:\tlearn: 0.2355769\ttotal: 47.3s\tremaining: 1m 10s\n",
      "402:\tlearn: 0.2354534\ttotal: 47.5s\tremaining: 1m 10s\n",
      "403:\tlearn: 0.2354381\ttotal: 47.6s\tremaining: 1m 10s\n",
      "404:\tlearn: 0.2354223\ttotal: 47.7s\tremaining: 1m 10s\n",
      "405:\tlearn: 0.2354163\ttotal: 47.8s\tremaining: 1m 9s\n",
      "406:\tlearn: 0.2354029\ttotal: 47.9s\tremaining: 1m 9s\n",
      "407:\tlearn: 0.2353876\ttotal: 48s\tremaining: 1m 9s\n",
      "408:\tlearn: 0.2353422\ttotal: 48.2s\tremaining: 1m 9s\n",
      "409:\tlearn: 0.2352794\ttotal: 48.3s\tremaining: 1m 9s\n",
      "410:\tlearn: 0.2352404\ttotal: 48.4s\tremaining: 1m 9s\n",
      "411:\tlearn: 0.2352118\ttotal: 48.5s\tremaining: 1m 9s\n",
      "412:\tlearn: 0.2351471\ttotal: 48.6s\tremaining: 1m 9s\n",
      "413:\tlearn: 0.2350954\ttotal: 48.7s\tremaining: 1m 8s\n",
      "414:\tlearn: 0.2350704\ttotal: 48.9s\tremaining: 1m 8s\n",
      "415:\tlearn: 0.2350610\ttotal: 49s\tremaining: 1m 8s\n",
      "416:\tlearn: 0.2350155\ttotal: 49.1s\tremaining: 1m 8s\n",
      "417:\tlearn: 0.2349833\ttotal: 49.2s\tremaining: 1m 8s\n",
      "418:\tlearn: 0.2349268\ttotal: 49.3s\tremaining: 1m 8s\n",
      "419:\tlearn: 0.2349155\ttotal: 49.4s\tremaining: 1m 8s\n",
      "420:\tlearn: 0.2348894\ttotal: 49.5s\tremaining: 1m 8s\n",
      "421:\tlearn: 0.2348514\ttotal: 49.6s\tremaining: 1m 8s\n",
      "422:\tlearn: 0.2347923\ttotal: 49.8s\tremaining: 1m 7s\n",
      "423:\tlearn: 0.2347814\ttotal: 49.9s\tremaining: 1m 7s\n",
      "424:\tlearn: 0.2347556\ttotal: 50s\tremaining: 1m 7s\n",
      "425:\tlearn: 0.2347549\ttotal: 50.1s\tremaining: 1m 7s\n",
      "426:\tlearn: 0.2347028\ttotal: 50.2s\tremaining: 1m 7s\n",
      "427:\tlearn: 0.2346824\ttotal: 50.4s\tremaining: 1m 7s\n",
      "428:\tlearn: 0.2346349\ttotal: 50.5s\tremaining: 1m 7s\n",
      "429:\tlearn: 0.2346251\ttotal: 50.6s\tremaining: 1m 7s\n",
      "430:\tlearn: 0.2345701\ttotal: 50.7s\tremaining: 1m 6s\n",
      "431:\tlearn: 0.2345523\ttotal: 50.8s\tremaining: 1m 6s\n",
      "432:\tlearn: 0.2345090\ttotal: 50.9s\tremaining: 1m 6s\n",
      "433:\tlearn: 0.2344927\ttotal: 51s\tremaining: 1m 6s\n",
      "434:\tlearn: 0.2344921\ttotal: 51.2s\tremaining: 1m 6s\n",
      "435:\tlearn: 0.2344378\ttotal: 51.3s\tremaining: 1m 6s\n",
      "436:\tlearn: 0.2344319\ttotal: 51.4s\tremaining: 1m 6s\n",
      "437:\tlearn: 0.2343027\ttotal: 51.5s\tremaining: 1m 6s\n",
      "438:\tlearn: 0.2342797\ttotal: 51.6s\tremaining: 1m 5s\n",
      "439:\tlearn: 0.2342476\ttotal: 51.7s\tremaining: 1m 5s\n",
      "440:\tlearn: 0.2342072\ttotal: 51.8s\tremaining: 1m 5s\n",
      "441:\tlearn: 0.2341603\ttotal: 51.9s\tremaining: 1m 5s\n",
      "442:\tlearn: 0.2341420\ttotal: 52s\tremaining: 1m 5s\n",
      "443:\tlearn: 0.2341308\ttotal: 52.1s\tremaining: 1m 5s\n",
      "444:\tlearn: 0.2341146\ttotal: 52.3s\tremaining: 1m 5s\n",
      "445:\tlearn: 0.2341060\ttotal: 52.4s\tremaining: 1m 5s\n",
      "446:\tlearn: 0.2340542\ttotal: 52.5s\tremaining: 1m 4s\n",
      "447:\tlearn: 0.2340512\ttotal: 52.6s\tremaining: 1m 4s\n",
      "448:\tlearn: 0.2340350\ttotal: 52.7s\tremaining: 1m 4s\n",
      "449:\tlearn: 0.2340349\ttotal: 52.8s\tremaining: 1m 4s\n",
      "450:\tlearn: 0.2340002\ttotal: 52.9s\tremaining: 1m 4s\n",
      "451:\tlearn: 0.2339839\ttotal: 53.1s\tremaining: 1m 4s\n",
      "452:\tlearn: 0.2339576\ttotal: 53.2s\tremaining: 1m 4s\n",
      "453:\tlearn: 0.2339319\ttotal: 53.3s\tremaining: 1m 4s\n",
      "454:\tlearn: 0.2339268\ttotal: 53.4s\tremaining: 1m 3s\n",
      "455:\tlearn: 0.2338653\ttotal: 53.5s\tremaining: 1m 3s\n",
      "456:\tlearn: 0.2338104\ttotal: 53.6s\tremaining: 1m 3s\n",
      "457:\tlearn: 0.2337485\ttotal: 53.7s\tremaining: 1m 3s\n",
      "458:\tlearn: 0.2337075\ttotal: 53.8s\tremaining: 1m 3s\n",
      "459:\tlearn: 0.2336605\ttotal: 53.9s\tremaining: 1m 3s\n",
      "460:\tlearn: 0.2336515\ttotal: 54s\tremaining: 1m 3s\n",
      "461:\tlearn: 0.2336363\ttotal: 54.2s\tremaining: 1m 3s\n",
      "462:\tlearn: 0.2335834\ttotal: 54.3s\tremaining: 1m 2s\n",
      "463:\tlearn: 0.2335746\ttotal: 54.4s\tremaining: 1m 2s\n",
      "464:\tlearn: 0.2335147\ttotal: 54.5s\tremaining: 1m 2s\n",
      "465:\tlearn: 0.2335058\ttotal: 54.6s\tremaining: 1m 2s\n",
      "466:\tlearn: 0.2335026\ttotal: 54.7s\tremaining: 1m 2s\n",
      "467:\tlearn: 0.2334962\ttotal: 54.8s\tremaining: 1m 2s\n",
      "468:\tlearn: 0.2334765\ttotal: 55s\tremaining: 1m 2s\n",
      "469:\tlearn: 0.2334173\ttotal: 55.1s\tremaining: 1m 2s\n"
     ]
    },
    {
     "name": "stdout",
     "output_type": "stream",
     "text": [
      "470:\tlearn: 0.2333926\ttotal: 55.2s\tremaining: 1m 1s\n",
      "471:\tlearn: 0.2333404\ttotal: 55.3s\tremaining: 1m 1s\n",
      "472:\tlearn: 0.2333043\ttotal: 55.4s\tremaining: 1m 1s\n",
      "473:\tlearn: 0.2332846\ttotal: 55.5s\tremaining: 1m 1s\n",
      "474:\tlearn: 0.2332441\ttotal: 55.6s\tremaining: 1m 1s\n",
      "475:\tlearn: 0.2332259\ttotal: 55.8s\tremaining: 1m 1s\n",
      "476:\tlearn: 0.2332078\ttotal: 55.9s\tremaining: 1m 1s\n",
      "477:\tlearn: 0.2331443\ttotal: 56.1s\tremaining: 1m 1s\n",
      "478:\tlearn: 0.2331292\ttotal: 56.2s\tremaining: 1m 1s\n",
      "479:\tlearn: 0.2331142\ttotal: 56.3s\tremaining: 1m\n",
      "480:\tlearn: 0.2330984\ttotal: 56.4s\tremaining: 1m\n",
      "481:\tlearn: 0.2330567\ttotal: 56.5s\tremaining: 1m\n",
      "482:\tlearn: 0.2330033\ttotal: 56.6s\tremaining: 1m\n",
      "483:\tlearn: 0.2329968\ttotal: 56.7s\tremaining: 1m\n",
      "484:\tlearn: 0.2329516\ttotal: 56.9s\tremaining: 1m\n",
      "485:\tlearn: 0.2329192\ttotal: 57s\tremaining: 1m\n",
      "486:\tlearn: 0.2328755\ttotal: 57.1s\tremaining: 1m\n",
      "487:\tlearn: 0.2328631\ttotal: 57.2s\tremaining: 1m\n",
      "488:\tlearn: 0.2328162\ttotal: 57.3s\tremaining: 59.9s\n",
      "489:\tlearn: 0.2328064\ttotal: 57.4s\tremaining: 59.8s\n",
      "490:\tlearn: 0.2327694\ttotal: 57.6s\tremaining: 59.7s\n",
      "491:\tlearn: 0.2327437\ttotal: 57.7s\tremaining: 59.5s\n",
      "492:\tlearn: 0.2327147\ttotal: 57.8s\tremaining: 59.4s\n",
      "493:\tlearn: 0.2327004\ttotal: 57.9s\tremaining: 59.3s\n",
      "494:\tlearn: 0.2326537\ttotal: 58s\tremaining: 59.2s\n",
      "495:\tlearn: 0.2325382\ttotal: 58.2s\tremaining: 59.1s\n",
      "496:\tlearn: 0.2325269\ttotal: 58.3s\tremaining: 59s\n",
      "497:\tlearn: 0.2325094\ttotal: 58.4s\tremaining: 58.9s\n",
      "498:\tlearn: 0.2324849\ttotal: 58.6s\tremaining: 58.8s\n",
      "499:\tlearn: 0.2324718\ttotal: 58.7s\tremaining: 58.7s\n",
      "500:\tlearn: 0.2324533\ttotal: 58.8s\tremaining: 58.6s\n",
      "501:\tlearn: 0.2324039\ttotal: 59s\tremaining: 58.5s\n",
      "502:\tlearn: 0.2323694\ttotal: 59.1s\tremaining: 58.4s\n",
      "503:\tlearn: 0.2323611\ttotal: 59.2s\tremaining: 58.3s\n",
      "504:\tlearn: 0.2323500\ttotal: 59.3s\tremaining: 58.1s\n",
      "505:\tlearn: 0.2323216\ttotal: 59.4s\tremaining: 58s\n",
      "506:\tlearn: 0.2322968\ttotal: 59.5s\tremaining: 57.9s\n",
      "507:\tlearn: 0.2322787\ttotal: 59.7s\tremaining: 57.8s\n",
      "508:\tlearn: 0.2322209\ttotal: 59.8s\tremaining: 57.7s\n",
      "509:\tlearn: 0.2321338\ttotal: 59.9s\tremaining: 57.5s\n",
      "510:\tlearn: 0.2321164\ttotal: 1m\tremaining: 57.4s\n",
      "511:\tlearn: 0.2320941\ttotal: 1m\tremaining: 57.3s\n",
      "512:\tlearn: 0.2320639\ttotal: 1m\tremaining: 57.2s\n",
      "513:\tlearn: 0.2320499\ttotal: 1m\tremaining: 57s\n",
      "514:\tlearn: 0.2320255\ttotal: 1m\tremaining: 56.9s\n",
      "515:\tlearn: 0.2319973\ttotal: 1m\tremaining: 56.8s\n",
      "516:\tlearn: 0.2319488\ttotal: 1m\tremaining: 56.7s\n",
      "517:\tlearn: 0.2319144\ttotal: 1m\tremaining: 56.6s\n",
      "518:\tlearn: 0.2318975\ttotal: 1m\tremaining: 56.5s\n",
      "519:\tlearn: 0.2318874\ttotal: 1m 1s\tremaining: 56.4s\n",
      "520:\tlearn: 0.2318542\ttotal: 1m 1s\tremaining: 56.2s\n",
      "521:\tlearn: 0.2318508\ttotal: 1m 1s\tremaining: 56.1s\n",
      "522:\tlearn: 0.2318395\ttotal: 1m 1s\tremaining: 56s\n",
      "523:\tlearn: 0.2318043\ttotal: 1m 1s\tremaining: 55.9s\n",
      "524:\tlearn: 0.2317415\ttotal: 1m 1s\tremaining: 55.8s\n",
      "525:\tlearn: 0.2317135\ttotal: 1m 1s\tremaining: 55.7s\n",
      "526:\tlearn: 0.2316852\ttotal: 1m 1s\tremaining: 55.5s\n",
      "527:\tlearn: 0.2316749\ttotal: 1m 2s\tremaining: 55.4s\n",
      "528:\tlearn: 0.2316589\ttotal: 1m 2s\tremaining: 55.3s\n",
      "529:\tlearn: 0.2316194\ttotal: 1m 2s\tremaining: 55.2s\n",
      "530:\tlearn: 0.2316193\ttotal: 1m 2s\tremaining: 55.1s\n",
      "531:\tlearn: 0.2315431\ttotal: 1m 2s\tremaining: 54.9s\n",
      "532:\tlearn: 0.2315272\ttotal: 1m 2s\tremaining: 54.8s\n",
      "533:\tlearn: 0.2314978\ttotal: 1m 2s\tremaining: 54.7s\n",
      "534:\tlearn: 0.2314835\ttotal: 1m 2s\tremaining: 54.6s\n",
      "535:\tlearn: 0.2314345\ttotal: 1m 2s\tremaining: 54.5s\n",
      "536:\tlearn: 0.2314103\ttotal: 1m 3s\tremaining: 54.4s\n",
      "537:\tlearn: 0.2313790\ttotal: 1m 3s\tremaining: 54.3s\n",
      "538:\tlearn: 0.2313653\ttotal: 1m 3s\tremaining: 54.2s\n",
      "539:\tlearn: 0.2313493\ttotal: 1m 3s\tremaining: 54s\n",
      "540:\tlearn: 0.2313389\ttotal: 1m 3s\tremaining: 53.9s\n",
      "541:\tlearn: 0.2313075\ttotal: 1m 3s\tremaining: 53.8s\n",
      "542:\tlearn: 0.2312947\ttotal: 1m 3s\tremaining: 53.7s\n",
      "543:\tlearn: 0.2312686\ttotal: 1m 3s\tremaining: 53.5s\n",
      "544:\tlearn: 0.2312610\ttotal: 1m 3s\tremaining: 53.4s\n",
      "545:\tlearn: 0.2312027\ttotal: 1m 4s\tremaining: 53.3s\n",
      "546:\tlearn: 0.2311895\ttotal: 1m 4s\tremaining: 53.2s\n",
      "547:\tlearn: 0.2311613\ttotal: 1m 4s\tremaining: 53.1s\n",
      "548:\tlearn: 0.2311419\ttotal: 1m 4s\tremaining: 53s\n",
      "549:\tlearn: 0.2310348\ttotal: 1m 4s\tremaining: 52.9s\n",
      "550:\tlearn: 0.2309902\ttotal: 1m 4s\tremaining: 52.8s\n",
      "551:\tlearn: 0.2309652\ttotal: 1m 4s\tremaining: 52.6s\n",
      "552:\tlearn: 0.2309382\ttotal: 1m 4s\tremaining: 52.5s\n",
      "553:\tlearn: 0.2309293\ttotal: 1m 5s\tremaining: 52.4s\n",
      "554:\tlearn: 0.2309068\ttotal: 1m 5s\tremaining: 52.3s\n",
      "555:\tlearn: 0.2308912\ttotal: 1m 5s\tremaining: 52.1s\n",
      "556:\tlearn: 0.2308824\ttotal: 1m 5s\tremaining: 52s\n",
      "557:\tlearn: 0.2308487\ttotal: 1m 5s\tremaining: 51.9s\n",
      "558:\tlearn: 0.2308097\ttotal: 1m 5s\tremaining: 51.8s\n",
      "559:\tlearn: 0.2307621\ttotal: 1m 5s\tremaining: 51.7s\n",
      "560:\tlearn: 0.2307387\ttotal: 1m 5s\tremaining: 51.6s\n",
      "561:\tlearn: 0.2306268\ttotal: 1m 5s\tremaining: 51.4s\n",
      "562:\tlearn: 0.2306134\ttotal: 1m 6s\tremaining: 51.3s\n",
      "563:\tlearn: 0.2305302\ttotal: 1m 6s\tremaining: 51.2s\n",
      "564:\tlearn: 0.2305079\ttotal: 1m 6s\tremaining: 51.1s\n",
      "565:\tlearn: 0.2303505\ttotal: 1m 6s\tremaining: 51s\n",
      "566:\tlearn: 0.2303454\ttotal: 1m 6s\tremaining: 50.8s\n",
      "567:\tlearn: 0.2303388\ttotal: 1m 6s\tremaining: 50.7s\n",
      "568:\tlearn: 0.2302931\ttotal: 1m 6s\tremaining: 50.6s\n",
      "569:\tlearn: 0.2302814\ttotal: 1m 6s\tremaining: 50.5s\n",
      "570:\tlearn: 0.2302426\ttotal: 1m 7s\tremaining: 50.3s\n",
      "571:\tlearn: 0.2302374\ttotal: 1m 7s\tremaining: 50.2s\n",
      "572:\tlearn: 0.2302038\ttotal: 1m 7s\tremaining: 50.1s\n",
      "573:\tlearn: 0.2302001\ttotal: 1m 7s\tremaining: 50s\n",
      "574:\tlearn: 0.2301570\ttotal: 1m 7s\tremaining: 49.9s\n",
      "575:\tlearn: 0.2301315\ttotal: 1m 7s\tremaining: 49.7s\n",
      "576:\tlearn: 0.2300817\ttotal: 1m 7s\tremaining: 49.6s\n",
      "577:\tlearn: 0.2300808\ttotal: 1m 7s\tremaining: 49.5s\n",
      "578:\tlearn: 0.2300582\ttotal: 1m 7s\tremaining: 49.4s\n",
      "579:\tlearn: 0.2300473\ttotal: 1m 8s\tremaining: 49.3s\n",
      "580:\tlearn: 0.2299624\ttotal: 1m 8s\tremaining: 49.1s\n",
      "581:\tlearn: 0.2299587\ttotal: 1m 8s\tremaining: 49s\n",
      "582:\tlearn: 0.2299226\ttotal: 1m 8s\tremaining: 48.9s\n",
      "583:\tlearn: 0.2298961\ttotal: 1m 8s\tremaining: 48.8s\n",
      "584:\tlearn: 0.2298629\ttotal: 1m 8s\tremaining: 48.7s\n",
      "585:\tlearn: 0.2298393\ttotal: 1m 8s\tremaining: 48.5s\n",
      "586:\tlearn: 0.2298172\ttotal: 1m 8s\tremaining: 48.4s\n",
      "587:\tlearn: 0.2298129\ttotal: 1m 8s\tremaining: 48.3s\n",
      "588:\tlearn: 0.2297995\ttotal: 1m 9s\tremaining: 48.2s\n",
      "589:\tlearn: 0.2297844\ttotal: 1m 9s\tremaining: 48.1s\n",
      "590:\tlearn: 0.2297790\ttotal: 1m 9s\tremaining: 48s\n",
      "591:\tlearn: 0.2297744\ttotal: 1m 9s\tremaining: 47.9s\n",
      "592:\tlearn: 0.2297376\ttotal: 1m 9s\tremaining: 47.8s\n",
      "593:\tlearn: 0.2297060\ttotal: 1m 9s\tremaining: 47.6s\n",
      "594:\tlearn: 0.2296687\ttotal: 1m 9s\tremaining: 47.5s\n",
      "595:\tlearn: 0.2296552\ttotal: 1m 9s\tremaining: 47.4s\n",
      "596:\tlearn: 0.2296504\ttotal: 1m 10s\tremaining: 47.3s\n",
      "597:\tlearn: 0.2296502\ttotal: 1m 10s\tremaining: 47.2s\n",
      "598:\tlearn: 0.2296322\ttotal: 1m 10s\tremaining: 47s\n",
      "599:\tlearn: 0.2295773\ttotal: 1m 10s\tremaining: 46.9s\n",
      "600:\tlearn: 0.2295646\ttotal: 1m 10s\tremaining: 46.8s\n",
      "601:\tlearn: 0.2295614\ttotal: 1m 10s\tremaining: 46.7s\n",
      "602:\tlearn: 0.2295564\ttotal: 1m 10s\tremaining: 46.6s\n",
      "603:\tlearn: 0.2295051\ttotal: 1m 10s\tremaining: 46.5s\n",
      "604:\tlearn: 0.2294822\ttotal: 1m 10s\tremaining: 46.3s\n",
      "605:\tlearn: 0.2294480\ttotal: 1m 11s\tremaining: 46.2s\n",
      "606:\tlearn: 0.2293985\ttotal: 1m 11s\tremaining: 46.1s\n",
      "607:\tlearn: 0.2293812\ttotal: 1m 11s\tremaining: 46s\n",
      "608:\tlearn: 0.2293578\ttotal: 1m 11s\tremaining: 45.9s\n",
      "609:\tlearn: 0.2293488\ttotal: 1m 11s\tremaining: 45.7s\n",
      "610:\tlearn: 0.2292937\ttotal: 1m 11s\tremaining: 45.6s\n",
      "611:\tlearn: 0.2292874\ttotal: 1m 11s\tremaining: 45.5s\n",
      "612:\tlearn: 0.2292220\ttotal: 1m 11s\tremaining: 45.4s\n",
      "613:\tlearn: 0.2291760\ttotal: 1m 11s\tremaining: 45.2s\n",
      "614:\tlearn: 0.2291638\ttotal: 1m 12s\tremaining: 45.1s\n",
      "615:\tlearn: 0.2291295\ttotal: 1m 12s\tremaining: 45s\n",
      "616:\tlearn: 0.2291111\ttotal: 1m 12s\tremaining: 44.9s\n",
      "617:\tlearn: 0.2290973\ttotal: 1m 12s\tremaining: 44.8s\n",
      "618:\tlearn: 0.2290433\ttotal: 1m 12s\tremaining: 44.7s\n",
      "619:\tlearn: 0.2289999\ttotal: 1m 12s\tremaining: 44.5s\n",
      "620:\tlearn: 0.2289885\ttotal: 1m 12s\tremaining: 44.4s\n",
      "621:\tlearn: 0.2289636\ttotal: 1m 12s\tremaining: 44.3s\n",
      "622:\tlearn: 0.2289594\ttotal: 1m 13s\tremaining: 44.2s\n",
      "623:\tlearn: 0.2289286\ttotal: 1m 13s\tremaining: 44.1s\n",
      "624:\tlearn: 0.2288967\ttotal: 1m 13s\tremaining: 43.9s\n",
      "625:\tlearn: 0.2288829\ttotal: 1m 13s\tremaining: 43.8s\n",
      "626:\tlearn: 0.2288752\ttotal: 1m 13s\tremaining: 43.7s\n",
      "627:\tlearn: 0.2288717\ttotal: 1m 13s\tremaining: 43.6s\n",
      "628:\tlearn: 0.2288481\ttotal: 1m 13s\tremaining: 43.5s\n",
      "629:\tlearn: 0.2288333\ttotal: 1m 13s\tremaining: 43.3s\n",
      "630:\tlearn: 0.2288209\ttotal: 1m 13s\tremaining: 43.2s\n"
     ]
    },
    {
     "name": "stdout",
     "output_type": "stream",
     "text": [
      "631:\tlearn: 0.2287920\ttotal: 1m 14s\tremaining: 43.1s\n",
      "632:\tlearn: 0.2287704\ttotal: 1m 14s\tremaining: 43s\n",
      "633:\tlearn: 0.2287406\ttotal: 1m 14s\tremaining: 42.9s\n",
      "634:\tlearn: 0.2287232\ttotal: 1m 14s\tremaining: 42.7s\n",
      "635:\tlearn: 0.2286774\ttotal: 1m 14s\tremaining: 42.6s\n",
      "636:\tlearn: 0.2286754\ttotal: 1m 14s\tremaining: 42.5s\n",
      "637:\tlearn: 0.2286696\ttotal: 1m 14s\tremaining: 42.4s\n",
      "638:\tlearn: 0.2286574\ttotal: 1m 14s\tremaining: 42.3s\n",
      "639:\tlearn: 0.2286461\ttotal: 1m 14s\tremaining: 42.1s\n",
      "640:\tlearn: 0.2286184\ttotal: 1m 15s\tremaining: 42s\n",
      "641:\tlearn: 0.2286183\ttotal: 1m 15s\tremaining: 41.9s\n",
      "642:\tlearn: 0.2286032\ttotal: 1m 15s\tremaining: 41.8s\n",
      "643:\tlearn: 0.2285951\ttotal: 1m 15s\tremaining: 41.7s\n",
      "644:\tlearn: 0.2285835\ttotal: 1m 15s\tremaining: 41.5s\n",
      "645:\tlearn: 0.2285647\ttotal: 1m 15s\tremaining: 41.4s\n",
      "646:\tlearn: 0.2285566\ttotal: 1m 15s\tremaining: 41.3s\n",
      "647:\tlearn: 0.2285465\ttotal: 1m 15s\tremaining: 41.2s\n",
      "648:\tlearn: 0.2285277\ttotal: 1m 15s\tremaining: 41.1s\n",
      "649:\tlearn: 0.2285247\ttotal: 1m 16s\tremaining: 41s\n",
      "650:\tlearn: 0.2285208\ttotal: 1m 16s\tremaining: 40.9s\n",
      "651:\tlearn: 0.2285074\ttotal: 1m 16s\tremaining: 40.8s\n",
      "652:\tlearn: 0.2284495\ttotal: 1m 16s\tremaining: 40.6s\n",
      "653:\tlearn: 0.2284303\ttotal: 1m 16s\tremaining: 40.5s\n",
      "654:\tlearn: 0.2284279\ttotal: 1m 16s\tremaining: 40.4s\n",
      "655:\tlearn: 0.2284162\ttotal: 1m 16s\tremaining: 40.3s\n",
      "656:\tlearn: 0.2283929\ttotal: 1m 17s\tremaining: 40.2s\n",
      "657:\tlearn: 0.2283845\ttotal: 1m 17s\tremaining: 40.1s\n",
      "658:\tlearn: 0.2283004\ttotal: 1m 17s\tremaining: 40s\n",
      "659:\tlearn: 0.2282393\ttotal: 1m 17s\tremaining: 39.9s\n",
      "660:\tlearn: 0.2281981\ttotal: 1m 17s\tremaining: 39.7s\n",
      "661:\tlearn: 0.2281282\ttotal: 1m 17s\tremaining: 39.6s\n",
      "662:\tlearn: 0.2280733\ttotal: 1m 17s\tremaining: 39.5s\n",
      "663:\tlearn: 0.2280462\ttotal: 1m 17s\tremaining: 39.4s\n",
      "664:\tlearn: 0.2280443\ttotal: 1m 17s\tremaining: 39.3s\n",
      "665:\tlearn: 0.2280310\ttotal: 1m 18s\tremaining: 39.2s\n",
      "666:\tlearn: 0.2280230\ttotal: 1m 18s\tremaining: 39.1s\n",
      "667:\tlearn: 0.2280228\ttotal: 1m 18s\tremaining: 38.9s\n",
      "668:\tlearn: 0.2280123\ttotal: 1m 18s\tremaining: 38.8s\n",
      "669:\tlearn: 0.2280051\ttotal: 1m 18s\tremaining: 38.7s\n",
      "670:\tlearn: 0.2279743\ttotal: 1m 18s\tremaining: 38.6s\n",
      "671:\tlearn: 0.2279686\ttotal: 1m 18s\tremaining: 38.5s\n",
      "672:\tlearn: 0.2279340\ttotal: 1m 18s\tremaining: 38.4s\n",
      "673:\tlearn: 0.2279070\ttotal: 1m 19s\tremaining: 38.3s\n",
      "674:\tlearn: 0.2278903\ttotal: 1m 19s\tremaining: 38.1s\n",
      "675:\tlearn: 0.2278689\ttotal: 1m 19s\tremaining: 38s\n",
      "676:\tlearn: 0.2278680\ttotal: 1m 19s\tremaining: 37.9s\n",
      "677:\tlearn: 0.2278222\ttotal: 1m 19s\tremaining: 37.8s\n",
      "678:\tlearn: 0.2277896\ttotal: 1m 19s\tremaining: 37.7s\n",
      "679:\tlearn: 0.2277640\ttotal: 1m 19s\tremaining: 37.6s\n",
      "680:\tlearn: 0.2277583\ttotal: 1m 19s\tremaining: 37.5s\n",
      "681:\tlearn: 0.2277343\ttotal: 1m 20s\tremaining: 37.3s\n",
      "682:\tlearn: 0.2277098\ttotal: 1m 20s\tremaining: 37.2s\n",
      "683:\tlearn: 0.2277011\ttotal: 1m 20s\tremaining: 37.1s\n",
      "684:\tlearn: 0.2276786\ttotal: 1m 20s\tremaining: 37s\n",
      "685:\tlearn: 0.2276718\ttotal: 1m 20s\tremaining: 36.9s\n",
      "686:\tlearn: 0.2276472\ttotal: 1m 20s\tremaining: 36.7s\n",
      "687:\tlearn: 0.2276045\ttotal: 1m 20s\tremaining: 36.6s\n",
      "688:\tlearn: 0.2275303\ttotal: 1m 20s\tremaining: 36.5s\n",
      "689:\tlearn: 0.2275301\ttotal: 1m 21s\tremaining: 36.4s\n",
      "690:\tlearn: 0.2275160\ttotal: 1m 21s\tremaining: 36.3s\n",
      "691:\tlearn: 0.2275069\ttotal: 1m 21s\tremaining: 36.2s\n",
      "692:\tlearn: 0.2274909\ttotal: 1m 21s\tremaining: 36.1s\n",
      "693:\tlearn: 0.2274587\ttotal: 1m 21s\tremaining: 35.9s\n",
      "694:\tlearn: 0.2273940\ttotal: 1m 21s\tremaining: 35.8s\n",
      "695:\tlearn: 0.2273484\ttotal: 1m 21s\tremaining: 35.7s\n",
      "696:\tlearn: 0.2273385\ttotal: 1m 21s\tremaining: 35.6s\n",
      "697:\tlearn: 0.2273297\ttotal: 1m 21s\tremaining: 35.5s\n",
      "698:\tlearn: 0.2273183\ttotal: 1m 22s\tremaining: 35.3s\n",
      "699:\tlearn: 0.2273019\ttotal: 1m 22s\tremaining: 35.2s\n",
      "700:\tlearn: 0.2272600\ttotal: 1m 22s\tremaining: 35.1s\n",
      "701:\tlearn: 0.2272149\ttotal: 1m 22s\tremaining: 35s\n",
      "702:\tlearn: 0.2271161\ttotal: 1m 22s\tremaining: 34.9s\n",
      "703:\tlearn: 0.2270991\ttotal: 1m 22s\tremaining: 34.7s\n",
      "704:\tlearn: 0.2270833\ttotal: 1m 22s\tremaining: 34.6s\n",
      "705:\tlearn: 0.2270039\ttotal: 1m 22s\tremaining: 34.5s\n",
      "706:\tlearn: 0.2269955\ttotal: 1m 22s\tremaining: 34.4s\n",
      "707:\tlearn: 0.2269877\ttotal: 1m 23s\tremaining: 34.3s\n",
      "708:\tlearn: 0.2269533\ttotal: 1m 23s\tremaining: 34.1s\n",
      "709:\tlearn: 0.2268956\ttotal: 1m 23s\tremaining: 34s\n",
      "710:\tlearn: 0.2268954\ttotal: 1m 23s\tremaining: 33.9s\n",
      "711:\tlearn: 0.2268920\ttotal: 1m 23s\tremaining: 33.8s\n",
      "712:\tlearn: 0.2268686\ttotal: 1m 23s\tremaining: 33.7s\n",
      "713:\tlearn: 0.2268653\ttotal: 1m 23s\tremaining: 33.6s\n",
      "714:\tlearn: 0.2268110\ttotal: 1m 23s\tremaining: 33.5s\n",
      "715:\tlearn: 0.2267924\ttotal: 1m 24s\tremaining: 33.3s\n",
      "716:\tlearn: 0.2267799\ttotal: 1m 24s\tremaining: 33.2s\n",
      "717:\tlearn: 0.2267715\ttotal: 1m 24s\tremaining: 33.1s\n",
      "718:\tlearn: 0.2267654\ttotal: 1m 24s\tremaining: 33s\n",
      "719:\tlearn: 0.2267606\ttotal: 1m 24s\tremaining: 32.9s\n",
      "720:\tlearn: 0.2267528\ttotal: 1m 24s\tremaining: 32.7s\n",
      "721:\tlearn: 0.2267501\ttotal: 1m 24s\tremaining: 32.6s\n",
      "722:\tlearn: 0.2267425\ttotal: 1m 24s\tremaining: 32.5s\n",
      "723:\tlearn: 0.2267285\ttotal: 1m 24s\tremaining: 32.4s\n",
      "724:\tlearn: 0.2267175\ttotal: 1m 25s\tremaining: 32.3s\n",
      "725:\tlearn: 0.2267071\ttotal: 1m 25s\tremaining: 32.1s\n",
      "726:\tlearn: 0.2266846\ttotal: 1m 25s\tremaining: 32s\n",
      "727:\tlearn: 0.2266726\ttotal: 1m 25s\tremaining: 31.9s\n",
      "728:\tlearn: 0.2266606\ttotal: 1m 25s\tremaining: 31.8s\n",
      "729:\tlearn: 0.2266350\ttotal: 1m 25s\tremaining: 31.7s\n",
      "730:\tlearn: 0.2266273\ttotal: 1m 25s\tremaining: 31.6s\n",
      "731:\tlearn: 0.2266241\ttotal: 1m 25s\tremaining: 31.4s\n",
      "732:\tlearn: 0.2266041\ttotal: 1m 25s\tremaining: 31.3s\n",
      "733:\tlearn: 0.2265799\ttotal: 1m 26s\tremaining: 31.2s\n",
      "734:\tlearn: 0.2265688\ttotal: 1m 26s\tremaining: 31.1s\n",
      "735:\tlearn: 0.2265613\ttotal: 1m 26s\tremaining: 31s\n",
      "736:\tlearn: 0.2265607\ttotal: 1m 26s\tremaining: 30.8s\n",
      "737:\tlearn: 0.2265500\ttotal: 1m 26s\tremaining: 30.7s\n",
      "738:\tlearn: 0.2265221\ttotal: 1m 26s\tremaining: 30.6s\n",
      "739:\tlearn: 0.2265078\ttotal: 1m 26s\tremaining: 30.5s\n",
      "740:\tlearn: 0.2264736\ttotal: 1m 26s\tremaining: 30.4s\n",
      "741:\tlearn: 0.2264677\ttotal: 1m 27s\tremaining: 30.3s\n",
      "742:\tlearn: 0.2264380\ttotal: 1m 27s\tremaining: 30.1s\n",
      "743:\tlearn: 0.2264222\ttotal: 1m 27s\tremaining: 30s\n",
      "744:\tlearn: 0.2264220\ttotal: 1m 27s\tremaining: 29.9s\n",
      "745:\tlearn: 0.2264185\ttotal: 1m 27s\tremaining: 29.8s\n",
      "746:\tlearn: 0.2264127\ttotal: 1m 27s\tremaining: 29.7s\n",
      "747:\tlearn: 0.2263797\ttotal: 1m 27s\tremaining: 29.5s\n",
      "748:\tlearn: 0.2263475\ttotal: 1m 27s\tremaining: 29.4s\n",
      "749:\tlearn: 0.2263444\ttotal: 1m 27s\tremaining: 29.3s\n",
      "750:\tlearn: 0.2263357\ttotal: 1m 28s\tremaining: 29.2s\n",
      "751:\tlearn: 0.2263252\ttotal: 1m 28s\tremaining: 29.1s\n",
      "752:\tlearn: 0.2263134\ttotal: 1m 28s\tremaining: 28.9s\n",
      "753:\tlearn: 0.2263029\ttotal: 1m 28s\tremaining: 28.8s\n",
      "754:\tlearn: 0.2262847\ttotal: 1m 28s\tremaining: 28.7s\n",
      "755:\tlearn: 0.2262515\ttotal: 1m 28s\tremaining: 28.6s\n",
      "756:\tlearn: 0.2262352\ttotal: 1m 28s\tremaining: 28.5s\n",
      "757:\tlearn: 0.2262337\ttotal: 1m 28s\tremaining: 28.4s\n",
      "758:\tlearn: 0.2262216\ttotal: 1m 28s\tremaining: 28.2s\n",
      "759:\tlearn: 0.2262075\ttotal: 1m 29s\tremaining: 28.1s\n",
      "760:\tlearn: 0.2261809\ttotal: 1m 29s\tremaining: 28s\n",
      "761:\tlearn: 0.2261400\ttotal: 1m 29s\tremaining: 27.9s\n",
      "762:\tlearn: 0.2261240\ttotal: 1m 29s\tremaining: 27.8s\n",
      "763:\tlearn: 0.2260903\ttotal: 1m 29s\tremaining: 27.7s\n",
      "764:\tlearn: 0.2260274\ttotal: 1m 29s\tremaining: 27.5s\n",
      "765:\tlearn: 0.2260088\ttotal: 1m 29s\tremaining: 27.4s\n",
      "766:\tlearn: 0.2259954\ttotal: 1m 29s\tremaining: 27.3s\n",
      "767:\tlearn: 0.2259860\ttotal: 1m 29s\tremaining: 27.2s\n",
      "768:\tlearn: 0.2259767\ttotal: 1m 30s\tremaining: 27.1s\n",
      "769:\tlearn: 0.2259134\ttotal: 1m 30s\tremaining: 27s\n",
      "770:\tlearn: 0.2259017\ttotal: 1m 30s\tremaining: 26.8s\n",
      "771:\tlearn: 0.2258783\ttotal: 1m 30s\tremaining: 26.7s\n",
      "772:\tlearn: 0.2258738\ttotal: 1m 30s\tremaining: 26.6s\n",
      "773:\tlearn: 0.2257885\ttotal: 1m 30s\tremaining: 26.5s\n",
      "774:\tlearn: 0.2257688\ttotal: 1m 30s\tremaining: 26.4s\n",
      "775:\tlearn: 0.2257578\ttotal: 1m 31s\tremaining: 26.3s\n",
      "776:\tlearn: 0.2257268\ttotal: 1m 31s\tremaining: 26.2s\n",
      "777:\tlearn: 0.2256969\ttotal: 1m 31s\tremaining: 26.1s\n",
      "778:\tlearn: 0.2256652\ttotal: 1m 31s\tremaining: 26s\n",
      "779:\tlearn: 0.2256279\ttotal: 1m 31s\tremaining: 25.9s\n",
      "780:\tlearn: 0.2256128\ttotal: 1m 31s\tremaining: 25.7s\n",
      "781:\tlearn: 0.2255999\ttotal: 1m 31s\tremaining: 25.6s\n",
      "782:\tlearn: 0.2255288\ttotal: 1m 32s\tremaining: 25.5s\n",
      "783:\tlearn: 0.2255019\ttotal: 1m 32s\tremaining: 25.4s\n",
      "784:\tlearn: 0.2254570\ttotal: 1m 32s\tremaining: 25.3s\n",
      "785:\tlearn: 0.2254327\ttotal: 1m 32s\tremaining: 25.2s\n",
      "786:\tlearn: 0.2253705\ttotal: 1m 32s\tremaining: 25.1s\n",
      "787:\tlearn: 0.2253674\ttotal: 1m 32s\tremaining: 25s\n"
     ]
    },
    {
     "name": "stdout",
     "output_type": "stream",
     "text": [
      "788:\tlearn: 0.2253617\ttotal: 1m 32s\tremaining: 24.8s\n",
      "789:\tlearn: 0.2253575\ttotal: 1m 33s\tremaining: 24.7s\n",
      "790:\tlearn: 0.2253389\ttotal: 1m 33s\tremaining: 24.6s\n",
      "791:\tlearn: 0.2253064\ttotal: 1m 33s\tremaining: 24.5s\n",
      "792:\tlearn: 0.2253030\ttotal: 1m 33s\tremaining: 24.4s\n",
      "793:\tlearn: 0.2252887\ttotal: 1m 33s\tremaining: 24.3s\n",
      "794:\tlearn: 0.2252706\ttotal: 1m 33s\tremaining: 24.2s\n",
      "795:\tlearn: 0.2252633\ttotal: 1m 33s\tremaining: 24s\n",
      "796:\tlearn: 0.2252318\ttotal: 1m 33s\tremaining: 23.9s\n",
      "797:\tlearn: 0.2252102\ttotal: 1m 34s\tremaining: 23.8s\n",
      "798:\tlearn: 0.2251795\ttotal: 1m 34s\tremaining: 23.7s\n",
      "799:\tlearn: 0.2251534\ttotal: 1m 34s\tremaining: 23.6s\n",
      "800:\tlearn: 0.2251457\ttotal: 1m 34s\tremaining: 23.5s\n",
      "801:\tlearn: 0.2251060\ttotal: 1m 34s\tremaining: 23.3s\n",
      "802:\tlearn: 0.2250949\ttotal: 1m 34s\tremaining: 23.2s\n",
      "803:\tlearn: 0.2250484\ttotal: 1m 34s\tremaining: 23.1s\n",
      "804:\tlearn: 0.2250093\ttotal: 1m 34s\tremaining: 23s\n",
      "805:\tlearn: 0.2249961\ttotal: 1m 35s\tremaining: 22.9s\n",
      "806:\tlearn: 0.2249855\ttotal: 1m 35s\tremaining: 22.7s\n",
      "807:\tlearn: 0.2249046\ttotal: 1m 35s\tremaining: 22.6s\n",
      "808:\tlearn: 0.2248827\ttotal: 1m 35s\tremaining: 22.5s\n",
      "809:\tlearn: 0.2248684\ttotal: 1m 35s\tremaining: 22.4s\n",
      "810:\tlearn: 0.2248340\ttotal: 1m 35s\tremaining: 22.3s\n",
      "811:\tlearn: 0.2248011\ttotal: 1m 35s\tremaining: 22.2s\n",
      "812:\tlearn: 0.2247330\ttotal: 1m 35s\tremaining: 22s\n",
      "813:\tlearn: 0.2247305\ttotal: 1m 35s\tremaining: 21.9s\n",
      "814:\tlearn: 0.2247198\ttotal: 1m 36s\tremaining: 21.8s\n",
      "815:\tlearn: 0.2246964\ttotal: 1m 36s\tremaining: 21.7s\n",
      "816:\tlearn: 0.2246579\ttotal: 1m 36s\tremaining: 21.6s\n",
      "817:\tlearn: 0.2246466\ttotal: 1m 36s\tremaining: 21.4s\n",
      "818:\tlearn: 0.2246372\ttotal: 1m 36s\tremaining: 21.3s\n",
      "819:\tlearn: 0.2246243\ttotal: 1m 36s\tremaining: 21.2s\n",
      "820:\tlearn: 0.2246112\ttotal: 1m 36s\tremaining: 21.1s\n",
      "821:\tlearn: 0.2245843\ttotal: 1m 36s\tremaining: 21s\n",
      "822:\tlearn: 0.2245722\ttotal: 1m 37s\tremaining: 20.9s\n",
      "823:\tlearn: 0.2245654\ttotal: 1m 37s\tremaining: 20.8s\n",
      "824:\tlearn: 0.2245195\ttotal: 1m 37s\tremaining: 20.6s\n",
      "825:\tlearn: 0.2245094\ttotal: 1m 37s\tremaining: 20.5s\n",
      "826:\tlearn: 0.2245044\ttotal: 1m 37s\tremaining: 20.4s\n",
      "827:\tlearn: 0.2244597\ttotal: 1m 37s\tremaining: 20.3s\n",
      "828:\tlearn: 0.2244451\ttotal: 1m 37s\tremaining: 20.2s\n",
      "829:\tlearn: 0.2244296\ttotal: 1m 37s\tremaining: 20.1s\n",
      "830:\tlearn: 0.2244202\ttotal: 1m 38s\tremaining: 19.9s\n",
      "831:\tlearn: 0.2244151\ttotal: 1m 38s\tremaining: 19.8s\n",
      "832:\tlearn: 0.2244013\ttotal: 1m 38s\tremaining: 19.7s\n",
      "833:\tlearn: 0.2243862\ttotal: 1m 38s\tremaining: 19.6s\n",
      "834:\tlearn: 0.2243777\ttotal: 1m 38s\tremaining: 19.5s\n",
      "835:\tlearn: 0.2243195\ttotal: 1m 38s\tremaining: 19.4s\n",
      "836:\tlearn: 0.2243011\ttotal: 1m 38s\tremaining: 19.2s\n",
      "837:\tlearn: 0.2242732\ttotal: 1m 38s\tremaining: 19.1s\n",
      "838:\tlearn: 0.2242125\ttotal: 1m 39s\tremaining: 19s\n",
      "839:\tlearn: 0.2242107\ttotal: 1m 39s\tremaining: 18.9s\n",
      "840:\tlearn: 0.2241901\ttotal: 1m 39s\tremaining: 18.8s\n",
      "841:\tlearn: 0.2241568\ttotal: 1m 39s\tremaining: 18.6s\n",
      "842:\tlearn: 0.2241380\ttotal: 1m 39s\tremaining: 18.5s\n",
      "843:\tlearn: 0.2241291\ttotal: 1m 39s\tremaining: 18.4s\n",
      "844:\tlearn: 0.2240828\ttotal: 1m 39s\tremaining: 18.3s\n",
      "845:\tlearn: 0.2240606\ttotal: 1m 39s\tremaining: 18.2s\n",
      "846:\tlearn: 0.2240436\ttotal: 1m 39s\tremaining: 18.1s\n",
      "847:\tlearn: 0.2240286\ttotal: 1m 40s\tremaining: 17.9s\n",
      "848:\tlearn: 0.2239943\ttotal: 1m 40s\tremaining: 17.8s\n",
      "849:\tlearn: 0.2239807\ttotal: 1m 40s\tremaining: 17.7s\n",
      "850:\tlearn: 0.2239557\ttotal: 1m 40s\tremaining: 17.6s\n",
      "851:\tlearn: 0.2239454\ttotal: 1m 40s\tremaining: 17.5s\n",
      "852:\tlearn: 0.2239201\ttotal: 1m 40s\tremaining: 17.3s\n",
      "853:\tlearn: 0.2239189\ttotal: 1m 40s\tremaining: 17.2s\n",
      "854:\tlearn: 0.2239059\ttotal: 1m 40s\tremaining: 17.1s\n",
      "855:\tlearn: 0.2238893\ttotal: 1m 40s\tremaining: 17s\n",
      "856:\tlearn: 0.2238775\ttotal: 1m 41s\tremaining: 16.9s\n",
      "857:\tlearn: 0.2238688\ttotal: 1m 41s\tremaining: 16.8s\n",
      "858:\tlearn: 0.2238273\ttotal: 1m 41s\tremaining: 16.6s\n",
      "859:\tlearn: 0.2238115\ttotal: 1m 41s\tremaining: 16.5s\n",
      "860:\tlearn: 0.2237992\ttotal: 1m 41s\tremaining: 16.4s\n",
      "861:\tlearn: 0.2237966\ttotal: 1m 41s\tremaining: 16.3s\n",
      "862:\tlearn: 0.2237411\ttotal: 1m 41s\tremaining: 16.2s\n",
      "863:\tlearn: 0.2237281\ttotal: 1m 42s\tremaining: 16.1s\n",
      "864:\tlearn: 0.2237125\ttotal: 1m 42s\tremaining: 15.9s\n",
      "865:\tlearn: 0.2236458\ttotal: 1m 42s\tremaining: 15.8s\n",
      "866:\tlearn: 0.2236441\ttotal: 1m 42s\tremaining: 15.7s\n",
      "867:\tlearn: 0.2236178\ttotal: 1m 42s\tremaining: 15.6s\n",
      "868:\tlearn: 0.2236053\ttotal: 1m 42s\tremaining: 15.5s\n",
      "869:\tlearn: 0.2235830\ttotal: 1m 42s\tremaining: 15.4s\n",
      "870:\tlearn: 0.2235732\ttotal: 1m 42s\tremaining: 15.2s\n",
      "871:\tlearn: 0.2235445\ttotal: 1m 42s\tremaining: 15.1s\n",
      "872:\tlearn: 0.2235335\ttotal: 1m 43s\tremaining: 15s\n",
      "873:\tlearn: 0.2235196\ttotal: 1m 43s\tremaining: 14.9s\n",
      "874:\tlearn: 0.2234691\ttotal: 1m 43s\tremaining: 14.8s\n",
      "875:\tlearn: 0.2234565\ttotal: 1m 43s\tremaining: 14.6s\n",
      "876:\tlearn: 0.2234491\ttotal: 1m 43s\tremaining: 14.5s\n",
      "877:\tlearn: 0.2234198\ttotal: 1m 43s\tremaining: 14.4s\n",
      "878:\tlearn: 0.2234098\ttotal: 1m 43s\tremaining: 14.3s\n",
      "879:\tlearn: 0.2233800\ttotal: 1m 43s\tremaining: 14.2s\n",
      "880:\tlearn: 0.2233629\ttotal: 1m 44s\tremaining: 14.1s\n",
      "881:\tlearn: 0.2233604\ttotal: 1m 44s\tremaining: 13.9s\n",
      "882:\tlearn: 0.2233492\ttotal: 1m 44s\tremaining: 13.8s\n",
      "883:\tlearn: 0.2233374\ttotal: 1m 44s\tremaining: 13.7s\n",
      "884:\tlearn: 0.2232969\ttotal: 1m 44s\tremaining: 13.6s\n",
      "885:\tlearn: 0.2232841\ttotal: 1m 44s\tremaining: 13.5s\n",
      "886:\tlearn: 0.2232740\ttotal: 1m 44s\tremaining: 13.3s\n",
      "887:\tlearn: 0.2232110\ttotal: 1m 44s\tremaining: 13.2s\n",
      "888:\tlearn: 0.2232001\ttotal: 1m 45s\tremaining: 13.1s\n",
      "889:\tlearn: 0.2231771\ttotal: 1m 45s\tremaining: 13s\n",
      "890:\tlearn: 0.2231672\ttotal: 1m 45s\tremaining: 12.9s\n",
      "891:\tlearn: 0.2231672\ttotal: 1m 45s\tremaining: 12.8s\n",
      "892:\tlearn: 0.2231525\ttotal: 1m 45s\tremaining: 12.6s\n",
      "893:\tlearn: 0.2231525\ttotal: 1m 45s\tremaining: 12.5s\n",
      "894:\tlearn: 0.2231433\ttotal: 1m 45s\tremaining: 12.4s\n",
      "895:\tlearn: 0.2231320\ttotal: 1m 45s\tremaining: 12.3s\n",
      "896:\tlearn: 0.2231231\ttotal: 1m 45s\tremaining: 12.2s\n",
      "897:\tlearn: 0.2231114\ttotal: 1m 46s\tremaining: 12s\n",
      "898:\tlearn: 0.2231010\ttotal: 1m 46s\tremaining: 11.9s\n",
      "899:\tlearn: 0.2230403\ttotal: 1m 46s\tremaining: 11.8s\n",
      "900:\tlearn: 0.2230325\ttotal: 1m 46s\tremaining: 11.7s\n",
      "901:\tlearn: 0.2230218\ttotal: 1m 46s\tremaining: 11.6s\n",
      "902:\tlearn: 0.2230164\ttotal: 1m 46s\tremaining: 11.5s\n",
      "903:\tlearn: 0.2230070\ttotal: 1m 46s\tremaining: 11.3s\n",
      "904:\tlearn: 0.2229952\ttotal: 1m 46s\tremaining: 11.2s\n",
      "905:\tlearn: 0.2229645\ttotal: 1m 46s\tremaining: 11.1s\n",
      "906:\tlearn: 0.2229531\ttotal: 1m 47s\tremaining: 11s\n",
      "907:\tlearn: 0.2229490\ttotal: 1m 47s\tremaining: 10.9s\n",
      "908:\tlearn: 0.2229330\ttotal: 1m 47s\tremaining: 10.7s\n",
      "909:\tlearn: 0.2229159\ttotal: 1m 47s\tremaining: 10.6s\n",
      "910:\tlearn: 0.2228991\ttotal: 1m 47s\tremaining: 10.5s\n",
      "911:\tlearn: 0.2228746\ttotal: 1m 47s\tremaining: 10.4s\n",
      "912:\tlearn: 0.2228717\ttotal: 1m 47s\tremaining: 10.3s\n",
      "913:\tlearn: 0.2228596\ttotal: 1m 47s\tremaining: 10.2s\n",
      "914:\tlearn: 0.2228486\ttotal: 1m 48s\tremaining: 10s\n",
      "915:\tlearn: 0.2228458\ttotal: 1m 48s\tremaining: 9.92s\n",
      "916:\tlearn: 0.2228300\ttotal: 1m 48s\tremaining: 9.8s\n",
      "917:\tlearn: 0.2228256\ttotal: 1m 48s\tremaining: 9.68s\n",
      "918:\tlearn: 0.2228028\ttotal: 1m 48s\tremaining: 9.56s\n",
      "919:\tlearn: 0.2227970\ttotal: 1m 48s\tremaining: 9.44s\n",
      "920:\tlearn: 0.2227892\ttotal: 1m 48s\tremaining: 9.32s\n",
      "921:\tlearn: 0.2227845\ttotal: 1m 48s\tremaining: 9.21s\n",
      "922:\tlearn: 0.2227697\ttotal: 1m 48s\tremaining: 9.09s\n",
      "923:\tlearn: 0.2227477\ttotal: 1m 49s\tremaining: 8.97s\n",
      "924:\tlearn: 0.2227382\ttotal: 1m 49s\tremaining: 8.85s\n",
      "925:\tlearn: 0.2227105\ttotal: 1m 49s\tremaining: 8.73s\n",
      "926:\tlearn: 0.2227089\ttotal: 1m 49s\tremaining: 8.61s\n",
      "927:\tlearn: 0.2226874\ttotal: 1m 49s\tremaining: 8.49s\n",
      "928:\tlearn: 0.2226727\ttotal: 1m 49s\tremaining: 8.38s\n",
      "929:\tlearn: 0.2226640\ttotal: 1m 49s\tremaining: 8.26s\n",
      "930:\tlearn: 0.2226525\ttotal: 1m 49s\tremaining: 8.14s\n",
      "931:\tlearn: 0.2226119\ttotal: 1m 49s\tremaining: 8.02s\n",
      "932:\tlearn: 0.2226037\ttotal: 1m 50s\tremaining: 7.9s\n",
      "933:\tlearn: 0.2225867\ttotal: 1m 50s\tremaining: 7.78s\n",
      "934:\tlearn: 0.2225665\ttotal: 1m 50s\tremaining: 7.67s\n",
      "935:\tlearn: 0.2225309\ttotal: 1m 50s\tremaining: 7.55s\n",
      "936:\tlearn: 0.2225177\ttotal: 1m 50s\tremaining: 7.43s\n",
      "937:\tlearn: 0.2225166\ttotal: 1m 50s\tremaining: 7.31s\n",
      "938:\tlearn: 0.2225074\ttotal: 1m 50s\tremaining: 7.19s\n",
      "939:\tlearn: 0.2224911\ttotal: 1m 50s\tremaining: 7.08s\n",
      "940:\tlearn: 0.2224648\ttotal: 1m 50s\tremaining: 6.96s\n",
      "941:\tlearn: 0.2224574\ttotal: 1m 51s\tremaining: 6.84s\n",
      "942:\tlearn: 0.2224416\ttotal: 1m 51s\tremaining: 6.72s\n",
      "943:\tlearn: 0.2224414\ttotal: 1m 51s\tremaining: 6.61s\n"
     ]
    },
    {
     "name": "stdout",
     "output_type": "stream",
     "text": [
      "944:\tlearn: 0.2224152\ttotal: 1m 51s\tremaining: 6.49s\n",
      "945:\tlearn: 0.2223986\ttotal: 1m 51s\tremaining: 6.37s\n",
      "946:\tlearn: 0.2223892\ttotal: 1m 51s\tremaining: 6.25s\n",
      "947:\tlearn: 0.2223788\ttotal: 1m 51s\tremaining: 6.13s\n",
      "948:\tlearn: 0.2223732\ttotal: 1m 51s\tremaining: 6.01s\n",
      "949:\tlearn: 0.2223718\ttotal: 1m 52s\tremaining: 5.9s\n",
      "950:\tlearn: 0.2223586\ttotal: 1m 52s\tremaining: 5.78s\n",
      "951:\tlearn: 0.2223481\ttotal: 1m 52s\tremaining: 5.66s\n",
      "952:\tlearn: 0.2223439\ttotal: 1m 52s\tremaining: 5.54s\n",
      "953:\tlearn: 0.2223426\ttotal: 1m 52s\tremaining: 5.42s\n",
      "954:\tlearn: 0.2223345\ttotal: 1m 52s\tremaining: 5.31s\n",
      "955:\tlearn: 0.2223278\ttotal: 1m 52s\tremaining: 5.19s\n",
      "956:\tlearn: 0.2223224\ttotal: 1m 52s\tremaining: 5.07s\n",
      "957:\tlearn: 0.2223097\ttotal: 1m 53s\tremaining: 4.95s\n",
      "958:\tlearn: 0.2223016\ttotal: 1m 53s\tremaining: 4.83s\n",
      "959:\tlearn: 0.2222726\ttotal: 1m 53s\tremaining: 4.72s\n",
      "960:\tlearn: 0.2222695\ttotal: 1m 53s\tremaining: 4.6s\n",
      "961:\tlearn: 0.2222585\ttotal: 1m 53s\tremaining: 4.48s\n",
      "962:\tlearn: 0.2221933\ttotal: 1m 53s\tremaining: 4.36s\n",
      "963:\tlearn: 0.2221685\ttotal: 1m 53s\tremaining: 4.25s\n",
      "964:\tlearn: 0.2221619\ttotal: 1m 53s\tremaining: 4.13s\n",
      "965:\tlearn: 0.2221492\ttotal: 1m 53s\tremaining: 4.01s\n",
      "966:\tlearn: 0.2221471\ttotal: 1m 54s\tremaining: 3.89s\n",
      "967:\tlearn: 0.2221400\ttotal: 1m 54s\tremaining: 3.77s\n",
      "968:\tlearn: 0.2221344\ttotal: 1m 54s\tremaining: 3.66s\n",
      "969:\tlearn: 0.2221233\ttotal: 1m 54s\tremaining: 3.54s\n",
      "970:\tlearn: 0.2221222\ttotal: 1m 54s\tremaining: 3.42s\n",
      "971:\tlearn: 0.2220649\ttotal: 1m 54s\tremaining: 3.3s\n",
      "972:\tlearn: 0.2220616\ttotal: 1m 54s\tremaining: 3.19s\n",
      "973:\tlearn: 0.2220283\ttotal: 1m 54s\tremaining: 3.07s\n",
      "974:\tlearn: 0.2219931\ttotal: 1m 55s\tremaining: 2.95s\n",
      "975:\tlearn: 0.2219740\ttotal: 1m 55s\tremaining: 2.83s\n",
      "976:\tlearn: 0.2219514\ttotal: 1m 55s\tremaining: 2.71s\n",
      "977:\tlearn: 0.2219436\ttotal: 1m 55s\tremaining: 2.6s\n",
      "978:\tlearn: 0.2219253\ttotal: 1m 55s\tremaining: 2.48s\n",
      "979:\tlearn: 0.2219150\ttotal: 1m 55s\tremaining: 2.36s\n",
      "980:\tlearn: 0.2219136\ttotal: 1m 55s\tremaining: 2.24s\n",
      "981:\tlearn: 0.2218937\ttotal: 1m 55s\tremaining: 2.12s\n",
      "982:\tlearn: 0.2218751\ttotal: 1m 56s\tremaining: 2.01s\n",
      "983:\tlearn: 0.2218586\ttotal: 1m 56s\tremaining: 1.89s\n",
      "984:\tlearn: 0.2218511\ttotal: 1m 56s\tremaining: 1.77s\n",
      "985:\tlearn: 0.2217939\ttotal: 1m 56s\tremaining: 1.65s\n",
      "986:\tlearn: 0.2217889\ttotal: 1m 56s\tremaining: 1.53s\n",
      "987:\tlearn: 0.2217382\ttotal: 1m 56s\tremaining: 1.42s\n",
      "988:\tlearn: 0.2217275\ttotal: 1m 56s\tremaining: 1.3s\n",
      "989:\tlearn: 0.2216789\ttotal: 1m 56s\tremaining: 1.18s\n",
      "990:\tlearn: 0.2216402\ttotal: 1m 57s\tremaining: 1.06s\n",
      "991:\tlearn: 0.2216369\ttotal: 1m 57s\tremaining: 945ms\n",
      "992:\tlearn: 0.2216205\ttotal: 1m 57s\tremaining: 827ms\n",
      "993:\tlearn: 0.2215839\ttotal: 1m 57s\tremaining: 709ms\n",
      "994:\tlearn: 0.2215748\ttotal: 1m 57s\tremaining: 590ms\n",
      "995:\tlearn: 0.2215708\ttotal: 1m 57s\tremaining: 472ms\n",
      "996:\tlearn: 0.2215543\ttotal: 1m 57s\tremaining: 354ms\n",
      "997:\tlearn: 0.2215524\ttotal: 1m 57s\tremaining: 236ms\n",
      "998:\tlearn: 0.2215291\ttotal: 1m 57s\tremaining: 118ms\n",
      "999:\tlearn: 0.2215239\ttotal: 1m 58s\tremaining: 0us\n",
      "Training completed...\n",
      "----------------------\n"
     ]
    }
   ],
   "source": [
    "from catboost import Pool\n",
    "# Creating pool object for train dataset. we give information of categorical features to parameter cat_features\n",
    "# Creating pool object for train dataset. we give information of categorical features to parameter cat_features\n",
    "train_data = Pool(data=X_train,\n",
    "                  label=y_train,\n",
    "                  cat_features=cat_features\n",
    "                  )\n",
    "# Creating pool object for test dataset\n",
    "test_data = Pool(data=X_test,\n",
    "                 label=y_test,\n",
    "                 cat_features=cat_features\n",
    "                 )\n",
    "\n",
    "# build model\n",
    "print(\"model is training...\")\n",
    "print(\"----------------------\")\n",
    "cat_model = CatBoostRegressor(loss_function='RMSE', verbose=True)\n",
    "# Fit model\n",
    "cat_model.fit(train_data)\n",
    "print(\"Training completed...\")\n",
    "print(\"----------------------\")"
   ]
  },
  {
   "cell_type": "code",
   "execution_count": 1077,
   "id": "79d07e26",
   "metadata": {},
   "outputs": [
    {
     "data": {
      "text/plain": [
       "0.7185316376599815"
      ]
     },
     "execution_count": 1077,
     "metadata": {},
     "output_type": "execute_result"
    }
   ],
   "source": [
    "cat_model.score(X_test,y_test)"
   ]
  },
  {
   "cell_type": "code",
   "execution_count": 1078,
   "id": "6cb3c1f6",
   "metadata": {},
   "outputs": [
    {
     "name": "stdout",
     "output_type": "stream",
     "text": [
      "----------------------\n",
      "Results and performance on the training and testing data\n",
      "----------------------\n",
      "Train set performance\n",
      "Root Mean squared error 0.193\n",
      "----------------------\n",
      "Test set performance\n",
      "Root Mean squared error 0.221\n"
     ]
    }
   ],
   "source": [
    "# Prediction on train and test\n",
    "y_train_pred = cat_model.predict(X_train)\n",
    "y_test_pred = cat_model.predict(X_test)\n",
    "print(\"----------------------\")\n",
    "print(\"Results and performance on the training and testing data\")\n",
    "print(\"----------------------\")\n",
    "print(\"Train set performance\")\n",
    "rmse = mean_squared_error(y_train, y_train_pred)**0.5\n",
    "print(\"Root Mean squared error {:.3f}\".format(rmse))\n",
    "print(\"----------------------\")\n",
    "print(\"Test set performance\")\n",
    "rmse = mean_squared_error(y_test, y_test_pred)**0.5\n",
    "print(\"Root Mean squared error {:.3f}\".format(rmse))\n",
    "# pickle.dump(cat_model, open(r\"D:/OneDrive - Quadratic Insights Pvt Ltd/Desktop/Prediction_Engine/catboost_model1.pkl\", 'wb'))"
   ]
  },
  {
   "cell_type": "code",
   "execution_count": 1079,
   "id": "cfb12197",
   "metadata": {},
   "outputs": [
    {
     "name": "stdout",
     "output_type": "stream",
     "text": [
      "Training performance\n",
      "Mean abs error 0.13\n",
      "----------------------\n",
      "Testing performance\n",
      "Mean abs error 0.15\n"
     ]
    }
   ],
   "source": [
    "print(\"Training performance\")\n",
    "mean_abs_error = mean_absolute_error(y_train, y_train_pred)\n",
    "print(\"Mean abs error {:.2f}\".format(mean_abs_error))\n",
    "print(\"----------------------\")\n",
    "print(\"Testing performance\")\n",
    "mean_abs_error = mean_absolute_error(y_test, y_test_pred)\n",
    "print(\"Mean abs error {:.2f}\".format(mean_abs_error))"
   ]
  },
  {
   "cell_type": "code",
   "execution_count": 1080,
   "id": "e2794060",
   "metadata": {},
   "outputs": [
    {
     "data": {
      "image/png": "[encoded data removed]",
      "text/plain": [
       "<Figure size 640x480 with 1 Axes>"
      ]
     },
     "metadata": {},
     "output_type": "display_data"
    }
   ],
   "source": [
    "y_test.plot(kind='hist');plt.show()"
   ]
  },
  {
   "cell_type": "code",
   "execution_count": 1081,
   "id": "d31be730",
   "metadata": {
    "scrolled": false
   },
   "outputs": [
    {
     "data": {
      "image/png": "[encoded data removed]",
      "text/plain": [
       "<Figure size 640x480 with 1 Axes>"
      ]
     },
     "metadata": {},
     "output_type": "display_data"
    }
   ],
   "source": [
    "plt.hist(y_test_pred)\n",
    "plt.show()"
   ]
  },
  {
   "cell_type": "code",
   "execution_count": 1082,
   "id": "1d4f1831",
   "metadata": {
    "scrolled": true
   },
   "outputs": [],
   "source": [
    "pred_df = pd.DataFrame({'actual':y_test,'pred':y_test_pred,'abs_error':abs(y_test - y_test_pred)})"
   ]
  },
  {
   "cell_type": "code",
   "execution_count": 1083,
   "id": "3fdc8b3c",
   "metadata": {},
   "outputs": [
    {
     "data": {
      "text/html": [
       "<div>\n",
       "<style scoped>\n",
       "    .dataframe tbody tr th:only-of-type {\n",
       "        vertical-align: middle;\n",
       "    }\n",
       "\n",
       "    .dataframe tbody tr th {\n",
       "        vertical-align: top;\n",
       "    }\n",
       "\n",
       "    .dataframe thead th {\n",
       "        text-align: right;\n",
       "    }\n",
       "</style>\n",
       "<table border=\"1\" class=\"dataframe\">\n",
       "  <thead>\n",
       "    <tr style=\"text-align: right;\">\n",
       "      <th></th>\n",
       "      <th>actual</th>\n",
       "      <th>pred</th>\n",
       "      <th>abs_error</th>\n",
       "    </tr>\n",
       "  </thead>\n",
       "  <tbody>\n",
       "    <tr>\n",
       "      <th>30521</th>\n",
       "      <td>0.497556</td>\n",
       "      <td>0.784402</td>\n",
       "      <td>0.286846</td>\n",
       "    </tr>\n",
       "    <tr>\n",
       "      <th>31473</th>\n",
       "      <td>0.000000</td>\n",
       "      <td>0.253019</td>\n",
       "      <td>0.253019</td>\n",
       "    </tr>\n",
       "    <tr>\n",
       "      <th>63521</th>\n",
       "      <td>0.000000</td>\n",
       "      <td>-0.001049</td>\n",
       "      <td>0.001049</td>\n",
       "    </tr>\n",
       "    <tr>\n",
       "      <th>22004</th>\n",
       "      <td>0.247222</td>\n",
       "      <td>0.536282</td>\n",
       "      <td>0.289059</td>\n",
       "    </tr>\n",
       "    <tr>\n",
       "      <th>23211</th>\n",
       "      <td>0.328591</td>\n",
       "      <td>0.393507</td>\n",
       "      <td>0.064916</td>\n",
       "    </tr>\n",
       "  </tbody>\n",
       "</table>\n",
       "</div>"
      ],
      "text/plain": [
       "         actual      pred  abs_error\n",
       "30521  0.497556  0.784402   0.286846\n",
       "31473  0.000000  0.253019   0.253019\n",
       "63521  0.000000 -0.001049   0.001049\n",
       "22004  0.247222  0.536282   0.289059\n",
       "23211  0.328591  0.393507   0.064916"
      ]
     },
     "execution_count": 1083,
     "metadata": {},
     "output_type": "execute_result"
    }
   ],
   "source": [
    "pred_df.head()"
   ]
  },
  {
   "cell_type": "code",
   "execution_count": 1084,
   "id": "262ee687",
   "metadata": {},
   "outputs": [
    {
     "data": {
      "text/plain": [
       "count    15007.000000\n",
       "mean         0.153041\n",
       "std          0.159607\n",
       "min          0.000006\n",
       "25%          0.038021\n",
       "50%          0.100794\n",
       "75%          0.210798\n",
       "max          0.990445\n",
       "Name: abs_error, dtype: float64"
      ]
     },
     "execution_count": 1084,
     "metadata": {},
     "output_type": "execute_result"
    }
   ],
   "source": [
    "pred_df.abs_error.describe()"
   ]
  },
  {
   "cell_type": "code",
   "execution_count": 1085,
   "id": "31171adf",
   "metadata": {},
   "outputs": [
    {
     "data": {
      "image/png": "[encoded data removed]",
      "text/plain": [
       "<Figure size 640x480 with 1 Axes>"
      ]
     },
     "metadata": {},
     "output_type": "display_data"
    }
   ],
   "source": [
    "pred_df.abs_error.plot(kind='hist');plt.show()"
   ]
  },
  {
   "cell_type": "code",
   "execution_count": 1090,
   "id": "230d6c95",
   "metadata": {
    "scrolled": true
   },
   "outputs": [
    {
     "data": {
      "text/plain": [
       "0.847271273405744"
      ]
     },
     "execution_count": 1090,
     "metadata": {},
     "output_type": "execute_result"
    }
   ],
   "source": [
    "(pred_df.abs_error<0.3).sum()/pred_df.shape[0]"
   ]
  },
  {
   "cell_type": "code",
   "execution_count": 1091,
   "id": "4efe6de1",
   "metadata": {},
   "outputs": [
    {
     "data": {
      "image/png": "[encoded data removed]",
      "text/plain": [
       "<Figure size 640x480 with 1 Axes>"
      ]
     },
     "metadata": {},
     "output_type": "display_data"
    }
   ],
   "source": [
    "pred_df[pred_df.actual<0.10].abs_error.plot(kind='hist');plt.show()"
   ]
  },
  {
   "cell_type": "code",
   "execution_count": 1092,
   "id": "678eb17d",
   "metadata": {},
   "outputs": [
    {
     "data": {
      "image/png": "[encoded data removed]",
      "text/plain": [
       "<Figure size 640x480 with 1 Axes>"
      ]
     },
     "metadata": {},
     "output_type": "display_data"
    }
   ],
   "source": [
    "pred_df[(pred_df.actual>0.10) & (pred_df.actual<0.90)].abs_error.plot(kind='hist');plt.show()"
   ]
  },
  {
   "cell_type": "code",
   "execution_count": 1093,
   "id": "ad55f27e",
   "metadata": {
    "scrolled": false
   },
   "outputs": [
    {
     "data": {
      "image/png": "[encoded data removed]",
      "text/plain": [
       "<Figure size 640x480 with 1 Axes>"
      ]
     },
     "metadata": {},
     "output_type": "display_data"
    }
   ],
   "source": [
    "pred_df[pred_df.actual>0.90].abs_error.plot(kind='hist');plt.show()"
   ]
  },
  {
   "cell_type": "code",
   "execution_count": 1094,
   "id": "22ba1790",
   "metadata": {},
   "outputs": [],
   "source": [
    "## Linear Regression\n",
    "from sklearn.linear_model import LinearRegression"
   ]
  },
  {
   "cell_type": "code",
   "execution_count": 1095,
   "id": "e1ccec0b",
   "metadata": {},
   "outputs": [],
   "source": [
    "reg = LinearRegression()"
   ]
  },
  {
   "cell_type": "code",
   "execution_count": 1096,
   "id": "ff954770",
   "metadata": {},
   "outputs": [],
   "source": [
    "X_train_dummified = pd.get_dummies(X_train)\n",
    "\n",
    "X_test_dummified = pd.get_dummies(X_test)"
   ]
  },
  {
   "cell_type": "code",
   "execution_count": 1097,
   "id": "b2ef6e45",
   "metadata": {},
   "outputs": [
    {
     "data": {
      "text/html": [
       "<style>#sk-container-id-6 {color: black;background-color: white;}#sk-container-id-6 pre{padding: 0;}#sk-container-id-6 div.sk-toggleable {background-color: white;}#sk-container-id-6 label.sk-toggleable__label {cursor: pointer;display: block;width: 100%;margin-bottom: 0;padding: 0.3em;box-sizing: border-box;text-align: center;}#sk-container-id-6 label.sk-toggleable__label-arrow:before {content: \"▸\";float: left;margin-right: 0.25em;color: #696969;}#sk-container-id-6 label.sk-toggleable__label-arrow:hover:before {color: black;}#sk-container-id-6 div.sk-estimator:hover label.sk-toggleable__label-arrow:before {color: black;}#sk-container-id-6 div.sk-toggleable__content {max-height: 0;max-width: 0;overflow: hidden;text-align: left;background-color: #f0f8ff;}#sk-container-id-6 div.sk-toggleable__content pre {margin: 0.2em;color: black;border-radius: 0.25em;background-color: #f0f8ff;}#sk-container-id-6 input.sk-toggleable__control:checked~div.sk-toggleable__content {max-height: 200px;max-width: 100%;overflow: auto;}#sk-container-id-6 input.sk-toggleable__control:checked~label.sk-toggleable__label-arrow:before {content: \"▾\";}#sk-container-id-6 div.sk-estimator input.sk-toggleable__control:checked~label.sk-toggleable__label {background-color: #d4ebff;}#sk-container-id-6 div.sk-label input.sk-toggleable__control:checked~label.sk-toggleable__label {background-color: #d4ebff;}#sk-container-id-6 input.sk-hidden--visually {border: 0;clip: rect(1px 1px 1px 1px);clip: rect(1px, 1px, 1px, 1px);height: 1px;margin: -1px;overflow: hidden;padding: 0;position: absolute;width: 1px;}#sk-container-id-6 div.sk-estimator {font-family: monospace;background-color: #f0f8ff;border: 1px dotted black;border-radius: 0.25em;box-sizing: border-box;margin-bottom: 0.5em;}#sk-container-id-6 div.sk-estimator:hover {background-color: #d4ebff;}#sk-container-id-6 div.sk-parallel-item::after {content: \"\";width: 100%;border-bottom: 1px solid gray;flex-grow: 1;}#sk-container-id-6 div.sk-label:hover label.sk-toggleable__label {background-color: #d4ebff;}#sk-container-id-6 div.sk-serial::before {content: \"\";position: absolute;border-left: 1px solid gray;box-sizing: border-box;top: 0;bottom: 0;left: 50%;z-index: 0;}#sk-container-id-6 div.sk-serial {display: flex;flex-direction: column;align-items: center;background-color: white;padding-right: 0.2em;padding-left: 0.2em;position: relative;}#sk-container-id-6 div.sk-item {position: relative;z-index: 1;}#sk-container-id-6 div.sk-parallel {display: flex;align-items: stretch;justify-content: center;background-color: white;position: relative;}#sk-container-id-6 div.sk-item::before, #sk-container-id-6 div.sk-parallel-item::before {content: \"\";position: absolute;border-left: 1px solid gray;box-sizing: border-box;top: 0;bottom: 0;left: 50%;z-index: -1;}#sk-container-id-6 div.sk-parallel-item {display: flex;flex-direction: column;z-index: 1;position: relative;background-color: white;}#sk-container-id-6 div.sk-parallel-item:first-child::after {align-self: flex-end;width: 50%;}#sk-container-id-6 div.sk-parallel-item:last-child::after {align-self: flex-start;width: 50%;}#sk-container-id-6 div.sk-parallel-item:only-child::after {width: 0;}#sk-container-id-6 div.sk-dashed-wrapped {border: 1px dashed gray;margin: 0 0.4em 0.5em 0.4em;box-sizing: border-box;padding-bottom: 0.4em;background-color: white;}#sk-container-id-6 div.sk-label label {font-family: monospace;font-weight: bold;display: inline-block;line-height: 1.2em;}#sk-container-id-6 div.sk-label-container {text-align: center;}#sk-container-id-6 div.sk-container {/* jupyter's `normalize.less` sets `[hidden] { display: none; }` but bootstrap.min.css set `[hidden] { display: none !important; }` so we also need the `!important` here to be able to override the default hidden behavior on the sphinx rendered scikit-learn.org. See: https://github.com/scikit-learn/scikit-learn/issues/21755 */display: inline-block !important;position: relative;}#sk-container-id-6 div.sk-text-repr-fallback {display: none;}</style><div id=\"sk-container-id-6\" class=\"sk-top-container\"><div class=\"sk-text-repr-fallback\"><pre>LinearRegression()</pre><b>In a Jupyter environment, please rerun this cell to show the HTML representation or trust the notebook. <br />On GitHub, the HTML representation is unable to render, please try loading this page with nbviewer.org.</b></div><div class=\"sk-container\" hidden><div class=\"sk-item\"><div class=\"sk-estimator sk-toggleable\"><input class=\"sk-toggleable__control sk-hidden--visually\" id=\"sk-estimator-id-6\" type=\"checkbox\" checked><label for=\"sk-estimator-id-6\" class=\"sk-toggleable__label sk-toggleable__label-arrow\">LinearRegression</label><div class=\"sk-toggleable__content\"><pre>LinearRegression()</pre></div></div></div></div></div>"
      ],
      "text/plain": [
       "LinearRegression()"
      ]
     },
     "execution_count": 1097,
     "metadata": {},
     "output_type": "execute_result"
    }
   ],
   "source": [
    "reg.fit(X_train_dummified, y_train)"
   ]
  },
  {
   "cell_type": "code",
   "execution_count": 1098,
   "id": "8f67e487",
   "metadata": {},
   "outputs": [
    {
     "data": {
      "text/plain": [
       "0.3704457987396501"
      ]
     },
     "execution_count": 1098,
     "metadata": {},
     "output_type": "execute_result"
    }
   ],
   "source": [
    "reg.score(X_test_dummified,y_test)"
   ]
  },
  {
   "cell_type": "code",
   "execution_count": 1100,
   "id": "df6930df",
   "metadata": {},
   "outputs": [
    {
     "name": "stdout",
     "output_type": "stream",
     "text": [
      "Training performance\n",
      "Mean abs error 0.27\n",
      "----------------------\n",
      "Testing performance\n",
      "Mean abs error 0.27\n"
     ]
    }
   ],
   "source": [
    "train_preds = reg.predict(X_train_dummified)\n",
    "\n",
    "lr_preds = reg.predict(X_test_dummified)\n",
    "\n",
    "print(\"Training performance\")\n",
    "mean_sq_error = mean_absolute_error(y_train, train_preds)\n",
    "print(\"Mean abs error {:.2f}\".format(mean_sq_error))\n",
    "print(\"----------------------\")\n",
    "print(\"Testing performance\")\n",
    "mean_sq_error = mean_absolute_error(y_test, lr_preds)\n",
    "print(\"Mean abs error {:.2f}\".format(mean_sq_error))\n",
    "# pickle.dump(cat_model, open(r\"D:/OneDrive - Quadratic Insights Pvt Ltd/Desktop/Prediction_Engine/catboost_model1.pkl\", 'wb'))"
   ]
  },
  {
   "cell_type": "code",
   "execution_count": 1101,
   "id": "dde33654",
   "metadata": {},
   "outputs": [],
   "source": [
    "#Random Forest\n",
    "from sklearn.ensemble import RandomForestRegressor"
   ]
  },
  {
   "cell_type": "code",
   "execution_count": 1102,
   "id": "777db8c6",
   "metadata": {},
   "outputs": [
    {
     "name": "stderr",
     "output_type": "stream",
     "text": [
      "[Parallel(n_jobs=4)]: Using backend ThreadingBackend with 4 concurrent workers.\n",
      "[Parallel(n_jobs=4)]: Done  42 tasks      | elapsed:  1.4min\n",
      "[Parallel(n_jobs=4)]: Done 100 out of 100 | elapsed:  3.3min finished\n"
     ]
    },
    {
     "data": {
      "text/html": [
       "<style>#sk-container-id-7 {color: black;background-color: white;}#sk-container-id-7 pre{padding: 0;}#sk-container-id-7 div.sk-toggleable {background-color: white;}#sk-container-id-7 label.sk-toggleable__label {cursor: pointer;display: block;width: 100%;margin-bottom: 0;padding: 0.3em;box-sizing: border-box;text-align: center;}#sk-container-id-7 label.sk-toggleable__label-arrow:before {content: \"▸\";float: left;margin-right: 0.25em;color: #696969;}#sk-container-id-7 label.sk-toggleable__label-arrow:hover:before {color: black;}#sk-container-id-7 div.sk-estimator:hover label.sk-toggleable__label-arrow:before {color: black;}#sk-container-id-7 div.sk-toggleable__content {max-height: 0;max-width: 0;overflow: hidden;text-align: left;background-color: #f0f8ff;}#sk-container-id-7 div.sk-toggleable__content pre {margin: 0.2em;color: black;border-radius: 0.25em;background-color: #f0f8ff;}#sk-container-id-7 input.sk-toggleable__control:checked~div.sk-toggleable__content {max-height: 200px;max-width: 100%;overflow: auto;}#sk-container-id-7 input.sk-toggleable__control:checked~label.sk-toggleable__label-arrow:before {content: \"▾\";}#sk-container-id-7 div.sk-estimator input.sk-toggleable__control:checked~label.sk-toggleable__label {background-color: #d4ebff;}#sk-container-id-7 div.sk-label input.sk-toggleable__control:checked~label.sk-toggleable__label {background-color: #d4ebff;}#sk-container-id-7 input.sk-hidden--visually {border: 0;clip: rect(1px 1px 1px 1px);clip: rect(1px, 1px, 1px, 1px);height: 1px;margin: -1px;overflow: hidden;padding: 0;position: absolute;width: 1px;}#sk-container-id-7 div.sk-estimator {font-family: monospace;background-color: #f0f8ff;border: 1px dotted black;border-radius: 0.25em;box-sizing: border-box;margin-bottom: 0.5em;}#sk-container-id-7 div.sk-estimator:hover {background-color: #d4ebff;}#sk-container-id-7 div.sk-parallel-item::after {content: \"\";width: 100%;border-bottom: 1px solid gray;flex-grow: 1;}#sk-container-id-7 div.sk-label:hover label.sk-toggleable__label {background-color: #d4ebff;}#sk-container-id-7 div.sk-serial::before {content: \"\";position: absolute;border-left: 1px solid gray;box-sizing: border-box;top: 0;bottom: 0;left: 50%;z-index: 0;}#sk-container-id-7 div.sk-serial {display: flex;flex-direction: column;align-items: center;background-color: white;padding-right: 0.2em;padding-left: 0.2em;position: relative;}#sk-container-id-7 div.sk-item {position: relative;z-index: 1;}#sk-container-id-7 div.sk-parallel {display: flex;align-items: stretch;justify-content: center;background-color: white;position: relative;}#sk-container-id-7 div.sk-item::before, #sk-container-id-7 div.sk-parallel-item::before {content: \"\";position: absolute;border-left: 1px solid gray;box-sizing: border-box;top: 0;bottom: 0;left: 50%;z-index: -1;}#sk-container-id-7 div.sk-parallel-item {display: flex;flex-direction: column;z-index: 1;position: relative;background-color: white;}#sk-container-id-7 div.sk-parallel-item:first-child::after {align-self: flex-end;width: 50%;}#sk-container-id-7 div.sk-parallel-item:last-child::after {align-self: flex-start;width: 50%;}#sk-container-id-7 div.sk-parallel-item:only-child::after {width: 0;}#sk-container-id-7 div.sk-dashed-wrapped {border: 1px dashed gray;margin: 0 0.4em 0.5em 0.4em;box-sizing: border-box;padding-bottom: 0.4em;background-color: white;}#sk-container-id-7 div.sk-label label {font-family: monospace;font-weight: bold;display: inline-block;line-height: 1.2em;}#sk-container-id-7 div.sk-label-container {text-align: center;}#sk-container-id-7 div.sk-container {/* jupyter's `normalize.less` sets `[hidden] { display: none; }` but bootstrap.min.css set `[hidden] { display: none !important; }` so we also need the `!important` here to be able to override the default hidden behavior on the sphinx rendered scikit-learn.org. See: https://github.com/scikit-learn/scikit-learn/issues/21755 */display: inline-block !important;position: relative;}#sk-container-id-7 div.sk-text-repr-fallback {display: none;}</style><div id=\"sk-container-id-7\" class=\"sk-top-container\"><div class=\"sk-text-repr-fallback\"><pre>RandomForestRegressor(n_jobs=4, verbose=1)</pre><b>In a Jupyter environment, please rerun this cell to show the HTML representation or trust the notebook. <br />On GitHub, the HTML representation is unable to render, please try loading this page with nbviewer.org.</b></div><div class=\"sk-container\" hidden><div class=\"sk-item\"><div class=\"sk-estimator sk-toggleable\"><input class=\"sk-toggleable__control sk-hidden--visually\" id=\"sk-estimator-id-7\" type=\"checkbox\" checked><label for=\"sk-estimator-id-7\" class=\"sk-toggleable__label sk-toggleable__label-arrow\">RandomForestRegressor</label><div class=\"sk-toggleable__content\"><pre>RandomForestRegressor(n_jobs=4, verbose=1)</pre></div></div></div></div></div>"
      ],
      "text/plain": [
       "RandomForestRegressor(n_jobs=4, verbose=1)"
      ]
     },
     "execution_count": 1102,
     "metadata": {},
     "output_type": "execute_result"
    }
   ],
   "source": [
    "rf = RandomForestRegressor(verbose=1,n_jobs=4)\n",
    "rf.fit(X_train_dummified,y_train)"
   ]
  },
  {
   "cell_type": "code",
   "execution_count": 1103,
   "id": "b38c605a",
   "metadata": {},
   "outputs": [
    {
     "name": "stderr",
     "output_type": "stream",
     "text": [
      "[Parallel(n_jobs=4)]: Using backend ThreadingBackend with 4 concurrent workers.\n",
      "[Parallel(n_jobs=4)]: Done  42 tasks      | elapsed:    0.0s\n",
      "[Parallel(n_jobs=4)]: Done 100 out of 100 | elapsed:    0.1s finished\n"
     ]
    },
    {
     "data": {
      "text/plain": [
       "0.7332139195470115"
      ]
     },
     "execution_count": 1103,
     "metadata": {},
     "output_type": "execute_result"
    }
   ],
   "source": [
    "rf.score(X_test_dummified,y_test)"
   ]
  },
  {
   "cell_type": "code",
   "execution_count": 1104,
   "id": "88a09f3a",
   "metadata": {},
   "outputs": [],
   "source": [
    "forest_importances = pd.Series(rf.feature_importances_, index=X_test_dummified.columns)"
   ]
  },
  {
   "cell_type": "code",
   "execution_count": 1105,
   "id": "b01b3bd4",
   "metadata": {},
   "outputs": [
    {
     "data": {
      "image/png": "[encoded data removed]",
      "text/plain": [
       "<Figure size 640x480 with 1 Axes>"
      ]
     },
     "metadata": {},
     "output_type": "display_data"
    }
   ],
   "source": [
    "top_feat = forest_importances[forest_importances>0.005]\n",
    "top_feat.plot.bar();plt.show()"
   ]
  },
  {
   "cell_type": "code",
   "execution_count": 1106,
   "id": "7a8a5a73",
   "metadata": {},
   "outputs": [
    {
     "name": "stderr",
     "output_type": "stream",
     "text": [
      "[Parallel(n_jobs=4)]: Using backend ThreadingBackend with 4 concurrent workers.\n",
      "[Parallel(n_jobs=4)]: Done  42 tasks      | elapsed:    0.3s\n",
      "[Parallel(n_jobs=4)]: Done 100 out of 100 | elapsed:    0.8s finished\n",
      "[Parallel(n_jobs=4)]: Using backend ThreadingBackend with 4 concurrent workers.\n",
      "[Parallel(n_jobs=4)]: Done  42 tasks      | elapsed:    0.0s\n"
     ]
    },
    {
     "name": "stdout",
     "output_type": "stream",
     "text": [
      "Train set performance\n",
      "Mean absolute error 0.05\n",
      "----------------------\n",
      "Test set performance\n",
      "Mean absolute error 0.13\n"
     ]
    },
    {
     "name": "stderr",
     "output_type": "stream",
     "text": [
      "[Parallel(n_jobs=4)]: Done 100 out of 100 | elapsed:    0.1s finished\n"
     ]
    }
   ],
   "source": [
    "rf_train_preds = rf.predict(X_train_dummified)\n",
    "rf_preds = rf.predict(X_test_dummified)\n",
    "\n",
    "print(\"Train set performance\")\n",
    "mean_abs_error = mean_absolute_error(y_train, rf_train_preds)\n",
    "print(\"Mean absolute error {:.2f}\".format(mean_abs_error))\n",
    "print(\"----------------------\")\n",
    "print(\"Test set performance\")\n",
    "mean_abs_error = mean_absolute_error(y_test, rf_preds)\n",
    "print(\"Mean absolute error {:.2f}\".format(mean_abs_error))\n",
    "# pickle.dump(cat_model, open(r\"D:/OneDrive - Quadratic Insights Pvt Ltd/Desktop/Prediction_Engine/catboost_model1.pkl\", 'wb'))"
   ]
  },
  {
   "cell_type": "code",
   "execution_count": 1107,
   "id": "e79065e4",
   "metadata": {},
   "outputs": [],
   "source": [
    "## XGBoost\n",
    "from xgboost import XGBRegressor\n",
    "xgb = XGBRegressor(n_jobs=4)"
   ]
  },
  {
   "cell_type": "code",
   "execution_count": 1108,
   "id": "dc0ea204",
   "metadata": {},
   "outputs": [
    {
     "data": {
      "text/html": [
       "<style>#sk-container-id-8 {color: black;background-color: white;}#sk-container-id-8 pre{padding: 0;}#sk-container-id-8 div.sk-toggleable {background-color: white;}#sk-container-id-8 label.sk-toggleable__label {cursor: pointer;display: block;width: 100%;margin-bottom: 0;padding: 0.3em;box-sizing: border-box;text-align: center;}#sk-container-id-8 label.sk-toggleable__label-arrow:before {content: \"▸\";float: left;margin-right: 0.25em;color: #696969;}#sk-container-id-8 label.sk-toggleable__label-arrow:hover:before {color: black;}#sk-container-id-8 div.sk-estimator:hover label.sk-toggleable__label-arrow:before {color: black;}#sk-container-id-8 div.sk-toggleable__content {max-height: 0;max-width: 0;overflow: hidden;text-align: left;background-color: #f0f8ff;}#sk-container-id-8 div.sk-toggleable__content pre {margin: 0.2em;color: black;border-radius: 0.25em;background-color: #f0f8ff;}#sk-container-id-8 input.sk-toggleable__control:checked~div.sk-toggleable__content {max-height: 200px;max-width: 100%;overflow: auto;}#sk-container-id-8 input.sk-toggleable__control:checked~label.sk-toggleable__label-arrow:before {content: \"▾\";}#sk-container-id-8 div.sk-estimator input.sk-toggleable__control:checked~label.sk-toggleable__label {background-color: #d4ebff;}#sk-container-id-8 div.sk-label input.sk-toggleable__control:checked~label.sk-toggleable__label {background-color: #d4ebff;}#sk-container-id-8 input.sk-hidden--visually {border: 0;clip: rect(1px 1px 1px 1px);clip: rect(1px, 1px, 1px, 1px);height: 1px;margin: -1px;overflow: hidden;padding: 0;position: absolute;width: 1px;}#sk-container-id-8 div.sk-estimator {font-family: monospace;background-color: #f0f8ff;border: 1px dotted black;border-radius: 0.25em;box-sizing: border-box;margin-bottom: 0.5em;}#sk-container-id-8 div.sk-estimator:hover {background-color: #d4ebff;}#sk-container-id-8 div.sk-parallel-item::after {content: \"\";width: 100%;border-bottom: 1px solid gray;flex-grow: 1;}#sk-container-id-8 div.sk-label:hover label.sk-toggleable__label {background-color: #d4ebff;}#sk-container-id-8 div.sk-serial::before {content: \"\";position: absolute;border-left: 1px solid gray;box-sizing: border-box;top: 0;bottom: 0;left: 50%;z-index: 0;}#sk-container-id-8 div.sk-serial {display: flex;flex-direction: column;align-items: center;background-color: white;padding-right: 0.2em;padding-left: 0.2em;position: relative;}#sk-container-id-8 div.sk-item {position: relative;z-index: 1;}#sk-container-id-8 div.sk-parallel {display: flex;align-items: stretch;justify-content: center;background-color: white;position: relative;}#sk-container-id-8 div.sk-item::before, #sk-container-id-8 div.sk-parallel-item::before {content: \"\";position: absolute;border-left: 1px solid gray;box-sizing: border-box;top: 0;bottom: 0;left: 50%;z-index: -1;}#sk-container-id-8 div.sk-parallel-item {display: flex;flex-direction: column;z-index: 1;position: relative;background-color: white;}#sk-container-id-8 div.sk-parallel-item:first-child::after {align-self: flex-end;width: 50%;}#sk-container-id-8 div.sk-parallel-item:last-child::after {align-self: flex-start;width: 50%;}#sk-container-id-8 div.sk-parallel-item:only-child::after {width: 0;}#sk-container-id-8 div.sk-dashed-wrapped {border: 1px dashed gray;margin: 0 0.4em 0.5em 0.4em;box-sizing: border-box;padding-bottom: 0.4em;background-color: white;}#sk-container-id-8 div.sk-label label {font-family: monospace;font-weight: bold;display: inline-block;line-height: 1.2em;}#sk-container-id-8 div.sk-label-container {text-align: center;}#sk-container-id-8 div.sk-container {/* jupyter's `normalize.less` sets `[hidden] { display: none; }` but bootstrap.min.css set `[hidden] { display: none !important; }` so we also need the `!important` here to be able to override the default hidden behavior on the sphinx rendered scikit-learn.org. See: https://github.com/scikit-learn/scikit-learn/issues/21755 */display: inline-block !important;position: relative;}#sk-container-id-8 div.sk-text-repr-fallback {display: none;}</style><div id=\"sk-container-id-8\" class=\"sk-top-container\"><div class=\"sk-text-repr-fallback\"><pre>XGBRegressor(base_score=None, booster=None, callbacks=None,\n",
       "             colsample_bylevel=None, colsample_bynode=None,\n",
       "             colsample_bytree=None, early_stopping_rounds=None,\n",
       "             enable_categorical=False, eval_metric=None, feature_types=None,\n",
       "             gamma=None, gpu_id=None, grow_policy=None, importance_type=None,\n",
       "             interaction_constraints=None, learning_rate=None, max_bin=None,\n",
       "             max_cat_threshold=None, max_cat_to_onehot=None,\n",
       "             max_delta_step=None, max_depth=None, max_leaves=None,\n",
       "             min_child_weight=None, missing=nan, monotone_constraints=None,\n",
       "             n_estimators=100, n_jobs=4, num_parallel_tree=None, predictor=None,\n",
       "             random_state=None, ...)</pre><b>In a Jupyter environment, please rerun this cell to show the HTML representation or trust the notebook. <br />On GitHub, the HTML representation is unable to render, please try loading this page with nbviewer.org.</b></div><div class=\"sk-container\" hidden><div class=\"sk-item\"><div class=\"sk-estimator sk-toggleable\"><input class=\"sk-toggleable__control sk-hidden--visually\" id=\"sk-estimator-id-8\" type=\"checkbox\" checked><label for=\"sk-estimator-id-8\" class=\"sk-toggleable__label sk-toggleable__label-arrow\">XGBRegressor</label><div class=\"sk-toggleable__content\"><pre>XGBRegressor(base_score=None, booster=None, callbacks=None,\n",
       "             colsample_bylevel=None, colsample_bynode=None,\n",
       "             colsample_bytree=None, early_stopping_rounds=None,\n",
       "             enable_categorical=False, eval_metric=None, feature_types=None,\n",
       "             gamma=None, gpu_id=None, grow_policy=None, importance_type=None,\n",
       "             interaction_constraints=None, learning_rate=None, max_bin=None,\n",
       "             max_cat_threshold=None, max_cat_to_onehot=None,\n",
       "             max_delta_step=None, max_depth=None, max_leaves=None,\n",
       "             min_child_weight=None, missing=nan, monotone_constraints=None,\n",
       "             n_estimators=100, n_jobs=4, num_parallel_tree=None, predictor=None,\n",
       "             random_state=None, ...)</pre></div></div></div></div></div>"
      ],
      "text/plain": [
       "XGBRegressor(base_score=None, booster=None, callbacks=None,\n",
       "             colsample_bylevel=None, colsample_bynode=None,\n",
       "             colsample_bytree=None, early_stopping_rounds=None,\n",
       "             enable_categorical=False, eval_metric=None, feature_types=None,\n",
       "             gamma=None, gpu_id=None, grow_policy=None, importance_type=None,\n",
       "             interaction_constraints=None, learning_rate=None, max_bin=None,\n",
       "             max_cat_threshold=None, max_cat_to_onehot=None,\n",
       "             max_delta_step=None, max_depth=None, max_leaves=None,\n",
       "             min_child_weight=None, missing=nan, monotone_constraints=None,\n",
       "             n_estimators=100, n_jobs=4, num_parallel_tree=None, predictor=None,\n",
       "             random_state=None, ...)"
      ]
     },
     "execution_count": 1108,
     "metadata": {},
     "output_type": "execute_result"
    }
   ],
   "source": [
    "xgb.fit(X_train_dummified,y_train)"
   ]
  },
  {
   "cell_type": "code",
   "execution_count": 1109,
   "id": "abde638a",
   "metadata": {},
   "outputs": [
    {
     "data": {
      "text/plain": [
       "(0.7076242950343407, 0.6683694922339172)"
      ]
     },
     "execution_count": 1109,
     "metadata": {},
     "output_type": "execute_result"
    }
   ],
   "source": [
    "xgb.score(X_train_dummified,y_train),xgb.score(X_test_dummified,y_test)"
   ]
  },
  {
   "cell_type": "code",
   "execution_count": 1110,
   "id": "d677c357",
   "metadata": {},
   "outputs": [
    {
     "name": "stdout",
     "output_type": "stream",
     "text": [
      "Train set performance\n",
      "Mean absolute error 0.17\n",
      "----------------------\n",
      "Test set performance\n",
      "Mean absolute error 0.18\n"
     ]
    }
   ],
   "source": [
    "xgb_train_preds = xgb.predict(X_train_dummified)\n",
    "xgb_preds = xgb.predict(X_test_dummified)\n",
    "\n",
    "print(\"Train set performance\")\n",
    "mean_abs_error = mean_absolute_error(y_train, xgb_train_preds)\n",
    "print(\"Mean absolute error {:.2f}\".format(mean_abs_error))\n",
    "print(\"----------------------\")\n",
    "print(\"Test set performance\")\n",
    "mean_abs_error = mean_absolute_error(y_test, xgb_preds)\n",
    "print(\"Mean absolute error {:.2f}\".format(mean_abs_error))\n",
    "# pickle.dump(cat_model, open(r\"D:/OneDrive - Quadratic Insights Pvt Ltd/Desktop/Prediction_Engine/catboost_model1.pkl\", 'wb'))"
   ]
  },
  {
   "cell_type": "markdown",
   "id": "d6099f66",
   "metadata": {},
   "source": [
    "### Model using 'allowed' for target var calculation "
   ]
  },
  {
   "cell_type": "code",
   "execution_count": 1357,
   "id": "19cae891",
   "metadata": {},
   "outputs": [
    {
     "data": {
      "text/html": [
       "<div>\n",
       "<style scoped>\n",
       "    .dataframe tbody tr th:only-of-type {\n",
       "        vertical-align: middle;\n",
       "    }\n",
       "\n",
       "    .dataframe tbody tr th {\n",
       "        vertical-align: top;\n",
       "    }\n",
       "\n",
       "    .dataframe thead th {\n",
       "        text-align: right;\n",
       "    }\n",
       "</style>\n",
       "<table border=\"1\" class=\"dataframe\">\n",
       "  <thead>\n",
       "    <tr style=\"text-align: right;\">\n",
       "      <th></th>\n",
       "      <th>Service_ID</th>\n",
       "      <th>Patient_Number</th>\n",
       "      <th>patient_age</th>\n",
       "      <th>Actual_Dr_Name</th>\n",
       "      <th>Place_of_Service_Abbr</th>\n",
       "      <th>Proc_Category_Abbr</th>\n",
       "      <th>Type_of_Service_Abbr</th>\n",
       "      <th>patient_zip_code</th>\n",
       "      <th>patient_sex</th>\n",
       "      <th>Original_Carrier_Name</th>\n",
       "      <th>...</th>\n",
       "      <th>Original_Billing_Date</th>\n",
       "      <th>Date_Paid</th>\n",
       "      <th>Service_Fee</th>\n",
       "      <th>Amount</th>\n",
       "      <th>Allowed</th>\n",
       "      <th>Deductible</th>\n",
       "      <th>Transaction_Type</th>\n",
       "      <th>Abbreviation</th>\n",
       "      <th>Description</th>\n",
       "      <th>Self_Pay_TranCode</th>\n",
       "    </tr>\n",
       "  </thead>\n",
       "  <tbody>\n",
       "    <tr>\n",
       "      <th>0</th>\n",
       "      <td>3632971</td>\n",
       "      <td>060933</td>\n",
       "      <td>60</td>\n",
       "      <td>Esther Selik NP</td>\n",
       "      <td>EP Fer</td>\n",
       "      <td>OTHER</td>\n",
       "      <td>OTHER</td>\n",
       "      <td>48224</td>\n",
       "      <td>F</td>\n",
       "      <td>Hap</td>\n",
       "      <td>...</td>\n",
       "      <td>2022-06-11</td>\n",
       "      <td>2022-06-21</td>\n",
       "      <td>31.2</td>\n",
       "      <td>0.00</td>\n",
       "      <td>NaN</td>\n",
       "      <td>NaN</td>\n",
       "      <td>P</td>\n",
       "      <td>COMPMT</td>\n",
       "      <td>Commercial Ins. Payment</td>\n",
       "      <td>False</td>\n",
       "    </tr>\n",
       "    <tr>\n",
       "      <th>1</th>\n",
       "      <td>3651482</td>\n",
       "      <td>213200</td>\n",
       "      <td>58</td>\n",
       "      <td>Kristin Iannotti PA-C</td>\n",
       "      <td>EP Fer</td>\n",
       "      <td>LAB CHEM</td>\n",
       "      <td>LAB</td>\n",
       "      <td>48220</td>\n",
       "      <td>F</td>\n",
       "      <td>Medicare  Mr</td>\n",
       "      <td>...</td>\n",
       "      <td>2022-06-21</td>\n",
       "      <td>2022-07-05</td>\n",
       "      <td>18.0</td>\n",
       "      <td>0.00</td>\n",
       "      <td>NaN</td>\n",
       "      <td>NaN</td>\n",
       "      <td>P</td>\n",
       "      <td>MRPMT</td>\n",
       "      <td>Medicare Payment</td>\n",
       "      <td>False</td>\n",
       "    </tr>\n",
       "    <tr>\n",
       "      <th>2</th>\n",
       "      <td>5159299</td>\n",
       "      <td>731670</td>\n",
       "      <td>72</td>\n",
       "      <td>Shannon Webster PA-C</td>\n",
       "      <td>EPS10Mil</td>\n",
       "      <td>LAB CHEM</td>\n",
       "      <td>LAB</td>\n",
       "      <td>48075</td>\n",
       "      <td>F</td>\n",
       "      <td>Medicare  Mr</td>\n",
       "      <td>...</td>\n",
       "      <td>2023-02-28</td>\n",
       "      <td>2023-03-29</td>\n",
       "      <td>22.0</td>\n",
       "      <td>0.00</td>\n",
       "      <td>NaN</td>\n",
       "      <td>NaN</td>\n",
       "      <td>P</td>\n",
       "      <td>MDPMT</td>\n",
       "      <td>Medicaid Payment</td>\n",
       "      <td>False</td>\n",
       "    </tr>\n",
       "    <tr>\n",
       "      <th>3</th>\n",
       "      <td>4999178</td>\n",
       "      <td>859160</td>\n",
       "      <td>57</td>\n",
       "      <td>Stacey Couch FNP</td>\n",
       "      <td>EP Fer</td>\n",
       "      <td>LAB CHEM</td>\n",
       "      <td>LAB</td>\n",
       "      <td>48227</td>\n",
       "      <td>F</td>\n",
       "      <td>Allied Benefit Systems Inc</td>\n",
       "      <td>...</td>\n",
       "      <td>2023-01-31</td>\n",
       "      <td>2023-03-07</td>\n",
       "      <td>18.0</td>\n",
       "      <td>6.25</td>\n",
       "      <td>6.25</td>\n",
       "      <td>NaN</td>\n",
       "      <td>P</td>\n",
       "      <td>COMPMT</td>\n",
       "      <td>Commercial Ins. Payment</td>\n",
       "      <td>False</td>\n",
       "    </tr>\n",
       "    <tr>\n",
       "      <th>4</th>\n",
       "      <td>3595612</td>\n",
       "      <td>330360</td>\n",
       "      <td>73</td>\n",
       "      <td>Deena Chabaan PA-C</td>\n",
       "      <td>EP Fer</td>\n",
       "      <td>HCPCS_G</td>\n",
       "      <td>OTHER</td>\n",
       "      <td>48030</td>\n",
       "      <td>F</td>\n",
       "      <td>Priority Health Medicare</td>\n",
       "      <td>...</td>\n",
       "      <td>2022-06-03</td>\n",
       "      <td>2022-06-09</td>\n",
       "      <td>295.0</td>\n",
       "      <td>0.00</td>\n",
       "      <td>NaN</td>\n",
       "      <td>NaN</td>\n",
       "      <td>P</td>\n",
       "      <td>MRPMT</td>\n",
       "      <td>Medicare Payment</td>\n",
       "      <td>False</td>\n",
       "    </tr>\n",
       "  </tbody>\n",
       "</table>\n",
       "<p>5 rows × 29 columns</p>\n",
       "</div>"
      ],
      "text/plain": [
       "   Service_ID Patient_Number  patient_age         Actual_Dr_Name  \\\n",
       "0     3632971         060933           60        Esther Selik NP   \n",
       "1     3651482         213200           58  Kristin Iannotti PA-C   \n",
       "2     5159299         731670           72   Shannon Webster PA-C   \n",
       "3     4999178         859160           57       Stacey Couch FNP   \n",
       "4     3595612         330360           73     Deena Chabaan PA-C   \n",
       "\n",
       "  Place_of_Service_Abbr Proc_Category_Abbr Type_of_Service_Abbr  \\\n",
       "0              EP Fer             OTHER                OTHER      \n",
       "1              EP Fer             LAB CHEM             LAB        \n",
       "2              EPS10Mil           LAB CHEM             LAB        \n",
       "3              EP Fer             LAB CHEM             LAB        \n",
       "4              EP Fer             HCPCS_G              OTHER      \n",
       "\n",
       "  patient_zip_code patient_sex       Original_Carrier_Name  ...  \\\n",
       "0            48224           F                         Hap  ...   \n",
       "1            48220           F                Medicare  Mr  ...   \n",
       "2            48075           F                Medicare  Mr  ...   \n",
       "3            48227           F  Allied Benefit Systems Inc  ...   \n",
       "4            48030           F    Priority Health Medicare  ...   \n",
       "\n",
       "  Original_Billing_Date   Date_Paid  Service_Fee  Amount Allowed Deductible  \\\n",
       "0            2022-06-11  2022-06-21         31.2    0.00     NaN        NaN   \n",
       "1            2022-06-21  2022-07-05         18.0    0.00     NaN        NaN   \n",
       "2            2023-02-28  2023-03-29         22.0    0.00     NaN        NaN   \n",
       "3            2023-01-31  2023-03-07         18.0    6.25    6.25        NaN   \n",
       "4            2022-06-03  2022-06-09        295.0    0.00     NaN        NaN   \n",
       "\n",
       "   Transaction_Type Abbreviation              Description Self_Pay_TranCode  \n",
       "0                 P     COMPMT    Commercial Ins. Payment             False  \n",
       "1                 P     MRPMT            Medicare Payment             False  \n",
       "2                 P     MDPMT            Medicaid Payment             False  \n",
       "3                 P     COMPMT    Commercial Ins. Payment             False  \n",
       "4                 P     MRPMT            Medicare Payment             False  \n",
       "\n",
       "[5 rows x 29 columns]"
      ]
     },
     "execution_count": 1357,
     "metadata": {},
     "output_type": "execute_result"
    }
   ],
   "source": [
    "data_ald = df.copy()\n",
    "data_ald.head() "
   ]
  },
  {
   "cell_type": "code",
   "execution_count": 1358,
   "id": "266733ea",
   "metadata": {},
   "outputs": [],
   "source": [
    "data_ald = data_ald.drop_duplicates()\n",
    "data_ald = data_ald.dropna(subset = ['Original_Billing_Date','Date_Paid','Original_Carrier_Name'])"
   ]
  },
  {
   "cell_type": "code",
   "execution_count": 1359,
   "id": "1121d235",
   "metadata": {},
   "outputs": [],
   "source": [
    "data_ald[\"Original_Billing_Date\"] = pd.to_datetime(data_ald[\"Original_Billing_Date\"])      \n",
    "data_ald[\"Date_Paid\"] = pd.to_datetime(data_ald[\"Date_Paid\"]) "
   ]
  },
  {
   "cell_type": "code",
   "execution_count": 1360,
   "id": "01bb25af",
   "metadata": {},
   "outputs": [],
   "source": [
    "data_ald[\"Delay_in_days\"] = (pd.to_datetime(data_ald[\"Date_Paid\"]) - pd.to_datetime(data_ald[\"Original_Billing_Date\"])).dt.days\n",
    "data_ald=data_ald[(data_ald['Delay_in_days'] >= 0) & (data_ald['Delay_in_days'] <= 365)]\n",
    "data_ald = data_ald.drop(['Delay_in_days'],axis='columns')"
   ]
  },
  {
   "cell_type": "code",
   "execution_count": 1383,
   "id": "684742ef",
   "metadata": {},
   "outputs": [],
   "source": [
    "data_ald_by_service_id = data_ald.groupby([\"Service_ID\"], as_index=False).agg({\n",
    "    \"Patient_Number\": \"first\",\n",
    "    'patient_age': \"max\",\n",
    "    'Actual_Dr_Name': 'first',\n",
    "    'Place_of_Service_Abbr': 'first',\n",
    "    'Proc_Category_Abbr': 'first',\n",
    "    'Type_of_Service_Abbr': 'first',\n",
    "    'patient_zip_code': \"first\",\n",
    "    'patient_sex': \"first\",\n",
    "    'Original_Carrier_Name': \"first\",\n",
    "    'Patient_City': \"first\",\n",
    "    'Patient_State': \"first\",\n",
    "    'CoInsurance': \"max\",\n",
    "    'CoPayment': \"max\",\n",
    "    \"Primary_Diagnosis_Code\": \"first\",\n",
    "    \"Procedure_Code\": \"first\",\n",
    "    'Service_Units': \"max\",   #sum\n",
    "    \"Service_Fee\": \"max\",\n",
    "    'Allowed': 'max',\n",
    "    'Deductible': 'max',\n",
    "    \"Amount\":'sum',\n",
    "}\n",
    ")\n"
   ]
  },
  {
   "cell_type": "markdown",
   "id": "99c2e19b",
   "metadata": {},
   "source": [
    "## Score Calculation"
   ]
  },
  {
   "cell_type": "code",
   "execution_count": 1385,
   "id": "b982c1f7",
   "metadata": {},
   "outputs": [],
   "source": [
    "#Payment component Calculation\n",
    "data_ald_by_service_id['Amount_per_serv_unit'] = data_ald_by_service_id['Amount']/data_ald_by_service_id['Service_Units']"
   ]
  },
  {
   "cell_type": "code",
   "execution_count": 1390,
   "id": "c768de50",
   "metadata": {},
   "outputs": [
    {
     "data": {
      "text/plain": [
       "(103612, 32117, 22370)"
      ]
     },
     "execution_count": 1390,
     "metadata": {},
     "output_type": "execute_result"
    }
   ],
   "source": [
    "data_ald.shape[0],data_ald.Allowed.isna().sum(),data_ald_by_service_id.Allowed.isna().sum()"
   ]
  },
  {
   "cell_type": "code",
   "execution_count": 1387,
   "id": "11e4b843",
   "metadata": {},
   "outputs": [],
   "source": [
    "data_ald_by_service_id['Allowed_per_serv_unit'] = data_ald_by_service_id['Allowed']/data_ald_by_service_id['Service_Units']"
   ]
  },
  {
   "cell_type": "code",
   "execution_count": 1388,
   "id": "8686a92e",
   "metadata": {},
   "outputs": [
    {
     "data": {
      "text/plain": [
       "22370"
      ]
     },
     "execution_count": 1388,
     "metadata": {},
     "output_type": "execute_result"
    }
   ],
   "source": [
    "data_ald_by_service_id.Allowed_per_serv_unit.isna().sum()"
   ]
  },
  {
   "cell_type": "code",
   "execution_count": 1365,
   "id": "98edacb1",
   "metadata": {},
   "outputs": [],
   "source": [
    "# Filling missing values in Allowed column"
   ]
  },
  {
   "cell_type": "code",
   "execution_count": 1391,
   "id": "70a641ad",
   "metadata": {},
   "outputs": [],
   "source": [
    "## finding the mean 'Allowed' for a given cpt by a given payer\n",
    "cpt_allowed_mean = data_ald_by_service_id[~data_ald_by_service_id['Allowed_per_serv_unit'].isna()].groupby(['Original_Carrier_Name', 'Procedure_Code'])[['Allowed_per_serv_unit']].mean()\n",
    "cpt_allowed_dict = cpt_allowed_mean.to_dict('dict')['Allowed_per_serv_unit']"
   ]
  },
  {
   "cell_type": "code",
   "execution_count": 1392,
   "id": "c73c4f5a",
   "metadata": {},
   "outputs": [],
   "source": [
    "cpt_payer_allowed_dict = {}\n",
    "for payer_cpt, alwd_value in cpt_allowed_dict.items():\n",
    "    \n",
    "    payer_name, cpt_name = payer_cpt\n",
    "    \n",
    "    try:\n",
    "        cpt_payer_allowed_dict[cpt_name][payer_name] = alwd_value\n",
    "    except KeyError:\n",
    "        cpt_payer_allowed_dict[cpt_name] = {payer_name:alwd_value}\n",
    "        "
   ]
  },
  {
   "cell_type": "code",
   "execution_count": 1393,
   "id": "fb3a456f",
   "metadata": {},
   "outputs": [],
   "source": [
    "# cpt_allowed_dict = {cpt:list(d.values()) for cpt,d in cpt_payer_allowed_dict.items()}"
   ]
  },
  {
   "cell_type": "code",
   "execution_count": 1394,
   "id": "03235f23",
   "metadata": {},
   "outputs": [],
   "source": [
    "cpt_avg_allowed = {}\n",
    "for cpt, payer_allwd in cpt_payer_allowed_dict.items():\n",
    "    avg_allowed = sum(payer_allwd.values())/len(payer_allwd.values())\n",
    "    cpt_avg_allowed[cpt] = avg_allowed"
   ]
  },
  {
   "cell_type": "code",
   "execution_count": 1395,
   "id": "e81d4baf",
   "metadata": {},
   "outputs": [],
   "source": [
    "def get_payer_allowed_value(row):\n",
    "    \n",
    "    allowed = row['Allowed_per_serv_unit']\n",
    "\n",
    "    if not np.isnan(allowed):\n",
    "        \n",
    "        payor_allowed = allowed\n",
    "    \n",
    "    else:\n",
    "        \n",
    "        cpt = row['Procedure_Code']\n",
    "        payor = row['Original_Carrier_Name']\n",
    "        \n",
    "        \n",
    "        try:\n",
    "            payor_allowed = cpt_allowed_dict[payor,str(cpt)]\n",
    "        except KeyError:\n",
    "            try:\n",
    "                payor_allowed = cpt_avg_allowed[cpt]\n",
    "            except KeyError:\n",
    "                payor_allowed = None\n",
    "    return payor_allowed"
   ]
  },
  {
   "cell_type": "code",
   "execution_count": 1407,
   "id": "4cadbdb8",
   "metadata": {},
   "outputs": [],
   "source": [
    "data_ald_by_service_id['Allowed_per_serv_unit'] = data_ald_by_service_id.apply(get_payer_allowed_value,axis=1)"
   ]
  },
  {
   "cell_type": "code",
   "execution_count": 1408,
   "id": "fcb48f1a",
   "metadata": {},
   "outputs": [
    {
     "data": {
      "text/plain": [
       "16"
      ]
     },
     "execution_count": 1408,
     "metadata": {},
     "output_type": "execute_result"
    }
   ],
   "source": [
    "data_ald_by_service_id.Allowed_per_serv_unit.isna().sum()"
   ]
  },
  {
   "cell_type": "code",
   "execution_count": 1409,
   "id": "e2e7f9fa",
   "metadata": {},
   "outputs": [],
   "source": [
    "data_ald_by_service_id['Service_Fee_per_serv_unit'] = data_ald_by_service_id['Service_Fee']/data_ald_by_service_id['Service_Units']"
   ]
  },
  {
   "cell_type": "code",
   "execution_count": 1410,
   "id": "9322370f",
   "metadata": {},
   "outputs": [],
   "source": [
    "data_ald_by_service_id['allowed_ratio'] = data_ald_by_service_id['Allowed_per_serv_unit']/data_ald_by_service_id['Service_Fee_per_serv_unit']"
   ]
  },
  {
   "cell_type": "code",
   "execution_count": 1411,
   "id": "e80392ea",
   "metadata": {},
   "outputs": [
    {
     "data": {
      "text/plain": [
       "count    75140.000000\n",
       "mean         0.393713\n",
       "std          0.186941\n",
       "min          0.000028\n",
       "25%          0.264167\n",
       "50%          0.389167\n",
       "75%          0.502188\n",
       "max          1.360000\n",
       "Name: allowed_ratio, dtype: float64"
      ]
     },
     "execution_count": 1411,
     "metadata": {},
     "output_type": "execute_result"
    }
   ],
   "source": [
    "data_ald_by_service_id['allowed_ratio'].describe()"
   ]
  },
  {
   "cell_type": "code",
   "execution_count": 1412,
   "id": "a136f39c",
   "metadata": {},
   "outputs": [
    {
     "data": {
      "image/png": "[encoded data removed]",
      "text/plain": [
       "<Figure size 640x480 with 1 Axes>"
      ]
     },
     "metadata": {},
     "output_type": "display_data"
    }
   ],
   "source": [
    "data_ald_by_service_id['allowed_ratio'].plot(kind='hist');plt.show()"
   ]
  },
  {
   "cell_type": "code",
   "execution_count": 1413,
   "id": "e4f496fb",
   "metadata": {},
   "outputs": [],
   "source": [
    "allowed_ratio_q3 = data_ald_by_service_id['allowed_ratio'].quantile(0.75)"
   ]
  },
  {
   "cell_type": "code",
   "execution_count": 1414,
   "id": "4481633c",
   "metadata": {},
   "outputs": [
    {
     "data": {
      "text/plain": [
       "0.5021875"
      ]
     },
     "execution_count": 1414,
     "metadata": {},
     "output_type": "execute_result"
    }
   ],
   "source": [
    "allowed_ratio_q3"
   ]
  },
  {
   "cell_type": "code",
   "execution_count": 1415,
   "id": "8eb383a7",
   "metadata": {},
   "outputs": [],
   "source": [
    "data_ald_by_service_id.loc[data_ald_by_service_id['Allowed_per_serv_unit'].isna(), 'Allowed_per_serv_unit'] = data_ald_by_service_id['Service_Fee']*allowed_ratio_q3"
   ]
  },
  {
   "cell_type": "code",
   "execution_count": 1416,
   "id": "67f1c44b",
   "metadata": {},
   "outputs": [
    {
     "data": {
      "text/plain": [
       "0"
      ]
     },
     "execution_count": 1416,
     "metadata": {},
     "output_type": "execute_result"
    }
   ],
   "source": [
    "data_ald_by_service_id.Allowed_per_serv_unit.isna().sum()"
   ]
  },
  {
   "cell_type": "code",
   "execution_count": 1417,
   "id": "74b819cf",
   "metadata": {},
   "outputs": [
    {
     "data": {
      "text/plain": [
       "22370"
      ]
     },
     "execution_count": 1417,
     "metadata": {},
     "output_type": "execute_result"
    }
   ],
   "source": [
    "data_ald_by_service_id.Allowed.isna().sum()"
   ]
  },
  {
   "cell_type": "code",
   "execution_count": 1418,
   "id": "12b7e35e",
   "metadata": {},
   "outputs": [],
   "source": [
    "data_ald_by_service_id.loc[data_ald_by_service_id['Allowed'].isna(), 'Allowed'] = data_ald_by_service_id['Allowed_per_serv_unit']*data_ald_by_service_id['Service_Units']"
   ]
  },
  {
   "cell_type": "code",
   "execution_count": 1419,
   "id": "c9245ac5",
   "metadata": {
    "scrolled": true
   },
   "outputs": [
    {
     "data": {
      "text/plain": [
       "0"
      ]
     },
     "execution_count": 1419,
     "metadata": {},
     "output_type": "execute_result"
    }
   ],
   "source": [
    "data_ald_by_service_id.Allowed.isna().sum()"
   ]
  },
  {
   "cell_type": "code",
   "execution_count": 1420,
   "id": "1e489956",
   "metadata": {},
   "outputs": [],
   "source": [
    "# sid_ald_df = data_ald_by_service_id[['Service_ID','Allowed','Allowed_per_serv_unit']]\n",
    "# data_ald = data_ald.drop(['Allowed','Allowed_per_serv_unit'],axis='columns')\n",
    "# data_ald = data_ald.merge(sid_ald_df,how='left',on='Service_ID')\n",
    "# data_ald['payout_ratio'] = data_ald.Amount/data_ald.Allowed"
   ]
  },
  {
   "cell_type": "code",
   "execution_count": 1424,
   "id": "e5d475fd",
   "metadata": {},
   "outputs": [],
   "source": [
    "data_ald_by_service_id['payout_ratio'] = data_ald_by_service_id.Amount/data_ald_by_service_id.Allowed"
   ]
  },
  {
   "cell_type": "code",
   "execution_count": 1425,
   "id": "befd7a62",
   "metadata": {},
   "outputs": [
    {
     "data": {
      "text/plain": [
       "count    75156.000000\n",
       "mean         1.223464\n",
       "std        115.890899\n",
       "min          0.000000\n",
       "25%          0.000000\n",
       "50%          0.979979\n",
       "75%          1.000000\n",
       "max      29500.000000\n",
       "Name: payout_ratio, dtype: float64"
      ]
     },
     "execution_count": 1425,
     "metadata": {},
     "output_type": "execute_result"
    }
   ],
   "source": [
    "data_ald_by_service_id['payout_ratio'].describe()"
   ]
  },
  {
   "cell_type": "code",
   "execution_count": 1426,
   "id": "ca727b4a",
   "metadata": {},
   "outputs": [],
   "source": [
    "data_ald_by_service_id['payout_ratio'] = data_ald_by_service_id.payout_ratio.clip(upper=1)"
   ]
  },
  {
   "cell_type": "code",
   "execution_count": 1427,
   "id": "81d16d75",
   "metadata": {},
   "outputs": [
    {
     "data": {
      "text/plain": [
       "count    75156.000000\n",
       "mean         0.654371\n",
       "std          0.449502\n",
       "min          0.000000\n",
       "25%          0.000000\n",
       "50%          0.979979\n",
       "75%          1.000000\n",
       "max          1.000000\n",
       "Name: payout_ratio, dtype: float64"
      ]
     },
     "execution_count": 1427,
     "metadata": {},
     "output_type": "execute_result"
    }
   ],
   "source": [
    "data_ald_by_service_id['payout_ratio'].describe()"
   ]
  },
  {
   "cell_type": "code",
   "execution_count": 1428,
   "id": "8cb2b974",
   "metadata": {
    "scrolled": false
   },
   "outputs": [
    {
     "data": {
      "image/png": "[encoded data removed]",
      "text/plain": [
       "<Figure size 640x480 with 1 Axes>"
      ]
     },
     "metadata": {},
     "output_type": "display_data"
    }
   ],
   "source": [
    "data_ald_by_service_id.payout_ratio.plot(kind='hist');plt.show()"
   ]
  },
  {
   "cell_type": "code",
   "execution_count": 1430,
   "id": "91043b1f",
   "metadata": {},
   "outputs": [
    {
     "data": {
      "image/png": "[encoded data removed]",
      "text/plain": [
       "<Figure size 640x480 with 1 Axes>"
      ]
     },
     "metadata": {},
     "output_type": "display_data"
    }
   ],
   "source": [
    "from matplotlib.ticker import PercentFormatter\n",
    "\n",
    "data_ald_by_service_id.payout_ratio.plot(kind='hist',weights=np.ones(len(data_ald_by_service_id)) / len(data_ald_by_service_id))\n",
    "plt.gca().yaxis.set_major_formatter(PercentFormatter(1))\n",
    "plt.show()"
   ]
  },
  {
   "cell_type": "code",
   "execution_count": 1442,
   "id": "b195de7c",
   "metadata": {},
   "outputs": [
    {
     "data": {
      "text/plain": [
       "36416    9959\n",
       "83036    8659\n",
       "82044    6163\n",
       "82570    5522\n",
       "99214    5130\n",
       "         ... \n",
       "82728       1\n",
       "99422       1\n",
       "76700       1\n",
       "87389       1\n",
       "99222       1\n",
       "Name: Procedure_Code, Length: 108, dtype: int64"
      ]
     },
     "execution_count": 1442,
     "metadata": {},
     "output_type": "execute_result"
    }
   ],
   "source": [
    "data_ald_by_service_id.Procedure_Code.value_counts()"
   ]
  },
  {
   "cell_type": "code",
   "execution_count": 1447,
   "id": "073be02b",
   "metadata": {},
   "outputs": [
    {
     "data": {
      "text/plain": [
       "0.12773431262973017"
      ]
     },
     "execution_count": 1447,
     "metadata": {},
     "output_type": "execute_result"
    }
   ],
   "source": [
    "9600/75156"
   ]
  },
  {
   "cell_type": "code",
   "execution_count": 1443,
   "id": "1d4babe6",
   "metadata": {},
   "outputs": [
    {
     "data": {
      "text/plain": [
       "(75156, 26)"
      ]
     },
     "execution_count": 1443,
     "metadata": {},
     "output_type": "execute_result"
    }
   ],
   "source": [
    "data_ald_by_service_id.shape"
   ]
  },
  {
   "cell_type": "code",
   "execution_count": 1450,
   "id": "221a1540",
   "metadata": {
    "scrolled": true
   },
   "outputs": [
    {
     "data": {
      "text/html": [
       "<div>\n",
       "<style scoped>\n",
       "    .dataframe tbody tr th:only-of-type {\n",
       "        vertical-align: middle;\n",
       "    }\n",
       "\n",
       "    .dataframe tbody tr th {\n",
       "        vertical-align: top;\n",
       "    }\n",
       "\n",
       "    .dataframe thead th {\n",
       "        text-align: right;\n",
       "    }\n",
       "</style>\n",
       "<table border=\"1\" class=\"dataframe\">\n",
       "  <thead>\n",
       "    <tr style=\"text-align: right;\">\n",
       "      <th></th>\n",
       "      <th>Service_ID</th>\n",
       "      <th>Patient_Number</th>\n",
       "      <th>patient_age</th>\n",
       "      <th>Actual_Dr_Name</th>\n",
       "      <th>Place_of_Service_Abbr</th>\n",
       "      <th>Proc_Category_Abbr</th>\n",
       "      <th>Type_of_Service_Abbr</th>\n",
       "      <th>patient_zip_code</th>\n",
       "      <th>patient_sex</th>\n",
       "      <th>Original_Carrier_Name</th>\n",
       "      <th>...</th>\n",
       "      <th>Service_Units</th>\n",
       "      <th>Service_Fee</th>\n",
       "      <th>Allowed</th>\n",
       "      <th>Deductible</th>\n",
       "      <th>Amount</th>\n",
       "      <th>Amount_per_serv_unit</th>\n",
       "      <th>Allowed_per_serv_unit</th>\n",
       "      <th>Service_Fee_per_serv_unit</th>\n",
       "      <th>allowed_ratio</th>\n",
       "      <th>payout_ratio</th>\n",
       "    </tr>\n",
       "  </thead>\n",
       "  <tbody>\n",
       "    <tr>\n",
       "      <th>0</th>\n",
       "      <td>3135709</td>\n",
       "      <td>617000</td>\n",
       "      <td>65</td>\n",
       "      <td>Mary Girjis PA-C</td>\n",
       "      <td>EPS10Mil</td>\n",
       "      <td>LAB CHEM</td>\n",
       "      <td>LAB</td>\n",
       "      <td>48203</td>\n",
       "      <td>F</td>\n",
       "      <td>Molina Medicare Choice Care</td>\n",
       "      <td>...</td>\n",
       "      <td>1.0</td>\n",
       "      <td>18.0</td>\n",
       "      <td>7.777501</td>\n",
       "      <td>NaN</td>\n",
       "      <td>0.0</td>\n",
       "      <td>0.0</td>\n",
       "      <td>7.777501</td>\n",
       "      <td>18.0</td>\n",
       "      <td>0.432083</td>\n",
       "      <td>0.0</td>\n",
       "    </tr>\n",
       "    <tr>\n",
       "      <th>9</th>\n",
       "      <td>3140261</td>\n",
       "      <td>275660</td>\n",
       "      <td>68</td>\n",
       "      <td>Tessa Adams PA-C</td>\n",
       "      <td>EPDLiv</td>\n",
       "      <td>LAB CHEM</td>\n",
       "      <td>LAB</td>\n",
       "      <td>48228</td>\n",
       "      <td>F</td>\n",
       "      <td>Medicare  Mr</td>\n",
       "      <td>...</td>\n",
       "      <td>1.0</td>\n",
       "      <td>18.0</td>\n",
       "      <td>5.140000</td>\n",
       "      <td>NaN</td>\n",
       "      <td>0.0</td>\n",
       "      <td>0.0</td>\n",
       "      <td>5.140000</td>\n",
       "      <td>18.0</td>\n",
       "      <td>0.285556</td>\n",
       "      <td>0.0</td>\n",
       "    </tr>\n",
       "    <tr>\n",
       "      <th>11</th>\n",
       "      <td>3140288</td>\n",
       "      <td>430080</td>\n",
       "      <td>64</td>\n",
       "      <td>Tessa Adams PA-C</td>\n",
       "      <td>EPDLiv</td>\n",
       "      <td>LAB CHEM</td>\n",
       "      <td>LAB</td>\n",
       "      <td>48221</td>\n",
       "      <td>M</td>\n",
       "      <td>Blue Cross Complete (Medicaid)</td>\n",
       "      <td>...</td>\n",
       "      <td>1.0</td>\n",
       "      <td>18.0</td>\n",
       "      <td>7.777501</td>\n",
       "      <td>NaN</td>\n",
       "      <td>0.0</td>\n",
       "      <td>0.0</td>\n",
       "      <td>7.777501</td>\n",
       "      <td>18.0</td>\n",
       "      <td>0.432083</td>\n",
       "      <td>0.0</td>\n",
       "    </tr>\n",
       "    <tr>\n",
       "      <th>14</th>\n",
       "      <td>3145167</td>\n",
       "      <td>644330</td>\n",
       "      <td>55</td>\n",
       "      <td>Christopher Gadoua PA-C</td>\n",
       "      <td>EPS10Mil</td>\n",
       "      <td>LAB CHEM</td>\n",
       "      <td>LAB</td>\n",
       "      <td>48045</td>\n",
       "      <td>M</td>\n",
       "      <td>Blue Cross Complete (Medicaid)</td>\n",
       "      <td>...</td>\n",
       "      <td>1.0</td>\n",
       "      <td>18.0</td>\n",
       "      <td>7.777501</td>\n",
       "      <td>NaN</td>\n",
       "      <td>0.0</td>\n",
       "      <td>0.0</td>\n",
       "      <td>7.777501</td>\n",
       "      <td>18.0</td>\n",
       "      <td>0.432083</td>\n",
       "      <td>0.0</td>\n",
       "    </tr>\n",
       "    <tr>\n",
       "      <th>30</th>\n",
       "      <td>3146075</td>\n",
       "      <td>026527</td>\n",
       "      <td>52</td>\n",
       "      <td>Amber Kalabat FNP-BC</td>\n",
       "      <td>EPS10Mil</td>\n",
       "      <td>LAB CHEM</td>\n",
       "      <td>LAB</td>\n",
       "      <td>48072</td>\n",
       "      <td>F</td>\n",
       "      <td>Bcn</td>\n",
       "      <td>...</td>\n",
       "      <td>1.0</td>\n",
       "      <td>18.0</td>\n",
       "      <td>7.777501</td>\n",
       "      <td>NaN</td>\n",
       "      <td>0.0</td>\n",
       "      <td>0.0</td>\n",
       "      <td>7.777501</td>\n",
       "      <td>18.0</td>\n",
       "      <td>0.432083</td>\n",
       "      <td>0.0</td>\n",
       "    </tr>\n",
       "    <tr>\n",
       "      <th>...</th>\n",
       "      <td>...</td>\n",
       "      <td>...</td>\n",
       "      <td>...</td>\n",
       "      <td>...</td>\n",
       "      <td>...</td>\n",
       "      <td>...</td>\n",
       "      <td>...</td>\n",
       "      <td>...</td>\n",
       "      <td>...</td>\n",
       "      <td>...</td>\n",
       "      <td>...</td>\n",
       "      <td>...</td>\n",
       "      <td>...</td>\n",
       "      <td>...</td>\n",
       "      <td>...</td>\n",
       "      <td>...</td>\n",
       "      <td>...</td>\n",
       "      <td>...</td>\n",
       "      <td>...</td>\n",
       "      <td>...</td>\n",
       "      <td>...</td>\n",
       "    </tr>\n",
       "    <tr>\n",
       "      <th>75122</th>\n",
       "      <td>5622462</td>\n",
       "      <td>790650</td>\n",
       "      <td>63</td>\n",
       "      <td>Allen Toubia FNP</td>\n",
       "      <td>EPSHarp</td>\n",
       "      <td>LAB CHEM</td>\n",
       "      <td>LAB</td>\n",
       "      <td>480662804</td>\n",
       "      <td>M</td>\n",
       "      <td>Meridian Health Plan Of MI(MEDICAID)</td>\n",
       "      <td>...</td>\n",
       "      <td>1.0</td>\n",
       "      <td>22.0</td>\n",
       "      <td>7.680000</td>\n",
       "      <td>NaN</td>\n",
       "      <td>0.0</td>\n",
       "      <td>0.0</td>\n",
       "      <td>7.680000</td>\n",
       "      <td>22.0</td>\n",
       "      <td>0.349091</td>\n",
       "      <td>0.0</td>\n",
       "    </tr>\n",
       "    <tr>\n",
       "      <th>75134</th>\n",
       "      <td>5625500</td>\n",
       "      <td>553110</td>\n",
       "      <td>67</td>\n",
       "      <td>Kimberly Haggerty PA</td>\n",
       "      <td>EPDLiv</td>\n",
       "      <td>LAB CHEM</td>\n",
       "      <td>LAB</td>\n",
       "      <td>48221</td>\n",
       "      <td>F</td>\n",
       "      <td>WellCare Health Plan</td>\n",
       "      <td>...</td>\n",
       "      <td>1.0</td>\n",
       "      <td>22.0</td>\n",
       "      <td>7.777501</td>\n",
       "      <td>NaN</td>\n",
       "      <td>0.0</td>\n",
       "      <td>0.0</td>\n",
       "      <td>7.777501</td>\n",
       "      <td>22.0</td>\n",
       "      <td>0.353523</td>\n",
       "      <td>0.0</td>\n",
       "    </tr>\n",
       "    <tr>\n",
       "      <th>75140</th>\n",
       "      <td>5631035</td>\n",
       "      <td>319180</td>\n",
       "      <td>86</td>\n",
       "      <td>Kelly Wright</td>\n",
       "      <td>EP Fer</td>\n",
       "      <td>LAB CHEM</td>\n",
       "      <td>LAB</td>\n",
       "      <td>48322</td>\n",
       "      <td>M</td>\n",
       "      <td>Priority Health Medicare</td>\n",
       "      <td>...</td>\n",
       "      <td>1.0</td>\n",
       "      <td>22.0</td>\n",
       "      <td>7.777501</td>\n",
       "      <td>NaN</td>\n",
       "      <td>0.0</td>\n",
       "      <td>0.0</td>\n",
       "      <td>7.777501</td>\n",
       "      <td>22.0</td>\n",
       "      <td>0.353523</td>\n",
       "      <td>0.0</td>\n",
       "    </tr>\n",
       "    <tr>\n",
       "      <th>75147</th>\n",
       "      <td>5632340</td>\n",
       "      <td>362820</td>\n",
       "      <td>63</td>\n",
       "      <td>Frank Zuziak FNP-C</td>\n",
       "      <td>EPDLiv</td>\n",
       "      <td>LAB CHEM</td>\n",
       "      <td>LAB</td>\n",
       "      <td>48238</td>\n",
       "      <td>M</td>\n",
       "      <td>WellCare Health Plan</td>\n",
       "      <td>...</td>\n",
       "      <td>1.0</td>\n",
       "      <td>22.0</td>\n",
       "      <td>7.777501</td>\n",
       "      <td>NaN</td>\n",
       "      <td>0.0</td>\n",
       "      <td>0.0</td>\n",
       "      <td>7.777501</td>\n",
       "      <td>22.0</td>\n",
       "      <td>0.353523</td>\n",
       "      <td>0.0</td>\n",
       "    </tr>\n",
       "    <tr>\n",
       "      <th>75150</th>\n",
       "      <td>5632615</td>\n",
       "      <td>385900</td>\n",
       "      <td>66</td>\n",
       "      <td>Kelly Wright</td>\n",
       "      <td>EP Fer</td>\n",
       "      <td>LAB CHEM</td>\n",
       "      <td>LAB</td>\n",
       "      <td>48091</td>\n",
       "      <td>F</td>\n",
       "      <td>WellCare Health Plan</td>\n",
       "      <td>...</td>\n",
       "      <td>1.0</td>\n",
       "      <td>22.0</td>\n",
       "      <td>7.777501</td>\n",
       "      <td>NaN</td>\n",
       "      <td>0.0</td>\n",
       "      <td>0.0</td>\n",
       "      <td>7.777501</td>\n",
       "      <td>22.0</td>\n",
       "      <td>0.353523</td>\n",
       "      <td>0.0</td>\n",
       "    </tr>\n",
       "  </tbody>\n",
       "</table>\n",
       "<p>9608 rows × 26 columns</p>\n",
       "</div>"
      ],
      "text/plain": [
       "       Service_ID Patient_Number  patient_age           Actual_Dr_Name  \\\n",
       "0         3135709         617000           65         Mary Girjis PA-C   \n",
       "9         3140261         275660           68         Tessa Adams PA-C   \n",
       "11        3140288         430080           64         Tessa Adams PA-C   \n",
       "14        3145167         644330           55  Christopher Gadoua PA-C   \n",
       "30        3146075         026527           52     Amber Kalabat FNP-BC   \n",
       "...           ...            ...          ...                      ...   \n",
       "75122     5622462         790650           63         Allen Toubia FNP   \n",
       "75134     5625500         553110           67     Kimberly Haggerty PA   \n",
       "75140     5631035         319180           86             Kelly Wright   \n",
       "75147     5632340         362820           63       Frank Zuziak FNP-C   \n",
       "75150     5632615         385900           66             Kelly Wright   \n",
       "\n",
       "      Place_of_Service_Abbr Proc_Category_Abbr Type_of_Service_Abbr  \\\n",
       "0                  EPS10Mil           LAB CHEM             LAB        \n",
       "9                  EPDLiv             LAB CHEM             LAB        \n",
       "11                 EPDLiv             LAB CHEM             LAB        \n",
       "14                 EPS10Mil           LAB CHEM             LAB        \n",
       "30                 EPS10Mil           LAB CHEM             LAB        \n",
       "...                     ...                ...                  ...   \n",
       "75122              EPSHarp            LAB CHEM             LAB        \n",
       "75134              EPDLiv             LAB CHEM             LAB        \n",
       "75140              EP Fer             LAB CHEM             LAB        \n",
       "75147              EPDLiv             LAB CHEM             LAB        \n",
       "75150              EP Fer             LAB CHEM             LAB        \n",
       "\n",
       "      patient_zip_code patient_sex                 Original_Carrier_Name  ...  \\\n",
       "0                48203           F           Molina Medicare Choice Care  ...   \n",
       "9                48228           F                          Medicare  Mr  ...   \n",
       "11               48221           M        Blue Cross Complete (Medicaid)  ...   \n",
       "14               48045           M        Blue Cross Complete (Medicaid)  ...   \n",
       "30               48072           F                                   Bcn  ...   \n",
       "...                ...         ...                                   ...  ...   \n",
       "75122        480662804           M  Meridian Health Plan Of MI(MEDICAID)  ...   \n",
       "75134            48221           F                  WellCare Health Plan  ...   \n",
       "75140            48322           M              Priority Health Medicare  ...   \n",
       "75147            48238           M                  WellCare Health Plan  ...   \n",
       "75150            48091           F                  WellCare Health Plan  ...   \n",
       "\n",
       "      Service_Units Service_Fee   Allowed  Deductible Amount  \\\n",
       "0               1.0        18.0  7.777501         NaN    0.0   \n",
       "9               1.0        18.0  5.140000         NaN    0.0   \n",
       "11              1.0        18.0  7.777501         NaN    0.0   \n",
       "14              1.0        18.0  7.777501         NaN    0.0   \n",
       "30              1.0        18.0  7.777501         NaN    0.0   \n",
       "...             ...         ...       ...         ...    ...   \n",
       "75122           1.0        22.0  7.680000         NaN    0.0   \n",
       "75134           1.0        22.0  7.777501         NaN    0.0   \n",
       "75140           1.0        22.0  7.777501         NaN    0.0   \n",
       "75147           1.0        22.0  7.777501         NaN    0.0   \n",
       "75150           1.0        22.0  7.777501         NaN    0.0   \n",
       "\n",
       "      Amount_per_serv_unit  Allowed_per_serv_unit  Service_Fee_per_serv_unit  \\\n",
       "0                      0.0               7.777501                       18.0   \n",
       "9                      0.0               5.140000                       18.0   \n",
       "11                     0.0               7.777501                       18.0   \n",
       "14                     0.0               7.777501                       18.0   \n",
       "30                     0.0               7.777501                       18.0   \n",
       "...                    ...                    ...                        ...   \n",
       "75122                  0.0               7.680000                       22.0   \n",
       "75134                  0.0               7.777501                       22.0   \n",
       "75140                  0.0               7.777501                       22.0   \n",
       "75147                  0.0               7.777501                       22.0   \n",
       "75150                  0.0               7.777501                       22.0   \n",
       "\n",
       "       allowed_ratio  payout_ratio  \n",
       "0           0.432083           0.0  \n",
       "9           0.285556           0.0  \n",
       "11          0.432083           0.0  \n",
       "14          0.432083           0.0  \n",
       "30          0.432083           0.0  \n",
       "...              ...           ...  \n",
       "75122       0.349091           0.0  \n",
       "75134       0.353523           0.0  \n",
       "75140       0.353523           0.0  \n",
       "75147       0.353523           0.0  \n",
       "75150       0.353523           0.0  \n",
       "\n",
       "[9608 rows x 26 columns]"
      ]
     },
     "execution_count": 1450,
     "metadata": {},
     "output_type": "execute_result"
    }
   ],
   "source": [
    "data_ald_by_service_id[(data_ald_by_service_id.Procedure_Code==\"36416\") & (data_ald_by_service_id.Amount== 0)]"
   ]
  },
  {
   "cell_type": "code",
   "execution_count": 1451,
   "id": "ee4c1fb7",
   "metadata": {},
   "outputs": [
    {
     "data": {
      "text/plain": [
       "{'Administrative Concepts Inc': 8.392857142857142,\n",
       " 'Aetna': 16.524166666666666,\n",
       " 'Aetna Dual Complete': 18.0,\n",
       " 'Aetna Medicare': 3.168275862068966,\n",
       " 'Aetna Medicare Assure': 2.72,\n",
       " 'Aetna Voluntary': 17.0825,\n",
       " 'Aetna(Medicaid) Better Health of Mi': 4.5,\n",
       " 'Alliance Health and Ins Co': 3.82,\n",
       " 'Allied Benefit Systems Inc': 2.99,\n",
       " 'BCBS of Michigan': 2.14,\n",
       " 'BCBS of Michigan - Ep': 2.14,\n",
       " 'Bind UnitedHealth Group': 1.98,\n",
       " 'Champva': 8.57,\n",
       " 'Cigna': 18.0,\n",
       " 'Employee Benefit Logistics': 18.0,\n",
       " 'Hap': 3.486666666666667,\n",
       " 'Hap Preferred PPO': 3.82,\n",
       " 'MEDICA': 1.98,\n",
       " 'Mclaren Health Plan': 11.09235294117647,\n",
       " 'Mclaren Medicaid Health Plan': 15.0,\n",
       " 'Medicaid   Michigan  Mdch': 15.0,\n",
       " 'Medicare  Mr': 5.14,\n",
       " 'Meridian Health Plan Of MI(MEDICAID)': 7.68,\n",
       " 'Meridian Healthcare of Mi': 7.68,\n",
       " 'Meritain Health': 2.6,\n",
       " 'Molina Marketplace': 10.59,\n",
       " 'PHCS Limit Benefits Plan': 2.99,\n",
       " 'Paramount Healthcare': 2.72,\n",
       " 'Trustmark Health Benefits': 2.79,\n",
       " 'UMR': 8.108225806451614,\n",
       " 'United Healthcare': 1.9799999999999998,\n",
       " 'United Healthcare Dual Complete': 18.0,\n",
       " 'United Healthcare Medicare': 18.0,\n",
       " 'United Healthcare Oxford': 1.98,\n",
       " 'Varipro': 3.5475}"
      ]
     },
     "execution_count": 1451,
     "metadata": {},
     "output_type": "execute_result"
    }
   ],
   "source": [
    "cpt_payer_allowed_dict['36416']"
   ]
  },
  {
   "cell_type": "code",
   "execution_count": 1441,
   "id": "5d0a9681",
   "metadata": {
    "scrolled": false
   },
   "outputs": [
    {
     "data": {
      "text/plain": [
       "36416    9608\n",
       "36415    1727\n",
       "82570    1522\n",
       "82962    1132\n",
       "92250    1006\n",
       "83036    1001\n",
       "82044     862\n",
       "80053     654\n",
       "99214     653\n",
       "81002     646\n",
       "G0506     505\n",
       "G9001     477\n",
       "G9008     473\n",
       "84443     439\n",
       "80061     427\n",
       "93922     288\n",
       "99051     233\n",
       "99490     209\n",
       "G9002     142\n",
       "1111F     140\n",
       "95250     139\n",
       "95251     136\n",
       "99489     136\n",
       "93000     134\n",
       "99439     108\n",
       "85025      88\n",
       "80048      74\n",
       "G9007      71\n",
       "94690      64\n",
       "99204      62\n",
       "99213      60\n",
       "82043      54\n",
       "99487      41\n",
       "99211      22\n",
       "84439      11\n",
       "99203      10\n",
       "Name: Procedure_Code, dtype: int64"
      ]
     },
     "execution_count": 1441,
     "metadata": {},
     "output_type": "execute_result"
    }
   ],
   "source": [
    "data_ald_by_service_id[data_ald_by_service_id.payout_ratio==0].Procedure_Code.value_counts()[data_ald_by_service_id[data_ald_by_service_id.payout_ratio==0].Procedure_Code.value_counts()>5]"
   ]
  }
 ],
 "metadata": {
  "kernelspec": {
   "display_name": "Python 3 (ipykernel)",
   "language": "python",
   "name": "python3"
  },
  "language_info": {
   "codemirror_mode": {
    "name": "ipython",
    "version": 3
   },
   "file_extension": ".py",
   "mimetype": "text/x-python",
   "name": "python",
   "nbconvert_exporter": "python",
   "pygments_lexer": "ipython3",
   "version": "3.9.16"
  }
 },
 "nbformat": 4,
 "nbformat_minor": 5
}
